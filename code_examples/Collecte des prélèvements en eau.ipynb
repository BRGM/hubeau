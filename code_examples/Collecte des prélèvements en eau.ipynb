{
 "cells": [
  {
   "cell_type": "markdown",
   "metadata": {
    "slideshow": {
     "slide_type": "slide"
    }
   },
   "source": [
    "# Téléchargement des données des prélèvements en eau avec Hub'Eau\n",
    "*Antonio Andrade, ingénieur de données, [Office français de la biodiversité](https://ofb.gouv.fr/)*  "
   ]
  },
  {
   "cell_type": "markdown",
   "metadata": {
    "slideshow": {
     "slide_type": "slide"
    }
   },
   "source": [
    "[Hub'Eau](https://hubeau.eaufrance.fr/) est une plateforme nationale d'API REST permettant d'automatiser l'accès et le traitement des données ouvertes du [Sytème d'Information sur l'Eau (SIE)](https://www.eaufrance.fr/le-systeme-dinformation-sur-leau-sie) Ce tutoriel illustre l'utilisation de l'[API Prélèvements en eau](https://hubeau.eaufrance.fr/page/api-prelevements-eau) pour télécharger les données déclaratives collectées par les agences et offices de l'eau et réunies dans la banque nationale des prélèvements en eau, [BNPE](https://bnpe.eaufrance.fr/)."
   ]
  },
  {
   "cell_type": "markdown",
   "metadata": {
    "slideshow": {
     "slide_type": "slide"
    }
   },
   "source": [
    "## Chargement des modules\n",
    "Commençons par charger en mémoire les modules python nécessaires pour nos traitements :\n",
    "- les modules standards `os` et `requests` pour interagir avec le système d'exploitation et les API REST Hub'Eau\n",
    "- le module `pandas` pour traiter des données structurées alphanumériques"
   ]
  },
  {
   "cell_type": "code",
   "execution_count": 1,
   "metadata": {
    "slideshow": {
     "slide_type": "slide"
    }
   },
   "outputs": [
    {
     "name": "stdout",
     "output_type": "stream",
     "text": [
      "Chargement OK\n"
     ]
    }
   ],
   "source": [
    "# Chargement des modules nécessaires à nos traitements\n",
    "import os\n",
    "import requests\n",
    "\n",
    "import pandas\n",
    "\n",
    "print(\"Chargement OK\")"
   ]
  },
  {
   "cell_type": "markdown",
   "metadata": {
    "slideshow": {
     "slide_type": "slide"
    }
   },
   "source": [
    "## Paramétrage du téléchargement\n",
    "Poursuivons avec le paramétrage de notre traitement :"
   ]
  },
  {
   "cell_type": "code",
   "execution_count": 2,
   "metadata": {
    "slideshow": {
     "slide_type": "slide"
    }
   },
   "outputs": [
    {
     "name": "stdout",
     "output_type": "stream",
     "text": [
      "Paramétrage OK\n"
     ]
    }
   ],
   "source": [
    "# URL de base des API Hub'Eau\n",
    "base = \"http://hubeau.eaufrance.fr/api\"\n",
    "# Point d'accès de l'API Hub'Eau Prélèvements en eau\n",
    "endpoint = \"v1/prelevements\"\n",
    "# Opération correspondant aux chroniques de prélèvement en eau\n",
    "operation = \"chroniques\"\n",
    "# Nombre de résultats par page\n",
    "page_size = 1000\n",
    "# Nombre maximum de résultats pour une recherche\n",
    "max_results = 20000\n",
    "\n",
    "# Années des prélèvements\n",
    "years = [\"2017\", \"2018\", \"2019\"]\n",
    "# Données attendues dans la réponse (cf. données disponibles du modèle Chonique)\n",
    "fields = [\n",
    "    \"code_ouvrage\",\n",
    "    \"nom_ouvrage\",\n",
    "    \"code_commune_insee\",\n",
    "    \"nom_commune\",\n",
    "    \"code_departement\",\n",
    "    \"libelle_departement\"\n",
    "    \"code_usage\",\n",
    "    \"libelle_usage\",\n",
    "    \"volume\",\n",
    "    \"code_qualification_volume\",\n",
    "    \"libelle_qualification_volume\",\n",
    "    \"producteur_donnee\"\n",
    "]\n",
    "\n",
    "print(\"Paramétrage OK\")"
   ]
  },
  {
   "cell_type": "markdown",
   "metadata": {
    "slideshow": {
     "slide_type": "slide"
    }
   },
   "source": [
    "## Téléchargement des données au format json\n",
    "Construisons d'abord l'URL de téléchargement des chroniques recherchées :"
   ]
  },
  {
   "cell_type": "code",
   "execution_count": 3,
   "metadata": {
    "slideshow": {
     "slide_type": "slide"
    }
   },
   "outputs": [
    {
     "data": {
      "text/plain": [
       "'http://hubeau.eaufrance.fr/api/v1/prelevements/chroniques?annee=2017,2018,2019&fields=code_ouvrage,nom_ouvrage,code_commune_insee,nom_commune,code_departement,libelle_departementcode_usage,libelle_usage,volume,code_qualification_volume,libelle_qualification_volume,producteur_donnee&size=1000'"
      ]
     },
     "execution_count": 3,
     "metadata": {},
     "output_type": "execute_result"
    }
   ],
   "source": [
    "# Paramètres de la recherche des chroniques\n",
    "parameters = [\n",
    "    {\n",
    "        \"parameter\": \"annee\",\n",
    "        \"value\": \",\".join(years)\n",
    "    },\n",
    "    {\n",
    "        \"parameter\": \"fields\",\n",
    "        \"value\": \",\".join(fields)\n",
    "    },\n",
    "    {\n",
    "        \"parameter\": \"size\",\n",
    "        \"value\": page_size\n",
    "    }\n",
    "]\n",
    "# URL de téléchargement des résultats de la recherche\n",
    "parameters = \"&\".join([f\"{param['parameter']}={param['value']}\" for param in parameters])\n",
    "hubeau_url = f\"{base}/{endpoint}/{operation}?{parameters}\"\n",
    "hubeau_url"
   ]
  },
  {
   "cell_type": "markdown",
   "metadata": {
    "slideshow": {
     "slide_type": "slide"
    }
   },
   "source": [
    "Téléchargeons maintenant les chroniques recherchées en commençant par la 1ère page :"
   ]
  },
  {
   "cell_type": "code",
   "execution_count": 4,
   "metadata": {
    "slideshow": {
     "slide_type": "slide"
    }
   },
   "outputs": [
    {
     "name": "stdout",
     "output_type": "stream",
     "text": [
      "Le nombre de résultats dépasse le seuil maximum de 20000. Seuls les 20000 premiers résultats seront téléchargés\n"
     ]
    },
    {
     "data": {
      "text/plain": [
       "{'code_ouvrage': 'OPR0000000003',\n",
       " 'volume': 11490.0,\n",
       " 'libelle_usage': 'EAU POTABLE',\n",
       " 'code_qualification_volume': '1',\n",
       " 'libelle_qualification_volume': 'Correcte',\n",
       " 'producteur_donnee': 'AERM',\n",
       " 'code_commune_insee': '52332',\n",
       " 'nom_commune': 'Val-de-Meuse',\n",
       " 'code_departement': '52',\n",
       " 'nom_ouvrage': \"COMMUNE D'AVRECOURT\"}"
      ]
     },
     "execution_count": 4,
     "metadata": {},
     "output_type": "execute_result"
    }
   ],
   "source": [
    "# Récupération de la 1ère page de résultats\n",
    "response = requests.get(hubeau_url)\n",
    "# Conversion de la chaîne de texte au format json dans un dictionnaire python\n",
    "response = response.json()\n",
    "\n",
    "if response['count'] > max_results:\n",
    "    print(\"Le nombre de résultats dépasse le seuil maximum de {0}. \" \\\n",
    "          \"Seuls les {0} premiers résultats seront téléchargés\".format(max_results))\n",
    "\n",
    "# Extraction des données de la 1ère page de résultats\n",
    "data = response['data']\n",
    "# Initialisation du nombre de résultats requêtés\n",
    "nb_results = page_size\n",
    "\n",
    "# Affichage du 1er résultat de recherche\n",
    "data[0]"
   ]
  },
  {
   "cell_type": "markdown",
   "metadata": {
    "slideshow": {
     "slide_type": "slide"
    }
   },
   "source": [
    "Téléchargeons ensuite les résultats page par page :"
   ]
  },
  {
   "cell_type": "code",
   "execution_count": 5,
   "metadata": {
    "slideshow": {
     "slide_type": "slide"
    }
   },
   "outputs": [
    {
     "name": "stdout",
     "output_type": "stream",
     "text": [
      "https://hubeau.eaufrance.fr/api/v1/prelevements/chroniques?annee=2017,2018,2019&fields=code_ouvrage,nom_ouvrage,code_commune_insee,nom_commune,code_departement,libelle_departementcode_usage,libelle_usage,volume,code_qualification_volume,libelle_qualification_volume,producteur_donnee&page=2&size=1000\n",
      "https://hubeau.eaufrance.fr/api/v1/prelevements/chroniques?annee=2017,2018,2019&fields=code_ouvrage,nom_ouvrage,code_commune_insee,nom_commune,code_departement,libelle_departementcode_usage,libelle_usage,volume,code_qualification_volume,libelle_qualification_volume,producteur_donnee&page=3&size=1000\n",
      "https://hubeau.eaufrance.fr/api/v1/prelevements/chroniques?annee=2017,2018,2019&fields=code_ouvrage,nom_ouvrage,code_commune_insee,nom_commune,code_departement,libelle_departementcode_usage,libelle_usage,volume,code_qualification_volume,libelle_qualification_volume,producteur_donnee&page=4&size=1000\n",
      "https://hubeau.eaufrance.fr/api/v1/prelevements/chroniques?annee=2017,2018,2019&fields=code_ouvrage,nom_ouvrage,code_commune_insee,nom_commune,code_departement,libelle_departementcode_usage,libelle_usage,volume,code_qualification_volume,libelle_qualification_volume,producteur_donnee&page=5&size=1000\n",
      "https://hubeau.eaufrance.fr/api/v1/prelevements/chroniques?annee=2017,2018,2019&fields=code_ouvrage,nom_ouvrage,code_commune_insee,nom_commune,code_departement,libelle_departementcode_usage,libelle_usage,volume,code_qualification_volume,libelle_qualification_volume,producteur_donnee&page=6&size=1000\n",
      "https://hubeau.eaufrance.fr/api/v1/prelevements/chroniques?annee=2017,2018,2019&fields=code_ouvrage,nom_ouvrage,code_commune_insee,nom_commune,code_departement,libelle_departementcode_usage,libelle_usage,volume,code_qualification_volume,libelle_qualification_volume,producteur_donnee&page=7&size=1000\n",
      "https://hubeau.eaufrance.fr/api/v1/prelevements/chroniques?annee=2017,2018,2019&fields=code_ouvrage,nom_ouvrage,code_commune_insee,nom_commune,code_departement,libelle_departementcode_usage,libelle_usage,volume,code_qualification_volume,libelle_qualification_volume,producteur_donnee&page=8&size=1000\n",
      "https://hubeau.eaufrance.fr/api/v1/prelevements/chroniques?annee=2017,2018,2019&fields=code_ouvrage,nom_ouvrage,code_commune_insee,nom_commune,code_departement,libelle_departementcode_usage,libelle_usage,volume,code_qualification_volume,libelle_qualification_volume,producteur_donnee&page=9&size=1000\n",
      "https://hubeau.eaufrance.fr/api/v1/prelevements/chroniques?annee=2017,2018,2019&fields=code_ouvrage,nom_ouvrage,code_commune_insee,nom_commune,code_departement,libelle_departementcode_usage,libelle_usage,volume,code_qualification_volume,libelle_qualification_volume,producteur_donnee&page=10&size=1000\n",
      "https://hubeau.eaufrance.fr/api/v1/prelevements/chroniques?annee=2017,2018,2019&fields=code_ouvrage,nom_ouvrage,code_commune_insee,nom_commune,code_departement,libelle_departementcode_usage,libelle_usage,volume,code_qualification_volume,libelle_qualification_volume,producteur_donnee&page=11&size=1000\n",
      "https://hubeau.eaufrance.fr/api/v1/prelevements/chroniques?annee=2017,2018,2019&fields=code_ouvrage,nom_ouvrage,code_commune_insee,nom_commune,code_departement,libelle_departementcode_usage,libelle_usage,volume,code_qualification_volume,libelle_qualification_volume,producteur_donnee&page=12&size=1000\n",
      "https://hubeau.eaufrance.fr/api/v1/prelevements/chroniques?annee=2017,2018,2019&fields=code_ouvrage,nom_ouvrage,code_commune_insee,nom_commune,code_departement,libelle_departementcode_usage,libelle_usage,volume,code_qualification_volume,libelle_qualification_volume,producteur_donnee&page=13&size=1000\n",
      "https://hubeau.eaufrance.fr/api/v1/prelevements/chroniques?annee=2017,2018,2019&fields=code_ouvrage,nom_ouvrage,code_commune_insee,nom_commune,code_departement,libelle_departementcode_usage,libelle_usage,volume,code_qualification_volume,libelle_qualification_volume,producteur_donnee&page=14&size=1000\n",
      "https://hubeau.eaufrance.fr/api/v1/prelevements/chroniques?annee=2017,2018,2019&fields=code_ouvrage,nom_ouvrage,code_commune_insee,nom_commune,code_departement,libelle_departementcode_usage,libelle_usage,volume,code_qualification_volume,libelle_qualification_volume,producteur_donnee&page=15&size=1000\n",
      "https://hubeau.eaufrance.fr/api/v1/prelevements/chroniques?annee=2017,2018,2019&fields=code_ouvrage,nom_ouvrage,code_commune_insee,nom_commune,code_departement,libelle_departementcode_usage,libelle_usage,volume,code_qualification_volume,libelle_qualification_volume,producteur_donnee&page=16&size=1000\n",
      "https://hubeau.eaufrance.fr/api/v1/prelevements/chroniques?annee=2017,2018,2019&fields=code_ouvrage,nom_ouvrage,code_commune_insee,nom_commune,code_departement,libelle_departementcode_usage,libelle_usage,volume,code_qualification_volume,libelle_qualification_volume,producteur_donnee&page=17&size=1000\n",
      "https://hubeau.eaufrance.fr/api/v1/prelevements/chroniques?annee=2017,2018,2019&fields=code_ouvrage,nom_ouvrage,code_commune_insee,nom_commune,code_departement,libelle_departementcode_usage,libelle_usage,volume,code_qualification_volume,libelle_qualification_volume,producteur_donnee&page=18&size=1000\n",
      "https://hubeau.eaufrance.fr/api/v1/prelevements/chroniques?annee=2017,2018,2019&fields=code_ouvrage,nom_ouvrage,code_commune_insee,nom_commune,code_departement,libelle_departementcode_usage,libelle_usage,volume,code_qualification_volume,libelle_qualification_volume,producteur_donnee&page=19&size=1000\n",
      "https://hubeau.eaufrance.fr/api/v1/prelevements/chroniques?annee=2017,2018,2019&fields=code_ouvrage,nom_ouvrage,code_commune_insee,nom_commune,code_departement,libelle_departementcode_usage,libelle_usage,volume,code_qualification_volume,libelle_qualification_volume,producteur_donnee&page=20&size=1000\n",
      "Nb de résultats récupérés : 20000\n"
     ]
    }
   ],
   "source": [
    "# Initialisation d'un indicateur de traitement de la dernière page\n",
    "last_page = False\n",
    "\n",
    "# Récupération des résultats des pages suivantes\n",
    "# L'attribut next est null (None en Python) lorsque la dernière page est atteinte\n",
    "while response['next'] is not None and not last_page:\n",
    "    # URL de la ième page de résultats\n",
    "    hubeau_url = response['next']\n",
    "\n",
    "    if (nb_results + page_size) >= max_results:\n",
    "        # Re paramétrage du nombre de résultats de la dernière page\n",
    "        hubeau_url = hubeau_url.replace(\n",
    "            f\"size={page_size}\", \"size={}\".format(max_results - nb_results)\n",
    "        )\n",
    "        last_page = True\n",
    "\n",
    "    # Récupération de la ième page de résultats\n",
    "    print(hubeau_url)\n",
    "    response = requests.get(hubeau_url)\n",
    "    # Conversion de la chaîne de texte au format json dans un dictionnaire python\n",
    "    response = response.json()\n",
    "    # Extraction et union des données d'analyse\n",
    "    data += response['data']\n",
    "    # Incrémentation du nombre de résultats requêtés\n",
    "    nb_results += page_size\n",
    "\n",
    "# Affichage du nombre de résultats récupérés\n",
    "print(\"Nb de résultats récupérés : {}\".format(len(data)))"
   ]
  },
  {
   "cell_type": "markdown",
   "metadata": {
    "slideshow": {
     "slide_type": "slide"
    }
   },
   "source": [
    "## Enregistrement des données au format csv\n",
    "Terminons notre traitement avec l'enregistrement des données au format CSV :"
   ]
  },
  {
   "cell_type": "code",
   "execution_count": 6,
   "metadata": {
    "slideshow": {
     "slide_type": "slide"
    }
   },
   "outputs": [
    {
     "data": {
      "text/html": [
       "<div>\n",
       "<style scoped>\n",
       "    .dataframe tbody tr th:only-of-type {\n",
       "        vertical-align: middle;\n",
       "    }\n",
       "\n",
       "    .dataframe tbody tr th {\n",
       "        vertical-align: top;\n",
       "    }\n",
       "\n",
       "    .dataframe thead th {\n",
       "        text-align: right;\n",
       "    }\n",
       "</style>\n",
       "<table border=\"1\" class=\"dataframe\">\n",
       "  <thead>\n",
       "    <tr style=\"text-align: right;\">\n",
       "      <th></th>\n",
       "      <th>code_ouvrage</th>\n",
       "      <th>volume</th>\n",
       "      <th>libelle_usage</th>\n",
       "      <th>code_qualification_volume</th>\n",
       "      <th>libelle_qualification_volume</th>\n",
       "      <th>producteur_donnee</th>\n",
       "      <th>code_commune_insee</th>\n",
       "      <th>nom_commune</th>\n",
       "      <th>code_departement</th>\n",
       "      <th>nom_ouvrage</th>\n",
       "    </tr>\n",
       "  </thead>\n",
       "  <tbody>\n",
       "    <tr>\n",
       "      <th>0</th>\n",
       "      <td>OPR0000000003</td>\n",
       "      <td>11490.0</td>\n",
       "      <td>EAU POTABLE</td>\n",
       "      <td>1</td>\n",
       "      <td>Correcte</td>\n",
       "      <td>AERM</td>\n",
       "      <td>52332</td>\n",
       "      <td>Val-de-Meuse</td>\n",
       "      <td>52</td>\n",
       "      <td>COMMUNE D'AVRECOURT</td>\n",
       "    </tr>\n",
       "    <tr>\n",
       "      <th>1</th>\n",
       "      <td>OPR0000000003</td>\n",
       "      <td>10290.0</td>\n",
       "      <td>EAU POTABLE</td>\n",
       "      <td>1</td>\n",
       "      <td>Correcte</td>\n",
       "      <td>AERM</td>\n",
       "      <td>52332</td>\n",
       "      <td>Val-de-Meuse</td>\n",
       "      <td>52</td>\n",
       "      <td>COMMUNE D'AVRECOURT</td>\n",
       "    </tr>\n",
       "    <tr>\n",
       "      <th>2</th>\n",
       "      <td>OPR0000000003</td>\n",
       "      <td>9316.0</td>\n",
       "      <td>EAU POTABLE</td>\n",
       "      <td>1</td>\n",
       "      <td>Correcte</td>\n",
       "      <td>AERM</td>\n",
       "      <td>52332</td>\n",
       "      <td>Val-de-Meuse</td>\n",
       "      <td>52</td>\n",
       "      <td>COMMUNE D'AVRECOURT</td>\n",
       "    </tr>\n",
       "    <tr>\n",
       "      <th>3</th>\n",
       "      <td>OPR0000000004</td>\n",
       "      <td>740.0</td>\n",
       "      <td>EAU POTABLE</td>\n",
       "      <td>1</td>\n",
       "      <td>Correcte</td>\n",
       "      <td>AERM</td>\n",
       "      <td>52064</td>\n",
       "      <td>Bourmont-entre-Meuse-et-Mouzon</td>\n",
       "      <td>52</td>\n",
       "      <td>COMMUNE DE BOURMONT-ENTRE-MEUSE-ET-MOUZON</td>\n",
       "    </tr>\n",
       "    <tr>\n",
       "      <th>4</th>\n",
       "      <td>OPR0000000004</td>\n",
       "      <td>12488.0</td>\n",
       "      <td>EAU POTABLE</td>\n",
       "      <td>1</td>\n",
       "      <td>Correcte</td>\n",
       "      <td>AERM</td>\n",
       "      <td>52064</td>\n",
       "      <td>Bourmont-entre-Meuse-et-Mouzon</td>\n",
       "      <td>52</td>\n",
       "      <td>COMMUNE DE BOURMONT-ENTRE-MEUSE-ET-MOUZON</td>\n",
       "    </tr>\n",
       "  </tbody>\n",
       "</table>\n",
       "</div>"
      ],
      "text/plain": [
       "    code_ouvrage   volume libelle_usage code_qualification_volume  \\\n",
       "0  OPR0000000003  11490.0   EAU POTABLE                         1   \n",
       "1  OPR0000000003  10290.0   EAU POTABLE                         1   \n",
       "2  OPR0000000003   9316.0   EAU POTABLE                         1   \n",
       "3  OPR0000000004    740.0   EAU POTABLE                         1   \n",
       "4  OPR0000000004  12488.0   EAU POTABLE                         1   \n",
       "\n",
       "  libelle_qualification_volume producteur_donnee code_commune_insee  \\\n",
       "0                     Correcte              AERM              52332   \n",
       "1                     Correcte              AERM              52332   \n",
       "2                     Correcte              AERM              52332   \n",
       "3                     Correcte              AERM              52064   \n",
       "4                     Correcte              AERM              52064   \n",
       "\n",
       "                      nom_commune code_departement  \\\n",
       "0                    Val-de-Meuse               52   \n",
       "1                    Val-de-Meuse               52   \n",
       "2                    Val-de-Meuse               52   \n",
       "3  Bourmont-entre-Meuse-et-Mouzon               52   \n",
       "4  Bourmont-entre-Meuse-et-Mouzon               52   \n",
       "\n",
       "                                 nom_ouvrage  \n",
       "0                        COMMUNE D'AVRECOURT  \n",
       "1                        COMMUNE D'AVRECOURT  \n",
       "2                        COMMUNE D'AVRECOURT  \n",
       "3  COMMUNE DE BOURMONT-ENTRE-MEUSE-ET-MOUZON  \n",
       "4  COMMUNE DE BOURMONT-ENTRE-MEUSE-ET-MOUZON  "
      ]
     },
     "execution_count": 6,
     "metadata": {},
     "output_type": "execute_result"
    }
   ],
   "source": [
    "# Création d'un DataFrame à partir du dictionnaire python\n",
    "df = pandas.DataFrame(data)\n",
    "\n",
    "# Enregistrement des données dans un fichier csv stocké dans le même dossier que\n",
    "# le notebook\n",
    "df.to_csv(\n",
    "    os.path.join(os.getcwd(), \"bnpe_chroniques_{}.csv\".format(\"-\".join(years))),\n",
    "    sep=';',\n",
    "    header=True,\n",
    "    index=False,\n",
    "    mode='w',\n",
    "    encoding='utf8',\n",
    "    chunksize=100000)\n",
    "\n",
    "# Affichage des 1ères lignes de données du DataFrame\n",
    "df.head()"
   ]
  },
  {
   "cell_type": "markdown",
   "metadata": {
    "slideshow": {
     "slide_type": "slide"
    }
   },
   "source": [
    "Merci pour votre attention"
   ]
  },
  {
   "cell_type": "markdown",
   "metadata": {
    "slideshow": {
     "slide_type": "slide"
    }
   },
   "source": [
    "Références :\n",
    "- [Hub'Eau](https://hubeau.eaufrance.fr/)\n",
    "- [BNPE](https://bnpe.eaufrance.fr/)\n",
    "- [pandas](https://pandas.pydata.org/)"
   ]
  }
 ],
 "metadata": {
  "celltoolbar": "Diaporama",
  "kernelspec": {
   "display_name": "Python 3 (ipykernel)",
   "language": "python",
   "name": "python3"
  },
  "language_info": {
   "codemirror_mode": {
    "name": "ipython",
    "version": 3
   },
   "file_extension": ".py",
   "mimetype": "text/x-python",
   "name": "python",
   "nbconvert_exporter": "python",
   "pygments_lexer": "ipython3",
   "version": "3.10.12"
  }
 },
 "nbformat": 4,
 "nbformat_minor": 4
}
