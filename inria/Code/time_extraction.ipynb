{
 "cells": [
  {
   "cell_type": "code",
   "execution_count": 10,
   "metadata": {},
   "outputs": [],
   "source": [
    "from python_heideltime import Heideltime\n",
    "import re"
   ]
  },
  {
   "cell_type": "code",
   "execution_count": 11,
   "metadata": {},
   "outputs": [],
   "source": [
    "#Heideltime\n",
    "def get_time(query):\n",
    "    \"\"\"\n",
    "    Extract dates from query\n",
    "    \"\"\"\n",
    "\n",
    "    heideltime_parser = Heideltime()\n",
    "    heideltime_parser.set_document_type('NEWS')\n",
    "    heideltime_parser.set_language('FRENCH')\n",
    "    result = heideltime_parser.parse(query)\n",
    "    regex = \"<TIMEX3 tid=\\\".*?\\\" type=\\\"(.*?)\\\" value=\\\"(.*?)\\\">(.*?)</TIMEX3>\"\n",
    "    return re.findall(regex, result)"
   ]
  },
  {
   "cell_type": "code",
   "execution_count": 12,
   "metadata": {},
   "outputs": [
    {
     "data": {
      "text/plain": [
       "[('DATE', '2021-06-30', 'hier'), ('DATE', '2021-07-01', \"aujourd'hui\")]"
      ]
     },
     "execution_count": 12,
     "metadata": {},
     "output_type": "execute_result"
    }
   ],
   "source": [
    "get_time(\"Quel est le niveau de la nappe phréatique à Orléans hier et aujourd'hui?\")"
   ]
  },
  {
   "cell_type": "code",
   "execution_count": 13,
   "metadata": {},
   "outputs": [
    {
     "data": {
      "text/plain": [
       "[('DATE', 'PRESENT_REF', 'maintenant')]"
      ]
     },
     "execution_count": 13,
     "metadata": {},
     "output_type": "execute_result"
    }
   ],
   "source": [
    "get_time(\"A quelle hauteur se trouve l'eau souterraine sur la commune d'Orléans maintenant\")"
   ]
  },
  {
   "cell_type": "code",
   "execution_count": 14,
   "metadata": {},
   "outputs": [
    {
     "data": {
      "text/plain": [
       "[('DATE', '2021-W26', 'cette semaine')]"
      ]
     },
     "execution_count": 14,
     "metadata": {},
     "output_type": "execute_result"
    }
   ],
   "source": [
    "get_time(\"A quelle hauteur se trouve l'eau souterraine sur la commune d'Orléans cette semaine\")"
   ]
  },
  {
   "cell_type": "code",
   "execution_count": 16,
   "metadata": {},
   "outputs": [
    {
     "data": {
      "text/plain": [
       "[('DATE', '2022-06-16', '16'), ('DATE', '2022-06-26', '26 juin')]"
      ]
     },
     "execution_count": 16,
     "metadata": {},
     "output_type": "execute_result"
    }
   ],
   "source": [
    "get_time(\"A quelle hauteur se trouve l'eau souterraine sur la commune d'Orléans entre le 16 et 26 juin\")"
   ]
  },
  {
   "cell_type": "code",
   "execution_count": null,
   "metadata": {},
   "outputs": [],
   "source": []
  }
 ],
 "metadata": {
  "kernelspec": {
   "display_name": "Python 3",
   "language": "python",
   "name": "python3"
  },
  "language_info": {
   "codemirror_mode": {
    "name": "ipython",
    "version": 3
   },
   "file_extension": ".py",
   "mimetype": "text/x-python",
   "name": "python",
   "nbconvert_exporter": "python",
   "pygments_lexer": "ipython3",
   "version": "3.6.10"
  }
 },
 "nbformat": 4,
 "nbformat_minor": 4
}
