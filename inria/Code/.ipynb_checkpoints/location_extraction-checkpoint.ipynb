{
 "cells": [
  {
   "cell_type": "code",
   "execution_count": 185,
   "metadata": {},
   "outputs": [],
   "source": [
    "# # Connexion à DBPEDIA France\n",
    "\n",
    "# def dbPedia_adj(adj):\n",
    "#     \"\"\"\n",
    "#     Get the location using the \"dbo:peopleName property\"\n",
    "#     \"\"\"\n",
    "#     d = SPARQLWrapper2(\"http://fr.dbpedia.org/sparql\")\n",
    "\n",
    "#     d.setQuery(\n",
    "#     \"\"\"PREFIX dbo: <http://dbpedia.org/ontology/>\n",
    "#     PREFIX prop: <http://fr.dbpedia.org/property/> \n",
    "#     PREFIX foaf: <http://xmlns.com/foaf/0.1/>\n",
    "#     PREFIX xsd: <http://www.w3.org/2001/XMLSchema#>\n",
    "\n",
    "#     SELECT distinct ?ville ?nom ?gentile\n",
    "#     WHERE\n",
    "#     {\n",
    "#       ?ville dbo:peopleName ?gentile.\n",
    "#       ?ville dbo:country  <http://fr.dbpedia.org/resource/France>.\n",
    "#       ?ville foaf:name ?nom.\n",
    "#       BIND(replace(replace(replace(replace(replace(replace(str(?gentile),\"á\",\"a\"),\"é\",\"e\")\n",
    "#         ,\"í\",\"i\"),\"ó\",\"o\"),\"ú\",\"u\"), \"ç\", \"c\") as ?gentile2).\n",
    "#       filter(regex(?gentile2,\\\"^\"\"\" +adj+ \"\"\"\\\", \"i\"))}\"\"\"\n",
    "#     ) \n",
    "#     communes = set()\n",
    "#     res = d.query().bindings\n",
    "#     for result in res:\n",
    "#         communes.add(unicodedata.normalize('NFD', result[\"nom\"].value.lower()).encode('ascii', 'ignore').decode(\"utf-8\"))\n",
    "        \n",
    "#     return communes\n",
    "\n",
    "# def dbPedia_adj2(adj):\n",
    "#     \"\"\"\n",
    "#     Get the location using a regex on the abstract text\n",
    "#     \"\"\"\n",
    "#     d = SPARQLWrapper2(\"http://fr.dbpedia.org/sparql\")\n",
    "\n",
    "#     d.setQuery(\n",
    "#     \"\"\"\n",
    "#     PREFIX dbo: <http://dbpedia.org/ontology/>\n",
    "#     PREFIX foaf: <http://xmlns.com/foaf/0.1/>\n",
    "\n",
    "#     SELECT distinct ?ville ?nom\n",
    "#     WHERE\n",
    "#     {\n",
    "#     ?ville dbo:abstract  ?abstract.\n",
    "#     ?ville foaf:name ?nom.\n",
    "#     ?ville dbo:inseeCode ?code.\n",
    "#     ?ville dbo:country  <http://fr.dbpedia.org/resource/France>.\n",
    "#     BIND(replace(replace(replace(replace(replace(replace(replace(replace(replace(replace(replace(replace(\n",
    "#     str(?abstract),\n",
    "#     \"à\",\"a\"),\"é\",\"e\"), \"ê\", \"e\"),\"è\", \"e\"),\"ù\",\"u\"), \"ç\", \"c\")\n",
    "#     ,\"À\",\"a\"),\"É\",\"e\"),\"Ê\",\"e\"), \"È\", \"e\"),\"Ù\",\"u\"),\"Ç\",\"c\")\n",
    "#     as ?abstract2).\n",
    "        \n",
    "#     filter(regex(?abstract2,\\\"habitant.*?\"\"\"+adj+\"\"\"\\\", \"i\")).\n",
    "#     }\"\"\"\n",
    "#     ) \n",
    "    \n",
    "#     res = d.query().bindings\n",
    "#     communes = set()\n",
    "#     for result in res:\n",
    "#         communes.add(cc)\n",
    "#     return communes"
   ]
  },
  {
   "cell_type": "code",
   "execution_count": 442,
   "metadata": {
    "id": "sKPy_1S8e8gY"
   },
   "outputs": [],
   "source": [
    "import requests\n",
    "import pandas as pd\n",
    "from io import StringIO\n",
    "import json\n",
    "import unicodedata\n",
    "import numpy as np\n",
    "import nltk\n",
    "import predict_flair\n",
    "from flair.models import SequenceTagger\n",
    "import fr_core_news_lg as fr\n",
    "import urllib.request\n",
    "from ip2geotools.databases.noncommercial import DbIpCity\n",
    "import re\n",
    "import spacy\n",
    "from SPARQLWrapper import SPARQLWrapper2\n",
    "from pycorenlp import StanfordCoreNLP\n",
    "import ipinfo\n",
    "from datetime import datetime\n",
    "from dateutil.relativedelta import relativedelta\n",
    "from math import cos, asin, sqrt, pi"
   ]
  },
  {
   "cell_type": "code",
   "execution_count": 233,
   "metadata": {},
   "outputs": [],
   "source": [
    "def get_bss(query): \n",
    "    \"\"\"\n",
    "     Extract BSS code from query\n",
    "    \"\"\"\n",
    "    # AAAABCDDDD/designation\n",
    "    regex = \"[0-9]{5}[a-zA-Z][0-9]{4}/[a-zA-Z0-9]+\"\n",
    "    match = re.findall(regex, query)\n",
    "    return match\n",
    "    if match :\n",
    "        return re.group(0)\n",
    "    return -1"
   ]
  },
  {
   "cell_type": "code",
   "execution_count": 274,
   "metadata": {
    "id": "48caB86KjBOT"
   },
   "outputs": [],
   "source": [
    "def get_insee(location):\n",
    "    \"\"\"\n",
    "    \n",
    "    returns the insee codes of the location + type of location (commune, departement or region) \n",
    "    if type region : return insee code of all departements of the region\n",
    "    returns -1 if location does not exist\n",
    "    \n",
    "    \"\"\"\n",
    "    location_ = unicodedata.normalize('NFD', location.lower()).encode('ascii', 'ignore').decode(\"utf-8\")\n",
    "    url = 'https://geo.api.gouv.fr/communes?nom={c}&fields=nom,code,codesPostaux,'\\\n",
    "              'codeDepartement,codeRegion,population&format=json&geometry=centre'\\\n",
    "              .format(c=location_)\n",
    "    exists = len(json.loads(requests.get(url).text))\n",
    "    if exists>0 :\n",
    "        codes = json.loads(requests.get(url).text)\n",
    "        result = [code[\"code\"] for code in codes \\\n",
    "                if  unicodedata.normalize('NFD', code[\"nom\"].lower()).encode('ascii', 'ignore').decode(\"utf-8\") == location_]\n",
    "        if len(result)>0:\n",
    "            return {\"type\": \"commune\", \"code\": result}\n",
    "        \n",
    "    url = 'https://geo.api.gouv.fr/departements?nom={c}&fields=nom,code'\\\n",
    "            '&format=json&geometry=centre'\\\n",
    "              .format(c=location_)\n",
    "    exists = len(json.loads(requests.get(url).text))\n",
    "    \n",
    "    if exists>0 :\n",
    "        codes = json.loads(requests.get(url).text)\n",
    "        result = [code[\"code\"] for code in codes \\\n",
    "                if  unicodedata.normalize('NFD', code[\"nom\"].lower()).encode('ascii', 'ignore').decode(\"utf-8\") == location_]\n",
    "        if len(result)>0:\n",
    "            return {\"type\": \"departement\", \"code\": result}\n",
    "    \n",
    "    url = 'https://geo.api.gouv.fr/regions?nom={c}&fields=nom,code'\\\n",
    "            '&format=json&geometry=centre'\\\n",
    "              .format(c=location_)\n",
    "    exists = len(json.loads(requests.get(url).text))\n",
    "    \n",
    "    if exists>0 :\n",
    "        codes = json.loads(requests.get(url).text)\n",
    "        result = [code[\"code\"] for code in codes \\\n",
    "                if  unicodedata.normalize('NFD', code[\"nom\"].lower()).encode('ascii', 'ignore').decode(\"utf-8\") == location_]\n",
    "        \n",
    "        \n",
    "        if len(result)>0:         \n",
    "            url = \"https://geo.api.gouv.fr/regions/{c}/departements\".format(c=result[0])\n",
    "            codes = json.loads(requests.get(url).text)\n",
    "            result2 = [code[\"code\"] for code in codes]    \n",
    "            return {\"type\": \"region\", \"code\": result[0], \"codes_departements\": result2}\n",
    "        \n",
    "    return -1\n",
    "    "
   ]
  },
  {
   "cell_type": "code",
   "execution_count": 373,
   "metadata": {
    "id": "AnJCYr5jmKQT"
   },
   "outputs": [],
   "source": [
    "def insee_to_bss(code_location, type_location):\n",
    "    \"\"\"\n",
    "    Returns the BSS codes corresponding to the INSEE code\n",
    "    \"\"\"\n",
    "    if type_location == 'commune':\n",
    "        url =  \"https://hubeau.eaufrance.fr/api/v1/niveaux_nappes/stations?code_commune={c}&format=json&size=500\".format(c=code_location)\n",
    "   \n",
    "    elif type_location == 'departement':\n",
    "        url =  \"https://hubeau.eaufrance.fr/api/v1/niveaux_nappes/stations?code_departement={c}&format=json&size=500\".format(c=code_location)\n",
    "    else:\n",
    "        return -1\n",
    "    \n",
    "    exists = json.loads(requests.get(url).text)[\"count\"]\n",
    "    if exists>0 :\n",
    "        data = json.loads(requests.get(url).text)\n",
    "        bss = [station[\"code_bss\"] for station in data[\"data\"]]\n",
    "        return bss\n",
    "\n",
    "    else:\n",
    "        return -1"
   ]
  },
  {
   "cell_type": "code",
   "execution_count": 236,
   "metadata": {
    "id": "KVD99fybFgzV"
   },
   "outputs": [],
   "source": [
    "def get_mesure_piezo(station, start_date=None, end_date=None):\n",
    "    \"\"\"\n",
    "    Returns mesures corresponding to the station BSS code\n",
    "    \"\"\"\n",
    "    url = \"https://hubeau.eaufrance.fr/api/v1/niveaux_nappes/chroniques?code_bss={bss}&date_debut_mesure={d1}&date_fin_mesure={d2}&size=1\".format(bss=station, d1=start_date, d2=end_date)\n",
    "    number = json.loads(requests.get(url).text)[\"count\"]\n",
    "    if number > 0:\n",
    "        url = \"https://hubeau.eaufrance.fr/api/v1/niveaux_nappes/chroniques?code_bss={bss}&date_debut_mesure={d1}&date_fin_mesure={d2}&size={s}\".format(bss=station, d1=start_date, d2=end_date, s=number + 1)\n",
    "        return json.loads(requests.get(url).text)"
   ]
  },
  {
   "cell_type": "code",
   "execution_count": 327,
   "metadata": {},
   "outputs": [],
   "source": [
    "def POS_adj(text):\n",
    "    \"\"\"\n",
    "    Returns words that are tagged ADJ in query\n",
    "    uses stanfordNLP POS server on port 9000\n",
    "    \"\"\"\n",
    "    nlp = StanfordCoreNLP('http://localhost:9000')\n",
    "    splitted = text.split()\n",
    "    adjs = []\n",
    "    \n",
    "    for word in splitted:\n",
    "        result = nlp.annotate(word,\n",
    "                           properties={\n",
    "                               'annotators': 'pos',\n",
    "                               'outputFormat': 'json',\n",
    "                               'timeout': 1000,\n",
    "                           })\n",
    "        if  result[\"sentences\"][0][\"tokens\"][0][\"pos\"] == \"ADJ\":\n",
    "            adjs.append(result[\"sentences\"][0][\"tokens\"][0][\"word\"])\n",
    "    \n",
    "    return adjs\n",
    "  "
   ]
  },
  {
   "cell_type": "code",
   "execution_count": 238,
   "metadata": {},
   "outputs": [],
   "source": [
    "def stem(word):\n",
    "    \"\"\" stemming \"\"\"\n",
    "    word_ = \"\".join(list(word)[-4:])\n",
    "    return word[:-4]+re.sub(r'iens|ains|ards|ain|ien|ard|ois|oi|ens|en|ais|ai|ins|in|s$', '',word_, count = 1)"
   ]
  },
  {
   "cell_type": "code",
   "execution_count": 239,
   "metadata": {},
   "outputs": [],
   "source": [
    "def get_location_from_adj(c, communes):   \n",
    "    \"\"\"\n",
    "    Returns the most similar commune to the adjective c from the list of communes\n",
    "    \"\"\"\n",
    "    c_ = stem(c)\n",
    "    dist = []\n",
    "    for a in communes :\n",
    "        limit = min(int(2*len(c)/3), len(a))\n",
    "        a1 =  \"\".join(list(a)[:limit])\n",
    "        c1 =  \"\".join(list(c)[:limit])\n",
    "        d1 = nltk.edit_distance(c1, a1)\n",
    "        d2 = nltk.edit_distance(c_, a)\n",
    "        dist.append([d1, d2])    \n",
    "    \n",
    "    dist = np.array(dist)\n",
    "    avg = 0.5*dist[:, 0] + 0.5*dist[:, 1]\n",
    "    sorted_ = np.argsort(avg)\n",
    "    \n",
    "    commune_ = communes[sorted_[0]]\n",
    "    return commune_   "
   ]
  },
  {
   "cell_type": "code",
   "execution_count": 332,
   "metadata": {},
   "outputs": [],
   "source": [
    "def get_geolocation(ip_adress):\n",
    "    \"\"\" \n",
    "    Get location from ip adress\n",
    "    \"\"\"\n",
    "    response = DbIpCity.get(ip_address, api_key='free')\n",
    "    return response.city\n",
    "\n",
    "def get_geolocation_ipinfo(ip_adress):\n",
    "    \n",
    "    \"\"\" \n",
    "    Get location from ip adress with ipinfo API\n",
    "    \"\"\"\n",
    "    access_token = 'ea47e58acb96e4'\n",
    "    handler = ipinfo.getHandler(access_token)\n",
    "    details = handler.getDetails(ip_address)\n",
    "    city = details.city\n",
    "    return city"
   ]
  },
  {
   "cell_type": "code",
   "execution_count": 329,
   "metadata": {
    "id": "C9qGKKe2RWT-"
   },
   "outputs": [],
   "source": [
    "def get_locations(query, ip_address=None):\n",
    "    \"\"\"\n",
    "    Use NER to extract locations from query,\n",
    "    if NER gives no result, look for demonyms and return corresponding location,\n",
    "    if none found, return geolocation\n",
    "    \"\"\"\n",
    "    \n",
    "    batch_size = 4\n",
    "    MODEL_PATH = \"NER_tool/stacked-standard-flair-150-wikiner.pt\"\n",
    "    tag_type = \"label\"\n",
    "    model = SequenceTagger.load(MODEL_PATH)\n",
    "    \n",
    "    snippets = [[1, query]]\n",
    "    result = predict_flair.get_entities(snippets, model, tag_type, batch_size)[\"snippets\"][0][1]\n",
    "    locations = [entity[\"text\"] for entity in result[\"entities\"] if \"LOC\" in str(entity[\"labels\"][0])]\n",
    "    if len(locations)>0 :\n",
    "        return locations\n",
    "    \n",
    "    else : \n",
    "        adjs = POS_adj(query)\n",
    "        print(adjs)\n",
    "        locs = [get_location_from_adj(adj, communes) for adj in adjs] # get_location_from_adj will be modified\n",
    "        \n",
    "        if len(locs) > 0:\n",
    "            return locs        \n",
    "        else :\n",
    "            return get_geolocation(ip_address)"
   ]
  },
  {
   "cell_type": "code",
   "execution_count": 245,
   "metadata": {},
   "outputs": [],
   "source": [
    "communes = pd.read_csv(\"Data/communes_names_distinct_.csv\", header = None).to_numpy().reshape(-1)"
   ]
  },
  {
   "cell_type": "code",
   "execution_count": 224,
   "metadata": {},
   "outputs": [
    {
     "data": {
      "text/plain": [
       "['03635X0545/PZ1', '03635X0545/F1']"
      ]
     },
     "execution_count": 224,
     "metadata": {},
     "output_type": "execute_result"
    }
   ],
   "source": [
    "get_bss(\"Quel était le niveau de la nappe phréatique à la station piézométrique 03635X0545/PZ1 03635X0545/F1 le 12 janvier 2019 ?\")"
   ]
  },
  {
   "cell_type": "code",
   "execution_count": 428,
   "metadata": {
    "colab": {
     "base_uri": "https://localhost:8080/",
     "height": 35
    },
    "id": "fWs4AmmWkdPO",
    "outputId": "7c7a0033-b914-49ab-8f82-d55deef73bca"
   },
   "outputs": [
    {
     "data": {
      "text/plain": [
       "{'type': 'commune', 'code': ['45188']}"
      ]
     },
     "execution_count": 428,
     "metadata": {},
     "output_type": "execute_result"
    }
   ],
   "source": [
    "c = get_insee(\"Loury\")\n",
    "c"
   ]
  },
  {
   "cell_type": "code",
   "execution_count": 436,
   "metadata": {
    "colab": {
     "base_uri": "https://localhost:8080/"
    },
    "id": "jfMdQJH3Cq9K",
    "outputId": "c6bb3e7d-5590-499e-8c03-68480ed335e1"
   },
   "outputs": [
    {
     "data": {
      "text/plain": [
       "['03634X0049/P1']"
      ]
     },
     "execution_count": 436,
     "metadata": {},
     "output_type": "execute_result"
    }
   ],
   "source": [
    "bss  = insee_to_bss(\"45188\", \"commune\")\n",
    "bss"
   ]
  },
  {
   "cell_type": "code",
   "execution_count": 229,
   "metadata": {
    "colab": {
     "base_uri": "https://localhost:8080/"
    },
    "id": "ThlIijwxP7jb",
    "outputId": "52a3d97d-88d0-43d9-93a7-f200d19e0a88"
   },
   "outputs": [
    {
     "data": {
      "text/plain": [
       "{'count': 18,\n",
       " 'first': 'https://hubeau.eaufrance.fr/api/v1/niveaux_nappes/chroniques?code_bss=03635X0545/PZ1&date_debut_mesure=2019-01-12&date_fin_mesure=2019-01-30&page=1&size=19',\n",
       " 'last': None,\n",
       " 'prev': None,\n",
       " 'next': None,\n",
       " 'api_version': '1.4.0',\n",
       " 'data': [{'code_bss': '03635X0545/PZ1',\n",
       "   'urn_bss': 'http://services.ades.eaufrance.fr/pointeau/03635X0545/PZ1',\n",
       "   'date_mesure': '2019-01-12',\n",
       "   'timestamp_mesure': 1547334000000,\n",
       "   'niveau_nappe_eau': 88.39,\n",
       "   'mode_obtention': 'Valeur mesurée',\n",
       "   'statut': 'Donnée contrôlée niveau 2',\n",
       "   'qualification': 'Correcte',\n",
       "   'code_continuite': '2',\n",
       "   'nom_continuite': 'Point lié au point précédent',\n",
       "   'code_producteur': '293',\n",
       "   'nom_producteur': 'Service Géologique Régional Centre (293)',\n",
       "   'code_nature_mesure': None,\n",
       "   'nom_nature_mesure': None,\n",
       "   'profondeur_nappe': 4.95},\n",
       "  {'code_bss': '03635X0545/PZ1',\n",
       "   'urn_bss': 'http://services.ades.eaufrance.fr/pointeau/03635X0545/PZ1',\n",
       "   'date_mesure': '2019-01-13',\n",
       "   'timestamp_mesure': 1547366400000,\n",
       "   'niveau_nappe_eau': 88.4,\n",
       "   'mode_obtention': 'Valeur mesurée',\n",
       "   'statut': 'Donnée contrôlée niveau 2',\n",
       "   'qualification': 'Correcte',\n",
       "   'code_continuite': '2',\n",
       "   'nom_continuite': 'Point lié au point précédent',\n",
       "   'code_producteur': '293',\n",
       "   'nom_producteur': 'Service Géologique Régional Centre (293)',\n",
       "   'code_nature_mesure': None,\n",
       "   'nom_nature_mesure': None,\n",
       "   'profondeur_nappe': 4.94},\n",
       "  {'code_bss': '03635X0545/PZ1',\n",
       "   'urn_bss': 'http://services.ades.eaufrance.fr/pointeau/03635X0545/PZ1',\n",
       "   'date_mesure': '2019-01-14',\n",
       "   'timestamp_mesure': 1547445600000,\n",
       "   'niveau_nappe_eau': 88.42,\n",
       "   'mode_obtention': 'Valeur mesurée',\n",
       "   'statut': 'Donnée contrôlée niveau 2',\n",
       "   'qualification': 'Correcte',\n",
       "   'code_continuite': '2',\n",
       "   'nom_continuite': 'Point lié au point précédent',\n",
       "   'code_producteur': '293',\n",
       "   'nom_producteur': 'Service Géologique Régional Centre (293)',\n",
       "   'code_nature_mesure': None,\n",
       "   'nom_nature_mesure': None,\n",
       "   'profondeur_nappe': 4.92},\n",
       "  {'code_bss': '03635X0545/PZ1',\n",
       "   'urn_bss': 'http://services.ades.eaufrance.fr/pointeau/03635X0545/PZ1',\n",
       "   'date_mesure': '2019-01-15',\n",
       "   'timestamp_mesure': 1547524800000,\n",
       "   'niveau_nappe_eau': 88.43,\n",
       "   'mode_obtention': 'Valeur mesurée',\n",
       "   'statut': 'Donnée contrôlée niveau 2',\n",
       "   'qualification': 'Correcte',\n",
       "   'code_continuite': '2',\n",
       "   'nom_continuite': 'Point lié au point précédent',\n",
       "   'code_producteur': '293',\n",
       "   'nom_producteur': 'Service Géologique Régional Centre (293)',\n",
       "   'code_nature_mesure': None,\n",
       "   'nom_nature_mesure': None,\n",
       "   'profondeur_nappe': 4.91},\n",
       "  {'code_bss': '03635X0545/PZ1',\n",
       "   'urn_bss': 'http://services.ades.eaufrance.fr/pointeau/03635X0545/PZ1',\n",
       "   'date_mesure': '2019-01-16',\n",
       "   'timestamp_mesure': 1547647200000,\n",
       "   'niveau_nappe_eau': 88.47,\n",
       "   'mode_obtention': 'Valeur mesurée',\n",
       "   'statut': 'Donnée contrôlée niveau 2',\n",
       "   'qualification': 'Correcte',\n",
       "   'code_continuite': '2',\n",
       "   'nom_continuite': 'Point lié au point précédent',\n",
       "   'code_producteur': '293',\n",
       "   'nom_producteur': 'Service Géologique Régional Centre (293)',\n",
       "   'code_nature_mesure': None,\n",
       "   'nom_nature_mesure': None,\n",
       "   'profondeur_nappe': 4.87},\n",
       "  {'code_bss': '03635X0545/PZ1',\n",
       "   'urn_bss': 'http://services.ades.eaufrance.fr/pointeau/03635X0545/PZ1',\n",
       "   'date_mesure': '2019-01-17',\n",
       "   'timestamp_mesure': 1547758800000,\n",
       "   'niveau_nappe_eau': 88.48,\n",
       "   'mode_obtention': 'Valeur mesurée',\n",
       "   'statut': 'Donnée contrôlée niveau 2',\n",
       "   'qualification': 'Correcte',\n",
       "   'code_continuite': '2',\n",
       "   'nom_continuite': 'Point lié au point précédent',\n",
       "   'code_producteur': '293',\n",
       "   'nom_producteur': 'Service Géologique Régional Centre (293)',\n",
       "   'code_nature_mesure': None,\n",
       "   'nom_nature_mesure': None,\n",
       "   'profondeur_nappe': 4.86},\n",
       "  {'code_bss': '03635X0545/PZ1',\n",
       "   'urn_bss': 'http://services.ades.eaufrance.fr/pointeau/03635X0545/PZ1',\n",
       "   'date_mesure': '2019-01-18',\n",
       "   'timestamp_mesure': 1547848800000,\n",
       "   'niveau_nappe_eau': 88.52,\n",
       "   'mode_obtention': 'Valeur mesurée',\n",
       "   'statut': 'Donnée contrôlée niveau 2',\n",
       "   'qualification': 'Correcte',\n",
       "   'code_continuite': '2',\n",
       "   'nom_continuite': 'Point lié au point précédent',\n",
       "   'code_producteur': '293',\n",
       "   'nom_producteur': 'Service Géologique Régional Centre (293)',\n",
       "   'code_nature_mesure': None,\n",
       "   'nom_nature_mesure': None,\n",
       "   'profondeur_nappe': 4.82},\n",
       "  {'code_bss': '03635X0545/PZ1',\n",
       "   'urn_bss': 'http://services.ades.eaufrance.fr/pointeau/03635X0545/PZ1',\n",
       "   'date_mesure': '2019-01-19',\n",
       "   'timestamp_mesure': 1547935200000,\n",
       "   'niveau_nappe_eau': 88.54,\n",
       "   'mode_obtention': 'Valeur mesurée',\n",
       "   'statut': 'Donnée contrôlée niveau 2',\n",
       "   'qualification': 'Correcte',\n",
       "   'code_continuite': '2',\n",
       "   'nom_continuite': 'Point lié au point précédent',\n",
       "   'code_producteur': '293',\n",
       "   'nom_producteur': 'Service Géologique Régional Centre (293)',\n",
       "   'code_nature_mesure': None,\n",
       "   'nom_nature_mesure': None,\n",
       "   'profondeur_nappe': 4.8},\n",
       "  {'code_bss': '03635X0545/PZ1',\n",
       "   'urn_bss': 'http://services.ades.eaufrance.fr/pointeau/03635X0545/PZ1',\n",
       "   'date_mesure': '2019-01-20',\n",
       "   'timestamp_mesure': 1547946000000,\n",
       "   'niveau_nappe_eau': 88.54,\n",
       "   'mode_obtention': 'Valeur mesurée',\n",
       "   'statut': 'Donnée contrôlée niveau 2',\n",
       "   'qualification': 'Correcte',\n",
       "   'code_continuite': '2',\n",
       "   'nom_continuite': 'Point lié au point précédent',\n",
       "   'code_producteur': '293',\n",
       "   'nom_producteur': 'Service Géologique Régional Centre (293)',\n",
       "   'code_nature_mesure': None,\n",
       "   'nom_nature_mesure': None,\n",
       "   'profondeur_nappe': 4.8},\n",
       "  {'code_bss': '03635X0545/PZ1',\n",
       "   'urn_bss': 'http://services.ades.eaufrance.fr/pointeau/03635X0545/PZ1',\n",
       "   'date_mesure': '2019-01-21',\n",
       "   'timestamp_mesure': 1548032400000,\n",
       "   'niveau_nappe_eau': 88.52,\n",
       "   'mode_obtention': 'Valeur mesurée',\n",
       "   'statut': 'Donnée contrôlée niveau 2',\n",
       "   'qualification': 'Correcte',\n",
       "   'code_continuite': '2',\n",
       "   'nom_continuite': 'Point lié au point précédent',\n",
       "   'code_producteur': '293',\n",
       "   'nom_producteur': 'Service Géologique Régional Centre (293)',\n",
       "   'code_nature_mesure': None,\n",
       "   'nom_nature_mesure': None,\n",
       "   'profondeur_nappe': 4.82},\n",
       "  {'code_bss': '03635X0545/PZ1',\n",
       "   'urn_bss': 'http://services.ades.eaufrance.fr/pointeau/03635X0545/PZ1',\n",
       "   'date_mesure': '2019-01-22',\n",
       "   'timestamp_mesure': 1548180000000,\n",
       "   'niveau_nappe_eau': 88.51,\n",
       "   'mode_obtention': 'Valeur mesurée',\n",
       "   'statut': 'Donnée contrôlée niveau 2',\n",
       "   'qualification': 'Correcte',\n",
       "   'code_continuite': '2',\n",
       "   'nom_continuite': 'Point lié au point précédent',\n",
       "   'code_producteur': '293',\n",
       "   'nom_producteur': 'Service Géologique Régional Centre (293)',\n",
       "   'code_nature_mesure': None,\n",
       "   'nom_nature_mesure': None,\n",
       "   'profondeur_nappe': 4.83},\n",
       "  {'code_bss': '03635X0545/PZ1',\n",
       "   'urn_bss': 'http://services.ades.eaufrance.fr/pointeau/03635X0545/PZ1',\n",
       "   'date_mesure': '2019-01-23',\n",
       "   'timestamp_mesure': 1548216000000,\n",
       "   'niveau_nappe_eau': 88.53,\n",
       "   'mode_obtention': 'Valeur mesurée',\n",
       "   'statut': 'Donnée contrôlée niveau 2',\n",
       "   'qualification': 'Correcte',\n",
       "   'code_continuite': '2',\n",
       "   'nom_continuite': 'Point lié au point précédent',\n",
       "   'code_producteur': '293',\n",
       "   'nom_producteur': 'Service Géologique Régional Centre (293)',\n",
       "   'code_nature_mesure': None,\n",
       "   'nom_nature_mesure': None,\n",
       "   'profondeur_nappe': 4.81},\n",
       "  {'code_bss': '03635X0545/PZ1',\n",
       "   'urn_bss': 'http://services.ades.eaufrance.fr/pointeau/03635X0545/PZ1',\n",
       "   'date_mesure': '2019-01-24',\n",
       "   'timestamp_mesure': 1548291600000,\n",
       "   'niveau_nappe_eau': 88.51,\n",
       "   'mode_obtention': 'Valeur mesurée',\n",
       "   'statut': 'Donnée contrôlée niveau 2',\n",
       "   'qualification': 'Correcte',\n",
       "   'code_continuite': '2',\n",
       "   'nom_continuite': 'Point lié au point précédent',\n",
       "   'code_producteur': '293',\n",
       "   'nom_producteur': 'Service Géologique Régional Centre (293)',\n",
       "   'code_nature_mesure': None,\n",
       "   'nom_nature_mesure': None,\n",
       "   'profondeur_nappe': 4.83},\n",
       "  {'code_bss': '03635X0545/PZ1',\n",
       "   'urn_bss': 'http://services.ades.eaufrance.fr/pointeau/03635X0545/PZ1',\n",
       "   'date_mesure': '2019-01-25',\n",
       "   'timestamp_mesure': 1548446400000,\n",
       "   'niveau_nappe_eau': 88.54,\n",
       "   'mode_obtention': 'Valeur mesurée',\n",
       "   'statut': 'Donnée contrôlée niveau 2',\n",
       "   'qualification': 'Correcte',\n",
       "   'code_continuite': '2',\n",
       "   'nom_continuite': 'Point lié au point précédent',\n",
       "   'code_producteur': '293',\n",
       "   'nom_producteur': 'Service Géologique Régional Centre (293)',\n",
       "   'code_nature_mesure': None,\n",
       "   'nom_nature_mesure': None,\n",
       "   'profondeur_nappe': 4.8},\n",
       "  {'code_bss': '03635X0545/PZ1',\n",
       "   'urn_bss': 'http://services.ades.eaufrance.fr/pointeau/03635X0545/PZ1',\n",
       "   'date_mesure': '2019-01-26',\n",
       "   'timestamp_mesure': 1548536400000,\n",
       "   'niveau_nappe_eau': 88.56,\n",
       "   'mode_obtention': 'Valeur mesurée',\n",
       "   'statut': 'Donnée contrôlée niveau 2',\n",
       "   'qualification': 'Correcte',\n",
       "   'code_continuite': '2',\n",
       "   'nom_continuite': 'Point lié au point précédent',\n",
       "   'code_producteur': '293',\n",
       "   'nom_producteur': 'Service Géologique Régional Centre (293)',\n",
       "   'code_nature_mesure': None,\n",
       "   'nom_nature_mesure': None,\n",
       "   'profondeur_nappe': 4.78},\n",
       "  {'code_bss': '03635X0545/PZ1',\n",
       "   'urn_bss': 'http://services.ades.eaufrance.fr/pointeau/03635X0545/PZ1',\n",
       "   'date_mesure': '2019-01-27',\n",
       "   'timestamp_mesure': 1548561600000,\n",
       "   'niveau_nappe_eau': 88.58,\n",
       "   'mode_obtention': 'Valeur mesurée',\n",
       "   'statut': 'Donnée contrôlée niveau 2',\n",
       "   'qualification': 'Correcte',\n",
       "   'code_continuite': '2',\n",
       "   'nom_continuite': 'Point lié au point précédent',\n",
       "   'code_producteur': '293',\n",
       "   'nom_producteur': 'Service Géologique Régional Centre (293)',\n",
       "   'code_nature_mesure': None,\n",
       "   'nom_nature_mesure': None,\n",
       "   'profondeur_nappe': 4.76},\n",
       "  {'code_bss': '03635X0545/PZ1',\n",
       "   'urn_bss': 'http://services.ades.eaufrance.fr/pointeau/03635X0545/PZ1',\n",
       "   'date_mesure': '2019-01-28',\n",
       "   'timestamp_mesure': 1548702000000,\n",
       "   'niveau_nappe_eau': 88.6,\n",
       "   'mode_obtention': 'Valeur mesurée',\n",
       "   'statut': 'Donnée contrôlée niveau 2',\n",
       "   'qualification': 'Correcte',\n",
       "   'code_continuite': '2',\n",
       "   'nom_continuite': 'Point lié au point précédent',\n",
       "   'code_producteur': '293',\n",
       "   'nom_producteur': 'Service Géologique Régional Centre (293)',\n",
       "   'code_nature_mesure': None,\n",
       "   'nom_nature_mesure': None,\n",
       "   'profondeur_nappe': 4.74},\n",
       "  {'code_bss': '03635X0545/PZ1',\n",
       "   'urn_bss': 'http://services.ades.eaufrance.fr/pointeau/03635X0545/PZ1',\n",
       "   'date_mesure': '2019-01-29',\n",
       "   'timestamp_mesure': 1548799200000,\n",
       "   'niveau_nappe_eau': 88.66,\n",
       "   'mode_obtention': 'Valeur mesurée',\n",
       "   'statut': 'Donnée contrôlée niveau 2',\n",
       "   'qualification': 'Correcte',\n",
       "   'code_continuite': '2',\n",
       "   'nom_continuite': 'Point lié au point précédent',\n",
       "   'code_producteur': '293',\n",
       "   'nom_producteur': 'Service Géologique Régional Centre (293)',\n",
       "   'code_nature_mesure': None,\n",
       "   'nom_nature_mesure': None,\n",
       "   'profondeur_nappe': 4.68}]}"
      ]
     },
     "execution_count": 229,
     "metadata": {},
     "output_type": "execute_result"
    }
   ],
   "source": [
    "mesure = get_mesure_piezo(bss[0], start_date = \"2019-01-12\", end_date = \"2019-01-30\")\n",
    "mesure"
   ]
  },
  {
   "cell_type": "code",
   "execution_count": 242,
   "metadata": {},
   "outputs": [
    {
     "name": "stdout",
     "output_type": "stream",
     "text": [
      "2021-07-01 14:52:09,605 loading file NER_tool/stacked-standard-flair-150-wikiner.pt\n"
     ]
    },
    {
     "data": {
      "text/plain": [
       "['Orléans', 'Paris']"
      ]
     },
     "execution_count": 242,
     "metadata": {},
     "output_type": "execute_result"
    }
   ],
   "source": [
    "locations = get_locations(\"Quel est le niveau de la nappe phréatique à Orléans et Paris aujourd'hui?\")\n",
    "locations"
   ]
  },
  {
   "cell_type": "code",
   "execution_count": 243,
   "metadata": {},
   "outputs": [
    {
     "name": "stdout",
     "output_type": "stream",
     "text": [
      "2021-07-01 14:52:13,266 loading file NER_tool/stacked-standard-flair-150-wikiner.pt\n"
     ]
    },
    {
     "data": {
      "text/plain": [
       "['Coulmiers', 'Orléans']"
      ]
     },
     "execution_count": 243,
     "metadata": {},
     "output_type": "execute_result"
    }
   ],
   "source": [
    "locations = get_locations(\"A quelle profondeur se trouve la nappe à l'adresse 12 rue de Coulmiers, 45000 Orléans\")\n",
    "locations"
   ]
  },
  {
   "cell_type": "code",
   "execution_count": 246,
   "metadata": {},
   "outputs": [
    {
     "name": "stdout",
     "output_type": "stream",
     "text": [
      "2021-07-01 14:52:46,557 loading file NER_tool/stacked-standard-flair-150-wikiner.pt\n"
     ]
    },
    {
     "data": {
      "text/plain": [
       "['lyon']"
      ]
     },
     "execution_count": 246,
     "metadata": {},
     "output_type": "execute_result"
    }
   ],
   "source": [
    "locations = get_locations(\"Y'a-t-il de l'eau dans le sous-sol lyonnais\")\n",
    "locations"
   ]
  },
  {
   "cell_type": "code",
   "execution_count": 251,
   "metadata": {},
   "outputs": [
    {
     "name": "stdout",
     "output_type": "stream",
     "text": [
      "hello\n",
      "2021-07-01 14:56:01,557 loading file NER_tool/stacked-standard-flair-150-wikiner.pt\n"
     ]
    },
    {
     "data": {
      "text/plain": [
       "'Paris'"
      ]
     },
     "execution_count": 251,
     "metadata": {},
     "output_type": "execute_result"
    }
   ],
   "source": [
    "with urllib.request.urlopen(\"https://geolocation-db.com/json\") as url:\n",
    "    data = json.loads(url.read().decode())\n",
    "    ip_address = data[\"IPv4\"]\n",
    "    \n",
    "locations = get_locations(\"Y'a-t-il de l'eau dans le sous-sol\", ip_address=ip_address)\n",
    "locations"
   ]
  },
  {
   "cell_type": "code",
   "execution_count": 331,
   "metadata": {},
   "outputs": [
    {
     "name": "stdout",
     "output_type": "stream",
     "text": [
      "2021-07-01 19:28:12,353 loading file NER_tool/stacked-standard-flair-150-wikiner.pt\n",
      "['profonde', 'parisienne']\n"
     ]
    },
    {
     "data": {
      "text/plain": [
       "['piffonds', 'paris']"
      ]
     },
     "execution_count": 331,
     "metadata": {},
     "output_type": "execute_result"
    }
   ],
   "source": [
    "locations = get_locations(\"A quelle profondeur se trouve la plus profonde nappe parisienne \")\n",
    "locations"
   ]
  },
  {
   "cell_type": "code",
   "execution_count": 335,
   "metadata": {},
   "outputs": [
    {
     "data": {
      "text/plain": [
       "'Paris'"
      ]
     },
     "execution_count": 335,
     "metadata": {},
     "output_type": "execute_result"
    }
   ],
   "source": [
    "get_geolocation_ipinfo(ip_address)"
   ]
  },
  {
   "cell_type": "code",
   "execution_count": 383,
   "metadata": {},
   "outputs": [],
   "source": [
    "def distance(lon1, lat1, lon2, lat2):\n",
    "    \n",
    "    p = pi/180\n",
    "    a = 0.5 - cos((lat2-lat1)*p)/2 + cos(lat1*p) * cos(lat2*p) * (1-cos((lon2-lon1)*p))/2\n",
    "    return 12742 * asin(sqrt(a)) #2*R*asin..."
   ]
  },
  {
   "cell_type": "code",
   "execution_count": 432,
   "metadata": {},
   "outputs": [],
   "source": [
    "def get_coordinates(bss):\n",
    "\n",
    "    url =  \"https://hubeau.eaufrance.fr/api/v1/niveaux_nappes/stations?code_bss={c}&format=json&size=50\".format(c=bss)\n",
    "    exists = json.loads(requests.get(url).text)[\"count\"]\n",
    "    if exists>0 :\n",
    "        data = json.loads(requests.get(url).text)\n",
    "        info = data[\"data\"][0]\n",
    "        return {\"code_commune\":info[\"code_commune_insee\"], \"code_departement\":info[\"code_departement\"],\"long\": info[\"geometry\"][\"coordinates\"][0], \"lat\":info[\"geometry\"][\"coordinates\"][1], \"date_fin_mesure\":info[\"date_fin_mesure\"] }\n",
    "    else:\n",
    "        return -1 # bss code does not correspond to any station"
   ]
  },
  {
   "cell_type": "code",
   "execution_count": 440,
   "metadata": {},
   "outputs": [],
   "source": [
    "def get_closest_stations(bss, N=4): \n",
    "    info = get_coordinates(bss)\n",
    "    if info!=-1:\n",
    "        dep, long, lat = info[\"code_departement\"], info[\"long\"], info[\"lat\"]\n",
    "        dep_stations = insee_to_bss(dep, \"departement\")\n",
    "        dist = {}\n",
    "\n",
    "        for station in dep_stations:\n",
    "            _ = get_coordinates(station)\n",
    "            long_, lat_, date = _[\"long\"], _[\"lat\"] , _[\"date_fin_mesure\"]\n",
    "            if date is not None:\n",
    "                date = date.split(\"-\")\n",
    "                last_mesure_date = datetime(int(date[0]), int(date[1]), int(date[2]))\n",
    "\n",
    "                if last_mesure_date >= datetime(2005, 1, 1): # the last mesure date must be later than 01-01-2005\n",
    "                    dist[station] = distance(long, lat, long_, lat_)\n",
    "\n",
    "        sortd = dict(sorted(dist.items(), key=lambda item: item[1]))\n",
    "        return list(sortd.keys())[: min(N, len(sortd.keys()))]\n",
    "    \n",
    "    return -1\n",
    "\n",
    "# relativedelta(today, last_mesure_date).years <= 21"
   ]
  },
  {
   "cell_type": "code",
   "execution_count": 441,
   "metadata": {},
   "outputs": [
    {
     "data": {
      "text/plain": [
       "['03634X0093/F', '03633X0081/P', '03278X0020/P', '03637X0122/P']"
      ]
     },
     "execution_count": 441,
     "metadata": {},
     "output_type": "execute_result"
    }
   ],
   "source": [
    "get_closest_stations('03634X0049/P1')"
   ]
  },
  {
   "cell_type": "code",
   "execution_count": null,
   "metadata": {},
   "outputs": [],
   "source": []
  }
 ],
 "metadata": {
  "colab": {
   "name": "Hub'eau_trial1.ipynb",
   "provenance": []
  },
  "kernelspec": {
   "display_name": "Python 3",
   "language": "python",
   "name": "python3"
  },
  "language_info": {
   "codemirror_mode": {
    "name": "ipython",
    "version": 3
   },
   "file_extension": ".py",
   "mimetype": "text/x-python",
   "name": "python",
   "nbconvert_exporter": "python",
   "pygments_lexer": "ipython3",
   "version": "3.6.10"
  }
 },
 "nbformat": 4,
 "nbformat_minor": 1
}
