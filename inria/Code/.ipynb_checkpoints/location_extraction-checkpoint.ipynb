{
 "cells": [
  {
   "cell_type": "code",
   "execution_count": 1,
   "metadata": {
    "id": "sKPy_1S8e8gY"
   },
   "outputs": [],
   "source": [
    "import requests\n",
    "import pandas as pd\n",
    "from io import StringIO\n",
    "import json\n",
    "import unicodedata\n",
    "import numpy as np\n",
    "import nltk\n",
    "import predict_flair\n",
    "from flair.models import SequenceTagger\n",
    "import fr_core_news_lg as fr\n",
    "import ipinfo\n",
    "import urllib.request\n",
    "from ip2geotools.databases.noncommercial import DbIpCity\n",
    "import re\n",
    "import spacy"
   ]
  },
  {
   "cell_type": "code",
   "execution_count": 2,
   "metadata": {},
   "outputs": [],
   "source": [
    "def get_bss(query): \n",
    "    \"\"\"\n",
    "     Extract BSS code from query\n",
    "    \"\"\"\n",
    "    # AAAABCDDDD/designation\n",
    "    regex = \"[0-9]{5}[a-zA-Z][0-9]{4}/[a-zA-Z0-9]+\"\n",
    "    match = re.findall(regex, query)\n",
    "    return match\n",
    "    if match :\n",
    "        return re.group(0)\n",
    "    return -1"
   ]
  },
  {
   "cell_type": "code",
   "execution_count": 3,
   "metadata": {
    "id": "48caB86KjBOT"
   },
   "outputs": [],
   "source": [
    "def get_insee(commune):\n",
    "    \"\"\"\n",
    "    returns the insee code of the commune\n",
    "    \"\"\"\n",
    "    commune_ = unicodedata.normalize('NFD', commune.lower()).encode('ascii', 'ignore').decode(\"utf-8\")\n",
    "    url = 'https://geo.api.gouv.fr/communes?nom={c}&fields=nom,code,codesPostaux,'\\\n",
    "              'codeDepartement,codeRegion,population&format=json&geometry=centre'\\\n",
    "              .format(c=commune_)\n",
    "    exists = len(json.loads(requests.get(url).text))\n",
    "    if exists>0 :\n",
    "        codes = json.loads(requests.get(url).text)\n",
    "        return [code[\"code\"] for code in codes \\\n",
    "                if  unicodedata.normalize('NFD', code[\"nom\"].lower()).encode('ascii', 'ignore').decode(\"utf-8\") == commune_]\n",
    "    else:\n",
    "        print(\"Commune does not exist\")\n",
    "        return -1"
   ]
  },
  {
   "cell_type": "code",
   "execution_count": 4,
   "metadata": {
    "id": "AnJCYr5jmKQT"
   },
   "outputs": [],
   "source": [
    "def insee_to_bss(code_commune):\n",
    "    \"\"\"\n",
    "    Returns the BSS codes corresponding to the INSEE code\n",
    "    \"\"\"\n",
    "    url =  \"https://hubeau.eaufrance.fr/api/v1/niveaux_nappes/stations?code_commune={c}&format=json&size=20\".format(c=code_commune)\n",
    "    exists = json.loads(requests.get(url).text)[\"count\"]\n",
    "    if exists>0 :\n",
    "        data = json.loads(requests.get(url).text)\n",
    "        bss = [station[\"code_bss\"] for station in data[\"data\"]]\n",
    "        return bss\n",
    "\n",
    "    else:\n",
    "        print(\"Code commune does not exist\")\n",
    "        return -1"
   ]
  },
  {
   "cell_type": "code",
   "execution_count": 5,
   "metadata": {
    "id": "KVD99fybFgzV"
   },
   "outputs": [],
   "source": [
    "def get_station_piezo(station, start_date=None, end_date=None):\n",
    "    \"\"\"\n",
    "    Returns mesures corresponding to the station BSS code\n",
    "    \"\"\"\n",
    "    url = \"https://hubeau.eaufrance.fr/api/v1/niveaux_nappes/chroniques?code_bss={bss}&date_debut_mesure={d1}&date_fin_mesure={d2}&size=1\".format(bss=station, d1=start_date, d2=end_date)\n",
    "    number = json.loads(requests.get(url).text)[\"count\"]\n",
    "    if number > 0:\n",
    "        url = \"https://hubeau.eaufrance.fr/api/v1/niveaux_nappes/chroniques?code_bss={bss}&date_debut_mesure={d1}&date_fin_mesure={d2}&size={s}\".format(bss=station, d1=start_date, d2=end_date, s=number + 1)\n",
    "        return json.loads(requests.get(url).text)"
   ]
  },
  {
   "cell_type": "code",
   "execution_count": 41,
   "metadata": {
    "id": "C9qGKKe2RWT-"
   },
   "outputs": [],
   "source": [
    "def get_locations(query):\n",
    "    \"\"\"\n",
    "    Use NER to extract locations from query\n",
    "    \"\"\"\n",
    "    \n",
    "    batch_size = 4\n",
    "    MODEL_PATH = \"NER_tool/stacked-standard-flair-150-wikiner.pt\"\n",
    "    tag_type = \"label\"\n",
    "    model = SequenceTagger.load(MODEL_PATH)\n",
    "    \n",
    "    snippets = [[1, query]]\n",
    "    result = predict_flair.get_entities(snippets, model, tag_type, batch_size)[\"snippets\"][0][1]\n",
    "    locations = [entity[\"text\"] for entity in result[\"entities\"] if \"LOC\" in str(entity[\"labels\"][0])]\n",
    "    return locations"
   ]
  },
  {
   "cell_type": "code",
   "execution_count": 42,
   "metadata": {},
   "outputs": [],
   "source": [
    "def POS_adj(query):\n",
    "    \"\"\"\n",
    "    Returns words that are tagged ADJ in query\n",
    "    \"\"\"\n",
    "    nlp = spacy.load(\"fr_core_news_lg\")\n",
    "    doc = nlp(query)\n",
    "    adjs = [token.text for token in doc if token.pos_ == 'ADJ']\n",
    "    return adjs   "
   ]
  },
  {
   "cell_type": "code",
   "execution_count": 43,
   "metadata": {},
   "outputs": [],
   "source": [
    "def stem(word):\n",
    "    \"\"\" stemming \"\"\"\n",
    "    word_ = \"\".join(list(word)[-4:])\n",
    "    return word[:-4]+re.sub(r'iens|ains|ards|ain|ien|ard|ois|oi|ens|en|ais|ai|ins|in|s$', '',word_, count = 1)"
   ]
  },
  {
   "cell_type": "code",
   "execution_count": 44,
   "metadata": {},
   "outputs": [],
   "source": [
    "def get_location_from_adj(c, communes):   \n",
    "    \"\"\"\n",
    "    Returns the most similar commune to the adjective c from the list of communes\n",
    "    \"\"\"\n",
    "    c_ = stem(c)\n",
    "    dist = []\n",
    "    for a in communes :\n",
    "        limit = min(int(2*len(c)/3), len(a))\n",
    "        a1 =  \"\".join(list(a)[:limit])\n",
    "        c1 =  \"\".join(list(c)[:limit])\n",
    "        d1 = nltk.edit_distance(c1, a1)\n",
    "        d2 = nltk.edit_distance(c_, a)\n",
    "        dist.append([d1, d2])    \n",
    "    \n",
    "    dist = np.array(dist)\n",
    "    avg = 0.5*dist[:, 0] + 0.5*dist[:, 1]\n",
    "    sorted_ = np.argsort(avg)\n",
    "    \n",
    "    commune_ = communes[sorted_[0]]\n",
    "    return commune_   "
   ]
  },
  {
   "cell_type": "code",
   "execution_count": 45,
   "metadata": {},
   "outputs": [],
   "source": [
    "def get_geolocation(ip_adress):\n",
    "    \"\"\" \n",
    "    Get location from ip adress\n",
    "    \"\"\"\n",
    "    response = DbIpCity.get(ip_address, api_key='free')\n",
    "    return response.city"
   ]
  },
  {
   "cell_type": "code",
   "execution_count": 12,
   "metadata": {},
   "outputs": [
    {
     "data": {
      "text/plain": [
       "['03635X0545/PZ1']"
      ]
     },
     "execution_count": 12,
     "metadata": {},
     "output_type": "execute_result"
    }
   ],
   "source": [
    "get_bss(\"Quel était le niveau de la nappe phréatique à la station piézométrique 03635X0545/PZ1 le 12 janvier 2019 ?\")"
   ]
  },
  {
   "cell_type": "code",
   "execution_count": 13,
   "metadata": {
    "colab": {
     "base_uri": "https://localhost:8080/",
     "height": 35
    },
    "id": "fWs4AmmWkdPO",
    "outputId": "7c7a0033-b914-49ab-8f82-d55deef73bca"
   },
   "outputs": [
    {
     "data": {
      "text/plain": [
       "'45234'"
      ]
     },
     "execution_count": 13,
     "metadata": {},
     "output_type": "execute_result"
    }
   ],
   "source": [
    "c = get_insee(\"Orleans\")\n",
    "c[0]"
   ]
  },
  {
   "cell_type": "code",
   "execution_count": 14,
   "metadata": {
    "colab": {
     "base_uri": "https://localhost:8080/"
    },
    "id": "jfMdQJH3Cq9K",
    "outputId": "c6bb3e7d-5590-499e-8c03-68480ed335e1"
   },
   "outputs": [
    {
     "data": {
      "text/plain": [
       "['03635X0545/PZ1',\n",
       " '03636X1060/PZ2',\n",
       " '03636X1061/PZ3',\n",
       " '03636X1062/PZ4',\n",
       " '03982X1045/F']"
      ]
     },
     "execution_count": 14,
     "metadata": {},
     "output_type": "execute_result"
    }
   ],
   "source": [
    "bss  = insee_to_bss(c[0])\n",
    "bss"
   ]
  },
  {
   "cell_type": "code",
   "execution_count": 15,
   "metadata": {
    "colab": {
     "base_uri": "https://localhost:8080/"
    },
    "id": "ThlIijwxP7jb",
    "outputId": "52a3d97d-88d0-43d9-93a7-f200d19e0a88"
   },
   "outputs": [
    {
     "data": {
      "text/plain": [
       "{'count': 18,\n",
       " 'first': 'https://hubeau.eaufrance.fr/api/v1/niveaux_nappes/chroniques?code_bss=03635X0545/PZ1&date_debut_mesure=2019-01-12&date_fin_mesure=2019-01-30&page=1&size=19',\n",
       " 'last': None,\n",
       " 'prev': None,\n",
       " 'next': None,\n",
       " 'api_version': '1.4.0',\n",
       " 'data': [{'code_bss': '03635X0545/PZ1',\n",
       "   'urn_bss': 'http://services.ades.eaufrance.fr/pointeau/03635X0545/PZ1',\n",
       "   'date_mesure': '2019-01-12',\n",
       "   'timestamp_mesure': 1547334000000,\n",
       "   'niveau_nappe_eau': 88.39,\n",
       "   'mode_obtention': 'Valeur mesurée',\n",
       "   'statut': 'Donnée contrôlée niveau 2',\n",
       "   'qualification': 'Correcte',\n",
       "   'code_continuite': '2',\n",
       "   'nom_continuite': 'Point lié au point précédent',\n",
       "   'code_producteur': '293',\n",
       "   'nom_producteur': 'Service Géologique Régional Centre (293)',\n",
       "   'code_nature_mesure': None,\n",
       "   'nom_nature_mesure': None,\n",
       "   'profondeur_nappe': 4.95},\n",
       "  {'code_bss': '03635X0545/PZ1',\n",
       "   'urn_bss': 'http://services.ades.eaufrance.fr/pointeau/03635X0545/PZ1',\n",
       "   'date_mesure': '2019-01-13',\n",
       "   'timestamp_mesure': 1547366400000,\n",
       "   'niveau_nappe_eau': 88.4,\n",
       "   'mode_obtention': 'Valeur mesurée',\n",
       "   'statut': 'Donnée contrôlée niveau 2',\n",
       "   'qualification': 'Correcte',\n",
       "   'code_continuite': '2',\n",
       "   'nom_continuite': 'Point lié au point précédent',\n",
       "   'code_producteur': '293',\n",
       "   'nom_producteur': 'Service Géologique Régional Centre (293)',\n",
       "   'code_nature_mesure': None,\n",
       "   'nom_nature_mesure': None,\n",
       "   'profondeur_nappe': 4.94},\n",
       "  {'code_bss': '03635X0545/PZ1',\n",
       "   'urn_bss': 'http://services.ades.eaufrance.fr/pointeau/03635X0545/PZ1',\n",
       "   'date_mesure': '2019-01-14',\n",
       "   'timestamp_mesure': 1547445600000,\n",
       "   'niveau_nappe_eau': 88.42,\n",
       "   'mode_obtention': 'Valeur mesurée',\n",
       "   'statut': 'Donnée contrôlée niveau 2',\n",
       "   'qualification': 'Correcte',\n",
       "   'code_continuite': '2',\n",
       "   'nom_continuite': 'Point lié au point précédent',\n",
       "   'code_producteur': '293',\n",
       "   'nom_producteur': 'Service Géologique Régional Centre (293)',\n",
       "   'code_nature_mesure': None,\n",
       "   'nom_nature_mesure': None,\n",
       "   'profondeur_nappe': 4.92},\n",
       "  {'code_bss': '03635X0545/PZ1',\n",
       "   'urn_bss': 'http://services.ades.eaufrance.fr/pointeau/03635X0545/PZ1',\n",
       "   'date_mesure': '2019-01-15',\n",
       "   'timestamp_mesure': 1547524800000,\n",
       "   'niveau_nappe_eau': 88.43,\n",
       "   'mode_obtention': 'Valeur mesurée',\n",
       "   'statut': 'Donnée contrôlée niveau 2',\n",
       "   'qualification': 'Correcte',\n",
       "   'code_continuite': '2',\n",
       "   'nom_continuite': 'Point lié au point précédent',\n",
       "   'code_producteur': '293',\n",
       "   'nom_producteur': 'Service Géologique Régional Centre (293)',\n",
       "   'code_nature_mesure': None,\n",
       "   'nom_nature_mesure': None,\n",
       "   'profondeur_nappe': 4.91},\n",
       "  {'code_bss': '03635X0545/PZ1',\n",
       "   'urn_bss': 'http://services.ades.eaufrance.fr/pointeau/03635X0545/PZ1',\n",
       "   'date_mesure': '2019-01-16',\n",
       "   'timestamp_mesure': 1547647200000,\n",
       "   'niveau_nappe_eau': 88.47,\n",
       "   'mode_obtention': 'Valeur mesurée',\n",
       "   'statut': 'Donnée contrôlée niveau 2',\n",
       "   'qualification': 'Correcte',\n",
       "   'code_continuite': '2',\n",
       "   'nom_continuite': 'Point lié au point précédent',\n",
       "   'code_producteur': '293',\n",
       "   'nom_producteur': 'Service Géologique Régional Centre (293)',\n",
       "   'code_nature_mesure': None,\n",
       "   'nom_nature_mesure': None,\n",
       "   'profondeur_nappe': 4.87},\n",
       "  {'code_bss': '03635X0545/PZ1',\n",
       "   'urn_bss': 'http://services.ades.eaufrance.fr/pointeau/03635X0545/PZ1',\n",
       "   'date_mesure': '2019-01-17',\n",
       "   'timestamp_mesure': 1547758800000,\n",
       "   'niveau_nappe_eau': 88.48,\n",
       "   'mode_obtention': 'Valeur mesurée',\n",
       "   'statut': 'Donnée contrôlée niveau 2',\n",
       "   'qualification': 'Correcte',\n",
       "   'code_continuite': '2',\n",
       "   'nom_continuite': 'Point lié au point précédent',\n",
       "   'code_producteur': '293',\n",
       "   'nom_producteur': 'Service Géologique Régional Centre (293)',\n",
       "   'code_nature_mesure': None,\n",
       "   'nom_nature_mesure': None,\n",
       "   'profondeur_nappe': 4.86},\n",
       "  {'code_bss': '03635X0545/PZ1',\n",
       "   'urn_bss': 'http://services.ades.eaufrance.fr/pointeau/03635X0545/PZ1',\n",
       "   'date_mesure': '2019-01-18',\n",
       "   'timestamp_mesure': 1547848800000,\n",
       "   'niveau_nappe_eau': 88.52,\n",
       "   'mode_obtention': 'Valeur mesurée',\n",
       "   'statut': 'Donnée contrôlée niveau 2',\n",
       "   'qualification': 'Correcte',\n",
       "   'code_continuite': '2',\n",
       "   'nom_continuite': 'Point lié au point précédent',\n",
       "   'code_producteur': '293',\n",
       "   'nom_producteur': 'Service Géologique Régional Centre (293)',\n",
       "   'code_nature_mesure': None,\n",
       "   'nom_nature_mesure': None,\n",
       "   'profondeur_nappe': 4.82},\n",
       "  {'code_bss': '03635X0545/PZ1',\n",
       "   'urn_bss': 'http://services.ades.eaufrance.fr/pointeau/03635X0545/PZ1',\n",
       "   'date_mesure': '2019-01-19',\n",
       "   'timestamp_mesure': 1547935200000,\n",
       "   'niveau_nappe_eau': 88.54,\n",
       "   'mode_obtention': 'Valeur mesurée',\n",
       "   'statut': 'Donnée contrôlée niveau 2',\n",
       "   'qualification': 'Correcte',\n",
       "   'code_continuite': '2',\n",
       "   'nom_continuite': 'Point lié au point précédent',\n",
       "   'code_producteur': '293',\n",
       "   'nom_producteur': 'Service Géologique Régional Centre (293)',\n",
       "   'code_nature_mesure': None,\n",
       "   'nom_nature_mesure': None,\n",
       "   'profondeur_nappe': 4.8},\n",
       "  {'code_bss': '03635X0545/PZ1',\n",
       "   'urn_bss': 'http://services.ades.eaufrance.fr/pointeau/03635X0545/PZ1',\n",
       "   'date_mesure': '2019-01-20',\n",
       "   'timestamp_mesure': 1547946000000,\n",
       "   'niveau_nappe_eau': 88.54,\n",
       "   'mode_obtention': 'Valeur mesurée',\n",
       "   'statut': 'Donnée contrôlée niveau 2',\n",
       "   'qualification': 'Correcte',\n",
       "   'code_continuite': '2',\n",
       "   'nom_continuite': 'Point lié au point précédent',\n",
       "   'code_producteur': '293',\n",
       "   'nom_producteur': 'Service Géologique Régional Centre (293)',\n",
       "   'code_nature_mesure': None,\n",
       "   'nom_nature_mesure': None,\n",
       "   'profondeur_nappe': 4.8},\n",
       "  {'code_bss': '03635X0545/PZ1',\n",
       "   'urn_bss': 'http://services.ades.eaufrance.fr/pointeau/03635X0545/PZ1',\n",
       "   'date_mesure': '2019-01-21',\n",
       "   'timestamp_mesure': 1548032400000,\n",
       "   'niveau_nappe_eau': 88.52,\n",
       "   'mode_obtention': 'Valeur mesurée',\n",
       "   'statut': 'Donnée contrôlée niveau 2',\n",
       "   'qualification': 'Correcte',\n",
       "   'code_continuite': '2',\n",
       "   'nom_continuite': 'Point lié au point précédent',\n",
       "   'code_producteur': '293',\n",
       "   'nom_producteur': 'Service Géologique Régional Centre (293)',\n",
       "   'code_nature_mesure': None,\n",
       "   'nom_nature_mesure': None,\n",
       "   'profondeur_nappe': 4.82},\n",
       "  {'code_bss': '03635X0545/PZ1',\n",
       "   'urn_bss': 'http://services.ades.eaufrance.fr/pointeau/03635X0545/PZ1',\n",
       "   'date_mesure': '2019-01-22',\n",
       "   'timestamp_mesure': 1548180000000,\n",
       "   'niveau_nappe_eau': 88.51,\n",
       "   'mode_obtention': 'Valeur mesurée',\n",
       "   'statut': 'Donnée contrôlée niveau 2',\n",
       "   'qualification': 'Correcte',\n",
       "   'code_continuite': '2',\n",
       "   'nom_continuite': 'Point lié au point précédent',\n",
       "   'code_producteur': '293',\n",
       "   'nom_producteur': 'Service Géologique Régional Centre (293)',\n",
       "   'code_nature_mesure': None,\n",
       "   'nom_nature_mesure': None,\n",
       "   'profondeur_nappe': 4.83},\n",
       "  {'code_bss': '03635X0545/PZ1',\n",
       "   'urn_bss': 'http://services.ades.eaufrance.fr/pointeau/03635X0545/PZ1',\n",
       "   'date_mesure': '2019-01-23',\n",
       "   'timestamp_mesure': 1548216000000,\n",
       "   'niveau_nappe_eau': 88.53,\n",
       "   'mode_obtention': 'Valeur mesurée',\n",
       "   'statut': 'Donnée contrôlée niveau 2',\n",
       "   'qualification': 'Correcte',\n",
       "   'code_continuite': '2',\n",
       "   'nom_continuite': 'Point lié au point précédent',\n",
       "   'code_producteur': '293',\n",
       "   'nom_producteur': 'Service Géologique Régional Centre (293)',\n",
       "   'code_nature_mesure': None,\n",
       "   'nom_nature_mesure': None,\n",
       "   'profondeur_nappe': 4.81},\n",
       "  {'code_bss': '03635X0545/PZ1',\n",
       "   'urn_bss': 'http://services.ades.eaufrance.fr/pointeau/03635X0545/PZ1',\n",
       "   'date_mesure': '2019-01-24',\n",
       "   'timestamp_mesure': 1548291600000,\n",
       "   'niveau_nappe_eau': 88.51,\n",
       "   'mode_obtention': 'Valeur mesurée',\n",
       "   'statut': 'Donnée contrôlée niveau 2',\n",
       "   'qualification': 'Correcte',\n",
       "   'code_continuite': '2',\n",
       "   'nom_continuite': 'Point lié au point précédent',\n",
       "   'code_producteur': '293',\n",
       "   'nom_producteur': 'Service Géologique Régional Centre (293)',\n",
       "   'code_nature_mesure': None,\n",
       "   'nom_nature_mesure': None,\n",
       "   'profondeur_nappe': 4.83},\n",
       "  {'code_bss': '03635X0545/PZ1',\n",
       "   'urn_bss': 'http://services.ades.eaufrance.fr/pointeau/03635X0545/PZ1',\n",
       "   'date_mesure': '2019-01-25',\n",
       "   'timestamp_mesure': 1548446400000,\n",
       "   'niveau_nappe_eau': 88.54,\n",
       "   'mode_obtention': 'Valeur mesurée',\n",
       "   'statut': 'Donnée contrôlée niveau 2',\n",
       "   'qualification': 'Correcte',\n",
       "   'code_continuite': '2',\n",
       "   'nom_continuite': 'Point lié au point précédent',\n",
       "   'code_producteur': '293',\n",
       "   'nom_producteur': 'Service Géologique Régional Centre (293)',\n",
       "   'code_nature_mesure': None,\n",
       "   'nom_nature_mesure': None,\n",
       "   'profondeur_nappe': 4.8},\n",
       "  {'code_bss': '03635X0545/PZ1',\n",
       "   'urn_bss': 'http://services.ades.eaufrance.fr/pointeau/03635X0545/PZ1',\n",
       "   'date_mesure': '2019-01-26',\n",
       "   'timestamp_mesure': 1548536400000,\n",
       "   'niveau_nappe_eau': 88.56,\n",
       "   'mode_obtention': 'Valeur mesurée',\n",
       "   'statut': 'Donnée contrôlée niveau 2',\n",
       "   'qualification': 'Correcte',\n",
       "   'code_continuite': '2',\n",
       "   'nom_continuite': 'Point lié au point précédent',\n",
       "   'code_producteur': '293',\n",
       "   'nom_producteur': 'Service Géologique Régional Centre (293)',\n",
       "   'code_nature_mesure': None,\n",
       "   'nom_nature_mesure': None,\n",
       "   'profondeur_nappe': 4.78},\n",
       "  {'code_bss': '03635X0545/PZ1',\n",
       "   'urn_bss': 'http://services.ades.eaufrance.fr/pointeau/03635X0545/PZ1',\n",
       "   'date_mesure': '2019-01-27',\n",
       "   'timestamp_mesure': 1548561600000,\n",
       "   'niveau_nappe_eau': 88.58,\n",
       "   'mode_obtention': 'Valeur mesurée',\n",
       "   'statut': 'Donnée contrôlée niveau 2',\n",
       "   'qualification': 'Correcte',\n",
       "   'code_continuite': '2',\n",
       "   'nom_continuite': 'Point lié au point précédent',\n",
       "   'code_producteur': '293',\n",
       "   'nom_producteur': 'Service Géologique Régional Centre (293)',\n",
       "   'code_nature_mesure': None,\n",
       "   'nom_nature_mesure': None,\n",
       "   'profondeur_nappe': 4.76},\n",
       "  {'code_bss': '03635X0545/PZ1',\n",
       "   'urn_bss': 'http://services.ades.eaufrance.fr/pointeau/03635X0545/PZ1',\n",
       "   'date_mesure': '2019-01-28',\n",
       "   'timestamp_mesure': 1548702000000,\n",
       "   'niveau_nappe_eau': 88.6,\n",
       "   'mode_obtention': 'Valeur mesurée',\n",
       "   'statut': 'Donnée contrôlée niveau 2',\n",
       "   'qualification': 'Correcte',\n",
       "   'code_continuite': '2',\n",
       "   'nom_continuite': 'Point lié au point précédent',\n",
       "   'code_producteur': '293',\n",
       "   'nom_producteur': 'Service Géologique Régional Centre (293)',\n",
       "   'code_nature_mesure': None,\n",
       "   'nom_nature_mesure': None,\n",
       "   'profondeur_nappe': 4.74},\n",
       "  {'code_bss': '03635X0545/PZ1',\n",
       "   'urn_bss': 'http://services.ades.eaufrance.fr/pointeau/03635X0545/PZ1',\n",
       "   'date_mesure': '2019-01-29',\n",
       "   'timestamp_mesure': 1548799200000,\n",
       "   'niveau_nappe_eau': 88.66,\n",
       "   'mode_obtention': 'Valeur mesurée',\n",
       "   'statut': 'Donnée contrôlée niveau 2',\n",
       "   'qualification': 'Correcte',\n",
       "   'code_continuite': '2',\n",
       "   'nom_continuite': 'Point lié au point précédent',\n",
       "   'code_producteur': '293',\n",
       "   'nom_producteur': 'Service Géologique Régional Centre (293)',\n",
       "   'code_nature_mesure': None,\n",
       "   'nom_nature_mesure': None,\n",
       "   'profondeur_nappe': 4.68}]}"
      ]
     },
     "execution_count": 15,
     "metadata": {},
     "output_type": "execute_result"
    }
   ],
   "source": [
    "mesure = get_station_piezo(bss[0], start_date = \"2019-01-12\", end_date = \"2019-01-30\")\n",
    "mesure"
   ]
  },
  {
   "cell_type": "code",
   "execution_count": 47,
   "metadata": {},
   "outputs": [
    {
     "name": "stdout",
     "output_type": "stream",
     "text": [
      "2021-06-27 23:46:12,356 loading file NER_tool/stacked-standard-flair-150-wikiner.pt\n"
     ]
    },
    {
     "data": {
      "text/plain": [
       "['Orléans', 'Paris']"
      ]
     },
     "execution_count": 47,
     "metadata": {},
     "output_type": "execute_result"
    }
   ],
   "source": [
    "locations = get_locations(\"Quel est le niveau de la nappe phréatique à Orléans et Paris aujourd'hui?\")\n",
    "locations"
   ]
  },
  {
   "cell_type": "code",
   "execution_count": 48,
   "metadata": {},
   "outputs": [
    {
     "name": "stdout",
     "output_type": "stream",
     "text": [
      "2021-06-27 23:46:20,673 loading file NER_tool/stacked-standard-flair-150-wikiner.pt\n"
     ]
    },
    {
     "data": {
      "text/plain": [
       "['Coulmiers', 'Orléans']"
      ]
     },
     "execution_count": 48,
     "metadata": {},
     "output_type": "execute_result"
    }
   ],
   "source": [
    "locations = get_locations(\"A quelle profondeur se trouve la nappe à l'adresse 12 rue de Coulmiers, 45000 Orléans\")\n",
    "locations"
   ]
  },
  {
   "cell_type": "code",
   "execution_count": 49,
   "metadata": {},
   "outputs": [
    {
     "name": "stdout",
     "output_type": "stream",
     "text": [
      "2021-06-27 23:46:25,318 loading file NER_tool/stacked-standard-flair-150-wikiner.pt\n"
     ]
    },
    {
     "data": {
      "text/plain": [
       "[]"
      ]
     },
     "execution_count": 49,
     "metadata": {},
     "output_type": "execute_result"
    }
   ],
   "source": [
    "locations = get_locations(\"Y'a-t-il de l'eau dans le sous-sol lyonnais\")\n",
    "locations"
   ]
  },
  {
   "cell_type": "code",
   "execution_count": 50,
   "metadata": {},
   "outputs": [],
   "source": [
    "communes = pd.read_csv(\"Data/communes_names_distinct_.csv\", header = None).to_numpy().reshape(-1)"
   ]
  },
  {
   "cell_type": "code",
   "execution_count": 51,
   "metadata": {},
   "outputs": [
    {
     "data": {
      "text/plain": [
       "'orleans'"
      ]
     },
     "execution_count": 51,
     "metadata": {},
     "output_type": "execute_result"
    }
   ],
   "source": [
    "z = get_location_from_adj(\"orleannais\", communes)\n",
    "z"
   ]
  },
  {
   "cell_type": "code",
   "execution_count": 52,
   "metadata": {},
   "outputs": [
    {
     "data": {
      "text/plain": [
       "['lyon', 'paris']"
      ]
     },
     "execution_count": 52,
     "metadata": {},
     "output_type": "execute_result"
    }
   ],
   "source": [
    "adjs = POS_adj(\"Y'a-t-il de l'eau dans le sous-sol lyonnais et parisien\")\n",
    "locs = [get_location_from_adj(adj, communes) for adj in adjs]\n",
    "locs"
   ]
  },
  {
   "cell_type": "code",
   "execution_count": 53,
   "metadata": {},
   "outputs": [
    {
     "data": {
      "text/plain": [
       "'Paris'"
      ]
     },
     "execution_count": 53,
     "metadata": {},
     "output_type": "execute_result"
    }
   ],
   "source": [
    "with urllib.request.urlopen(\"https://geolocation-db.com/json\") as url:\n",
    "    data = json.loads(url.read().decode())\n",
    "    ip_address = data[\"IPv4\"]\n",
    "    \n",
    "get_geolocation(ip_address)"
   ]
  },
  {
   "cell_type": "code",
   "execution_count": 54,
   "metadata": {},
   "outputs": [
    {
     "data": {
      "text/plain": [
       "[('DATE', '2021-06-26', 'hier'), ('DATE', '2021-06-27', \"aujourd'hui\")]"
      ]
     },
     "execution_count": 54,
     "metadata": {},
     "output_type": "execute_result"
    }
   ],
   "source": []
  },
  {
   "cell_type": "code",
   "execution_count": 55,
   "metadata": {},
   "outputs": [
    {
     "data": {
      "text/plain": [
       "[('DATE', 'PRESENT_REF', 'maintenant')]"
      ]
     },
     "execution_count": 55,
     "metadata": {},
     "output_type": "execute_result"
    }
   ],
   "source": []
  },
  {
   "cell_type": "code",
   "execution_count": 56,
   "metadata": {},
   "outputs": [
    {
     "data": {
      "text/plain": [
       "[('DATE', '2021-W25', 'cette semaine')]"
      ]
     },
     "execution_count": 56,
     "metadata": {},
     "output_type": "execute_result"
    }
   ],
   "source": []
  },
  {
   "cell_type": "code",
   "execution_count": 61,
   "metadata": {},
   "outputs": [
    {
     "data": {
      "text/plain": [
       "[('DATE', '2021-06-16', '16 juin'), ('DATE', '2021-06-26', '26 juin')]"
      ]
     },
     "execution_count": 61,
     "metadata": {},
     "output_type": "execute_result"
    }
   ],
   "source": []
  },
  {
   "cell_type": "code",
   "execution_count": null,
   "metadata": {},
   "outputs": [],
   "source": []
  }
 ],
 "metadata": {
  "colab": {
   "name": "Hub'eau_trial1.ipynb",
   "provenance": []
  },
  "kernelspec": {
   "display_name": "Python 3",
   "language": "python",
   "name": "python3"
  },
  "language_info": {
   "codemirror_mode": {
    "name": "ipython",
    "version": 3
   },
   "file_extension": ".py",
   "mimetype": "text/x-python",
   "name": "python",
   "nbconvert_exporter": "python",
   "pygments_lexer": "ipython3",
   "version": "3.6.10"
  }
 },
 "nbformat": 4,
 "nbformat_minor": 1
}
