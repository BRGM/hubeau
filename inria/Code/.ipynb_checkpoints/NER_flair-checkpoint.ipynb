{
 "cells": [
  {
   "cell_type": "code",
   "execution_count": 1,
   "metadata": {
    "id": "sKPy_1S8e8gY"
   },
   "outputs": [],
   "source": [
    "import requests\n",
    "import pandas as pd\n",
    "from io import StringIO\n",
    "import json\n",
    "from matplotlib import pyplot\n",
    "import unicodedata\n",
    "%matplotlib inline"
   ]
  },
  {
   "cell_type": "code",
   "execution_count": 2,
   "metadata": {
    "id": "48caB86KjBOT"
   },
   "outputs": [],
   "source": [
    "def get_insee(commune):\n",
    "    \"\"\"\n",
    "    returns the insee code of the commune\n",
    "    \"\"\"\n",
    "    commune_ = unicodedata.normalize('NFD', commune.lower()).encode('ascii', 'ignore').decode(\"utf-8\")\n",
    "    url = 'https://geo.api.gouv.fr/communes?nom={c}&fields=nom,code,codesPostaux,'\\\n",
    "              'codeDepartement,codeRegion,population&format=json&geometry=centre'\\\n",
    "              .format(c=commune_)\n",
    "    exists = len(json.loads(requests.get(url).text))\n",
    "    if exists>0 :\n",
    "        return json.loads(requests.get(url).text)[0][\"code\"]\n",
    "    else:\n",
    "        print(\"Commune does not exist\")\n",
    "        return -1"
   ]
  },
  {
   "cell_type": "code",
   "execution_count": 3,
   "metadata": {
    "id": "AnJCYr5jmKQT"
   },
   "outputs": [],
   "source": [
    "def get_bss(code_commune):\n",
    "    url =  \"https://hubeau.eaufrance.fr/api/v1/niveaux_nappes/stations?code_commune={c}&format=json&size=20\".format(c=code_commune)\n",
    "    exists = json.loads(requests.get(url).text)[\"count\"]\n",
    "    if exists>0 :\n",
    "        data = json.loads(requests.get(url).text)\n",
    "        bss = [station[\"code_bss\"] for station in data[\"data\"]]\n",
    "        return bss\n",
    "\n",
    "    else:\n",
    "        print(\"Code commune does not exist\")\n",
    "        return -1"
   ]
  },
  {
   "cell_type": "code",
   "execution_count": 4,
   "metadata": {
    "id": "KVD99fybFgzV"
   },
   "outputs": [],
   "source": [
    "def get_station_piezo(station, start_date=None, end_date=None):\n",
    "    url = \"https://hubeau.eaufrance.fr/api/v1/niveaux_nappes/chroniques?code_bss={bss}&date_debut_mesure={d1}&date_fin_mesure={d2}&size=1\".format(bss=station, d1=start_date, d2=end_date)\n",
    "    number = json.loads(requests.get(url).text)[\"count\"]\n",
    "    if number > 0:\n",
    "        url = \"https://hubeau.eaufrance.fr/api/v1/niveaux_nappes/chroniques?code_bss={bss}&date_debut_mesure={d1}&date_fin_mesure={d2}&size={s}\".format(bss=station, d1=start_date, d2=end_date, s=number + 1)\n",
    "        return json.loads(requests.get(url).text)"
   ]
  },
  {
   "cell_type": "code",
   "execution_count": 5,
   "metadata": {
    "colab": {
     "base_uri": "https://localhost:8080/",
     "height": 35
    },
    "id": "fWs4AmmWkdPO",
    "outputId": "7c7a0033-b914-49ab-8f82-d55deef73bca"
   },
   "outputs": [
    {
     "data": {
      "text/plain": [
       "'45234'"
      ]
     },
     "execution_count": 5,
     "metadata": {},
     "output_type": "execute_result"
    }
   ],
   "source": [
    "c = get_insee(\"Orléans\")\n",
    "c"
   ]
  },
  {
   "cell_type": "code",
   "execution_count": 6,
   "metadata": {
    "colab": {
     "base_uri": "https://localhost:8080/"
    },
    "id": "jfMdQJH3Cq9K",
    "outputId": "c6bb3e7d-5590-499e-8c03-68480ed335e1"
   },
   "outputs": [
    {
     "data": {
      "text/plain": [
       "['03635X0545/PZ1',\n",
       " '03636X1060/PZ2',\n",
       " '03636X1061/PZ3',\n",
       " '03636X1062/PZ4',\n",
       " '03982X1045/F']"
      ]
     },
     "execution_count": 6,
     "metadata": {},
     "output_type": "execute_result"
    }
   ],
   "source": [
    "bss  = get_bss(c)\n",
    "bss"
   ]
  },
  {
   "cell_type": "code",
   "execution_count": 7,
   "metadata": {
    "colab": {
     "base_uri": "https://localhost:8080/"
    },
    "id": "ThlIijwxP7jb",
    "outputId": "52a3d97d-88d0-43d9-93a7-f200d19e0a88"
   },
   "outputs": [
    {
     "data": {
      "text/plain": [
       "{'count': 18,\n",
       " 'first': 'https://hubeau.eaufrance.fr/api/v1/niveaux_nappes/chroniques?code_bss=03635X0545/PZ1&date_debut_mesure=2019-01-12&date_fin_mesure=2019-01-30&page=1&size=19',\n",
       " 'last': None,\n",
       " 'prev': None,\n",
       " 'next': None,\n",
       " 'api_version': '1.4.0',\n",
       " 'data': [{'code_bss': '03635X0545/PZ1',\n",
       "   'urn_bss': 'http://services.ades.eaufrance.fr/pointeau/03635X0545/PZ1',\n",
       "   'date_mesure': '2019-01-12',\n",
       "   'timestamp_mesure': 1547334000000,\n",
       "   'niveau_nappe_eau': 88.39,\n",
       "   'mode_obtention': 'Valeur mesurée',\n",
       "   'statut': 'Donnée contrôlée niveau 2',\n",
       "   'qualification': 'Correcte',\n",
       "   'code_continuite': '2',\n",
       "   'nom_continuite': 'Point lié au point précédent',\n",
       "   'code_producteur': '293',\n",
       "   'nom_producteur': 'Service Géologique Régional Centre (293)',\n",
       "   'code_nature_mesure': None,\n",
       "   'nom_nature_mesure': None,\n",
       "   'profondeur_nappe': 4.95},\n",
       "  {'code_bss': '03635X0545/PZ1',\n",
       "   'urn_bss': 'http://services.ades.eaufrance.fr/pointeau/03635X0545/PZ1',\n",
       "   'date_mesure': '2019-01-13',\n",
       "   'timestamp_mesure': 1547366400000,\n",
       "   'niveau_nappe_eau': 88.4,\n",
       "   'mode_obtention': 'Valeur mesurée',\n",
       "   'statut': 'Donnée contrôlée niveau 2',\n",
       "   'qualification': 'Correcte',\n",
       "   'code_continuite': '2',\n",
       "   'nom_continuite': 'Point lié au point précédent',\n",
       "   'code_producteur': '293',\n",
       "   'nom_producteur': 'Service Géologique Régional Centre (293)',\n",
       "   'code_nature_mesure': None,\n",
       "   'nom_nature_mesure': None,\n",
       "   'profondeur_nappe': 4.94},\n",
       "  {'code_bss': '03635X0545/PZ1',\n",
       "   'urn_bss': 'http://services.ades.eaufrance.fr/pointeau/03635X0545/PZ1',\n",
       "   'date_mesure': '2019-01-14',\n",
       "   'timestamp_mesure': 1547445600000,\n",
       "   'niveau_nappe_eau': 88.42,\n",
       "   'mode_obtention': 'Valeur mesurée',\n",
       "   'statut': 'Donnée contrôlée niveau 2',\n",
       "   'qualification': 'Correcte',\n",
       "   'code_continuite': '2',\n",
       "   'nom_continuite': 'Point lié au point précédent',\n",
       "   'code_producteur': '293',\n",
       "   'nom_producteur': 'Service Géologique Régional Centre (293)',\n",
       "   'code_nature_mesure': None,\n",
       "   'nom_nature_mesure': None,\n",
       "   'profondeur_nappe': 4.92},\n",
       "  {'code_bss': '03635X0545/PZ1',\n",
       "   'urn_bss': 'http://services.ades.eaufrance.fr/pointeau/03635X0545/PZ1',\n",
       "   'date_mesure': '2019-01-15',\n",
       "   'timestamp_mesure': 1547524800000,\n",
       "   'niveau_nappe_eau': 88.43,\n",
       "   'mode_obtention': 'Valeur mesurée',\n",
       "   'statut': 'Donnée contrôlée niveau 2',\n",
       "   'qualification': 'Correcte',\n",
       "   'code_continuite': '2',\n",
       "   'nom_continuite': 'Point lié au point précédent',\n",
       "   'code_producteur': '293',\n",
       "   'nom_producteur': 'Service Géologique Régional Centre (293)',\n",
       "   'code_nature_mesure': None,\n",
       "   'nom_nature_mesure': None,\n",
       "   'profondeur_nappe': 4.91},\n",
       "  {'code_bss': '03635X0545/PZ1',\n",
       "   'urn_bss': 'http://services.ades.eaufrance.fr/pointeau/03635X0545/PZ1',\n",
       "   'date_mesure': '2019-01-16',\n",
       "   'timestamp_mesure': 1547647200000,\n",
       "   'niveau_nappe_eau': 88.47,\n",
       "   'mode_obtention': 'Valeur mesurée',\n",
       "   'statut': 'Donnée contrôlée niveau 2',\n",
       "   'qualification': 'Correcte',\n",
       "   'code_continuite': '2',\n",
       "   'nom_continuite': 'Point lié au point précédent',\n",
       "   'code_producteur': '293',\n",
       "   'nom_producteur': 'Service Géologique Régional Centre (293)',\n",
       "   'code_nature_mesure': None,\n",
       "   'nom_nature_mesure': None,\n",
       "   'profondeur_nappe': 4.87},\n",
       "  {'code_bss': '03635X0545/PZ1',\n",
       "   'urn_bss': 'http://services.ades.eaufrance.fr/pointeau/03635X0545/PZ1',\n",
       "   'date_mesure': '2019-01-17',\n",
       "   'timestamp_mesure': 1547758800000,\n",
       "   'niveau_nappe_eau': 88.48,\n",
       "   'mode_obtention': 'Valeur mesurée',\n",
       "   'statut': 'Donnée contrôlée niveau 2',\n",
       "   'qualification': 'Correcte',\n",
       "   'code_continuite': '2',\n",
       "   'nom_continuite': 'Point lié au point précédent',\n",
       "   'code_producteur': '293',\n",
       "   'nom_producteur': 'Service Géologique Régional Centre (293)',\n",
       "   'code_nature_mesure': None,\n",
       "   'nom_nature_mesure': None,\n",
       "   'profondeur_nappe': 4.86},\n",
       "  {'code_bss': '03635X0545/PZ1',\n",
       "   'urn_bss': 'http://services.ades.eaufrance.fr/pointeau/03635X0545/PZ1',\n",
       "   'date_mesure': '2019-01-18',\n",
       "   'timestamp_mesure': 1547848800000,\n",
       "   'niveau_nappe_eau': 88.52,\n",
       "   'mode_obtention': 'Valeur mesurée',\n",
       "   'statut': 'Donnée contrôlée niveau 2',\n",
       "   'qualification': 'Correcte',\n",
       "   'code_continuite': '2',\n",
       "   'nom_continuite': 'Point lié au point précédent',\n",
       "   'code_producteur': '293',\n",
       "   'nom_producteur': 'Service Géologique Régional Centre (293)',\n",
       "   'code_nature_mesure': None,\n",
       "   'nom_nature_mesure': None,\n",
       "   'profondeur_nappe': 4.82},\n",
       "  {'code_bss': '03635X0545/PZ1',\n",
       "   'urn_bss': 'http://services.ades.eaufrance.fr/pointeau/03635X0545/PZ1',\n",
       "   'date_mesure': '2019-01-19',\n",
       "   'timestamp_mesure': 1547935200000,\n",
       "   'niveau_nappe_eau': 88.54,\n",
       "   'mode_obtention': 'Valeur mesurée',\n",
       "   'statut': 'Donnée contrôlée niveau 2',\n",
       "   'qualification': 'Correcte',\n",
       "   'code_continuite': '2',\n",
       "   'nom_continuite': 'Point lié au point précédent',\n",
       "   'code_producteur': '293',\n",
       "   'nom_producteur': 'Service Géologique Régional Centre (293)',\n",
       "   'code_nature_mesure': None,\n",
       "   'nom_nature_mesure': None,\n",
       "   'profondeur_nappe': 4.8},\n",
       "  {'code_bss': '03635X0545/PZ1',\n",
       "   'urn_bss': 'http://services.ades.eaufrance.fr/pointeau/03635X0545/PZ1',\n",
       "   'date_mesure': '2019-01-20',\n",
       "   'timestamp_mesure': 1547946000000,\n",
       "   'niveau_nappe_eau': 88.54,\n",
       "   'mode_obtention': 'Valeur mesurée',\n",
       "   'statut': 'Donnée contrôlée niveau 2',\n",
       "   'qualification': 'Correcte',\n",
       "   'code_continuite': '2',\n",
       "   'nom_continuite': 'Point lié au point précédent',\n",
       "   'code_producteur': '293',\n",
       "   'nom_producteur': 'Service Géologique Régional Centre (293)',\n",
       "   'code_nature_mesure': None,\n",
       "   'nom_nature_mesure': None,\n",
       "   'profondeur_nappe': 4.8},\n",
       "  {'code_bss': '03635X0545/PZ1',\n",
       "   'urn_bss': 'http://services.ades.eaufrance.fr/pointeau/03635X0545/PZ1',\n",
       "   'date_mesure': '2019-01-21',\n",
       "   'timestamp_mesure': 1548032400000,\n",
       "   'niveau_nappe_eau': 88.52,\n",
       "   'mode_obtention': 'Valeur mesurée',\n",
       "   'statut': 'Donnée contrôlée niveau 2',\n",
       "   'qualification': 'Correcte',\n",
       "   'code_continuite': '2',\n",
       "   'nom_continuite': 'Point lié au point précédent',\n",
       "   'code_producteur': '293',\n",
       "   'nom_producteur': 'Service Géologique Régional Centre (293)',\n",
       "   'code_nature_mesure': None,\n",
       "   'nom_nature_mesure': None,\n",
       "   'profondeur_nappe': 4.82},\n",
       "  {'code_bss': '03635X0545/PZ1',\n",
       "   'urn_bss': 'http://services.ades.eaufrance.fr/pointeau/03635X0545/PZ1',\n",
       "   'date_mesure': '2019-01-22',\n",
       "   'timestamp_mesure': 1548180000000,\n",
       "   'niveau_nappe_eau': 88.51,\n",
       "   'mode_obtention': 'Valeur mesurée',\n",
       "   'statut': 'Donnée contrôlée niveau 2',\n",
       "   'qualification': 'Correcte',\n",
       "   'code_continuite': '2',\n",
       "   'nom_continuite': 'Point lié au point précédent',\n",
       "   'code_producteur': '293',\n",
       "   'nom_producteur': 'Service Géologique Régional Centre (293)',\n",
       "   'code_nature_mesure': None,\n",
       "   'nom_nature_mesure': None,\n",
       "   'profondeur_nappe': 4.83},\n",
       "  {'code_bss': '03635X0545/PZ1',\n",
       "   'urn_bss': 'http://services.ades.eaufrance.fr/pointeau/03635X0545/PZ1',\n",
       "   'date_mesure': '2019-01-23',\n",
       "   'timestamp_mesure': 1548216000000,\n",
       "   'niveau_nappe_eau': 88.53,\n",
       "   'mode_obtention': 'Valeur mesurée',\n",
       "   'statut': 'Donnée contrôlée niveau 2',\n",
       "   'qualification': 'Correcte',\n",
       "   'code_continuite': '2',\n",
       "   'nom_continuite': 'Point lié au point précédent',\n",
       "   'code_producteur': '293',\n",
       "   'nom_producteur': 'Service Géologique Régional Centre (293)',\n",
       "   'code_nature_mesure': None,\n",
       "   'nom_nature_mesure': None,\n",
       "   'profondeur_nappe': 4.81},\n",
       "  {'code_bss': '03635X0545/PZ1',\n",
       "   'urn_bss': 'http://services.ades.eaufrance.fr/pointeau/03635X0545/PZ1',\n",
       "   'date_mesure': '2019-01-24',\n",
       "   'timestamp_mesure': 1548291600000,\n",
       "   'niveau_nappe_eau': 88.51,\n",
       "   'mode_obtention': 'Valeur mesurée',\n",
       "   'statut': 'Donnée contrôlée niveau 2',\n",
       "   'qualification': 'Correcte',\n",
       "   'code_continuite': '2',\n",
       "   'nom_continuite': 'Point lié au point précédent',\n",
       "   'code_producteur': '293',\n",
       "   'nom_producteur': 'Service Géologique Régional Centre (293)',\n",
       "   'code_nature_mesure': None,\n",
       "   'nom_nature_mesure': None,\n",
       "   'profondeur_nappe': 4.83},\n",
       "  {'code_bss': '03635X0545/PZ1',\n",
       "   'urn_bss': 'http://services.ades.eaufrance.fr/pointeau/03635X0545/PZ1',\n",
       "   'date_mesure': '2019-01-25',\n",
       "   'timestamp_mesure': 1548446400000,\n",
       "   'niveau_nappe_eau': 88.54,\n",
       "   'mode_obtention': 'Valeur mesurée',\n",
       "   'statut': 'Donnée contrôlée niveau 2',\n",
       "   'qualification': 'Correcte',\n",
       "   'code_continuite': '2',\n",
       "   'nom_continuite': 'Point lié au point précédent',\n",
       "   'code_producteur': '293',\n",
       "   'nom_producteur': 'Service Géologique Régional Centre (293)',\n",
       "   'code_nature_mesure': None,\n",
       "   'nom_nature_mesure': None,\n",
       "   'profondeur_nappe': 4.8},\n",
       "  {'code_bss': '03635X0545/PZ1',\n",
       "   'urn_bss': 'http://services.ades.eaufrance.fr/pointeau/03635X0545/PZ1',\n",
       "   'date_mesure': '2019-01-26',\n",
       "   'timestamp_mesure': 1548536400000,\n",
       "   'niveau_nappe_eau': 88.56,\n",
       "   'mode_obtention': 'Valeur mesurée',\n",
       "   'statut': 'Donnée contrôlée niveau 2',\n",
       "   'qualification': 'Correcte',\n",
       "   'code_continuite': '2',\n",
       "   'nom_continuite': 'Point lié au point précédent',\n",
       "   'code_producteur': '293',\n",
       "   'nom_producteur': 'Service Géologique Régional Centre (293)',\n",
       "   'code_nature_mesure': None,\n",
       "   'nom_nature_mesure': None,\n",
       "   'profondeur_nappe': 4.78},\n",
       "  {'code_bss': '03635X0545/PZ1',\n",
       "   'urn_bss': 'http://services.ades.eaufrance.fr/pointeau/03635X0545/PZ1',\n",
       "   'date_mesure': '2019-01-27',\n",
       "   'timestamp_mesure': 1548561600000,\n",
       "   'niveau_nappe_eau': 88.58,\n",
       "   'mode_obtention': 'Valeur mesurée',\n",
       "   'statut': 'Donnée contrôlée niveau 2',\n",
       "   'qualification': 'Correcte',\n",
       "   'code_continuite': '2',\n",
       "   'nom_continuite': 'Point lié au point précédent',\n",
       "   'code_producteur': '293',\n",
       "   'nom_producteur': 'Service Géologique Régional Centre (293)',\n",
       "   'code_nature_mesure': None,\n",
       "   'nom_nature_mesure': None,\n",
       "   'profondeur_nappe': 4.76},\n",
       "  {'code_bss': '03635X0545/PZ1',\n",
       "   'urn_bss': 'http://services.ades.eaufrance.fr/pointeau/03635X0545/PZ1',\n",
       "   'date_mesure': '2019-01-28',\n",
       "   'timestamp_mesure': 1548702000000,\n",
       "   'niveau_nappe_eau': 88.6,\n",
       "   'mode_obtention': 'Valeur mesurée',\n",
       "   'statut': 'Donnée contrôlée niveau 2',\n",
       "   'qualification': 'Correcte',\n",
       "   'code_continuite': '2',\n",
       "   'nom_continuite': 'Point lié au point précédent',\n",
       "   'code_producteur': '293',\n",
       "   'nom_producteur': 'Service Géologique Régional Centre (293)',\n",
       "   'code_nature_mesure': None,\n",
       "   'nom_nature_mesure': None,\n",
       "   'profondeur_nappe': 4.74},\n",
       "  {'code_bss': '03635X0545/PZ1',\n",
       "   'urn_bss': 'http://services.ades.eaufrance.fr/pointeau/03635X0545/PZ1',\n",
       "   'date_mesure': '2019-01-29',\n",
       "   'timestamp_mesure': 1548799200000,\n",
       "   'niveau_nappe_eau': 88.66,\n",
       "   'mode_obtention': 'Valeur mesurée',\n",
       "   'statut': 'Donnée contrôlée niveau 2',\n",
       "   'qualification': 'Correcte',\n",
       "   'code_continuite': '2',\n",
       "   'nom_continuite': 'Point lié au point précédent',\n",
       "   'code_producteur': '293',\n",
       "   'nom_producteur': 'Service Géologique Régional Centre (293)',\n",
       "   'code_nature_mesure': None,\n",
       "   'nom_nature_mesure': None,\n",
       "   'profondeur_nappe': 4.68}]}"
      ]
     },
     "execution_count": 7,
     "metadata": {},
     "output_type": "execute_result"
    }
   ],
   "source": [
    "mesure = get_station_piezo(bss[0], start_date = \"2019-01-12\", end_date = \"2019-01-30\")\n",
    "mesure"
   ]
  },
  {
   "cell_type": "code",
   "execution_count": 26,
   "metadata": {
    "id": "C9qGKKe2RWT-"
   },
   "outputs": [],
   "source": [
    "import predict_flair\n",
    "from flair.models import SequenceTagger\n",
    "import fr_core_news_lg as fr\n",
    "\n",
    "def get_locations(query):\n",
    "    \n",
    "    batch_size = 4\n",
    "    MODEL_PATH = \"/home/maya/Documents/hubeau/inria/Code/NER_tool/stacked-standard-flair-150-wikiner.pt\"\n",
    "    tag_type = \"label\"\n",
    "    model = SequenceTagger.load(MODEL_PATH)\n",
    "    \n",
    "    snippets = [[1, query]]\n",
    "    result = predict_flair.get_entities(snippets, model, tag_type, batch_size)[\"snippets\"][0][1]\n",
    "    locations = [entity[\"text\"] for entity in result[\"entities\"] if entity[\"type\"] == \"LOC\"]\n",
    "    return locations"
   ]
  },
  {
   "cell_type": "code",
   "execution_count": 27,
   "metadata": {},
   "outputs": [
    {
     "name": "stdout",
     "output_type": "stream",
     "text": [
      "2021-06-19 17:08:51,703 loading file /home/maya/Documents/hubeau/inria/Code/NER_tool/stacked-standard-flair-150-wikiner.pt\n"
     ]
    },
    {
     "data": {
      "text/plain": [
       "['Orléans']"
      ]
     },
     "execution_count": 27,
     "metadata": {},
     "output_type": "execute_result"
    }
   ],
   "source": [
    "locations = get_locations(\"Quel est le niveau de la nappe phréatique à Orléans aujourd'hui?\")\n",
    "locations"
   ]
  },
  {
   "cell_type": "code",
   "execution_count": 11,
   "metadata": {},
   "outputs": [
    {
     "name": "stdout",
     "output_type": "stream",
     "text": [
      "2021-06-19 16:02:38,532 loading file /home/maya/Documents/hubeau/inria/Code/NER_tool/stacked-standard-flair-150-wikiner.pt\n",
      "à quel profondeur se trouve le nappe à le adresse 12 rue de Coulmiers , 45000 Orléans\n"
     ]
    },
    {
     "data": {
      "text/plain": [
       "['Coulmiers', 'Orléans']"
      ]
     },
     "execution_count": 11,
     "metadata": {},
     "output_type": "execute_result"
    }
   ],
   "source": [
    "locations = get_locations(\"A quelle profondeur se trouve la nappe à l'adresse 12 rue de Coulmiers, 45000 Orléans\")\n",
    "locations"
   ]
  },
  {
   "cell_type": "code",
   "execution_count": 12,
   "metadata": {},
   "outputs": [
    {
     "name": "stdout",
     "output_type": "stream",
     "text": [
      "2021-06-19 16:02:44,217 loading file /home/maya/Documents/hubeau/inria/Code/NER_tool/stacked-standard-flair-150-wikiner.pt\n",
      "Y' avoir -t il de le eau dans le sous-sol parisien\n"
     ]
    },
    {
     "data": {
      "text/plain": [
       "[]"
      ]
     },
     "execution_count": 12,
     "metadata": {},
     "output_type": "execute_result"
    }
   ],
   "source": [
    "locations = get_locations(\"Y'a-t-il de l'eau dans le sous-sol parisien\")\n",
    "locations"
   ]
  },
  {
   "cell_type": "code",
   "execution_count": 28,
   "metadata": {},
   "outputs": [
    {
     "name": "stdout",
     "output_type": "stream",
     "text": [
      "2021-06-19 17:10:56,099 loading file /home/maya/Documents/hubeau/inria/Code/NER_tool/stacked-standard-flair-150-wikiner.pt\n"
     ]
    },
    {
     "data": {
      "text/plain": [
       "['Loury', 'Loiret']"
      ]
     },
     "execution_count": 28,
     "metadata": {},
     "output_type": "execute_result"
    }
   ],
   "source": [
    "locations = get_locations(\"J'habite à Loury dans le Loiret, à quelle profondeur faut-il que je creuse un puits dans mon jardin pour avoir de l'eau \")\n",
    "locations"
   ]
  },
  {
   "cell_type": "code",
   "execution_count": 43,
   "metadata": {},
   "outputs": [
    {
     "data": {
      "text/plain": [
       "['parisian.n.01', 'parisian.a.01']"
      ]
     },
     "execution_count": 43,
     "metadata": {},
     "output_type": "execute_result"
    }
   ],
   "source": [
    "from nltk.corpus import wordnet as wn\n",
    "x = [synset.name() for synset in wn.synsets('Parisian')]\n",
    "x"
   ]
  },
  {
   "cell_type": "code",
   "execution_count": 35,
   "metadata": {},
   "outputs": [
    {
     "name": "stderr",
     "output_type": "stream",
     "text": [
      "[nltk_data] Downloading package omw to /home/maya/nltk_data...\n",
      "[nltk_data]   Unzipping corpora/omw.zip.\n"
     ]
    },
    {
     "data": {
      "text/plain": [
       "True"
      ]
     },
     "execution_count": 35,
     "metadata": {},
     "output_type": "execute_result"
    }
   ],
   "source": [
    "import nltk\n",
    "nltk.download('omw')"
   ]
  },
  {
   "cell_type": "code",
   "execution_count": 7,
   "metadata": {},
   "outputs": [
    {
     "name": "stdout",
     "output_type": "stream",
     "text": [
      "<?xml version=\"1.0\"?>\n",
      "<!DOCTYPE TimeML SYSTEM \"TimeML.dtd\">\n",
      "<TimeML>\n",
      "Quel est le niveau de la nappe phréatique à Orléans <TIMEX3 tid=\"t1\" type=\"DATE\" value=\"2021-06-17\">hier</TIMEX3> et <TIMEX3 tid=\"t2\" type=\"DATE\" value=\"2021-06-18\">aujourd'hui</TIMEX3>?\n",
      "</TimeML>\n",
      "\n",
      "\n"
     ]
    }
   ],
   "source": [
    "from python_heideltime import Heideltime\n",
    "\n",
    "heideltime_parser = Heideltime()\n",
    "heideltime_parser.set_document_type('NEWS')\n",
    "heideltime_parser.set_language('FRENCH')\n",
    "print(heideltime_parser.parse(\"Quel est le niveau de la nappe phréatique à Orléans hier et aujourd'hui?\"))"
   ]
  },
  {
   "cell_type": "code",
   "execution_count": null,
   "metadata": {},
   "outputs": [],
   "source": []
  }
 ],
 "metadata": {
  "colab": {
   "name": "Hub'eau_trial1.ipynb",
   "provenance": []
  },
  "kernelspec": {
   "display_name": "Python 3",
   "language": "python",
   "name": "python3"
  },
  "language_info": {
   "codemirror_mode": {
    "name": "ipython",
    "version": 3
   },
   "file_extension": ".py",
   "mimetype": "text/x-python",
   "name": "python",
   "nbconvert_exporter": "python",
   "pygments_lexer": "ipython3",
   "version": "3.6.10"
  }
 },
 "nbformat": 4,
 "nbformat_minor": 1
}
