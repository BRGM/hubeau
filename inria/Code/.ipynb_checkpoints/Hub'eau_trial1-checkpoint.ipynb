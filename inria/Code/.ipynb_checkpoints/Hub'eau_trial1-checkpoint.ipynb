{
 "cells": [
  {
   "cell_type": "code",
   "execution_count": 5,
   "metadata": {
    "id": "sKPy_1S8e8gY"
   },
   "outputs": [
    {
     "ename": "ModuleNotFoundError",
     "evalue": "No module named 'matplotlib'",
     "output_type": "error",
     "traceback": [
      "\u001b[0;31m---------------------------------------------------------------------------\u001b[0m",
      "\u001b[0;31mModuleNotFoundError\u001b[0m                       Traceback (most recent call last)",
      "\u001b[0;32m<ipython-input-5-81f8980a4a8d>\u001b[0m in \u001b[0;36m<module>\u001b[0;34m\u001b[0m\n\u001b[1;32m      3\u001b[0m \u001b[0;32mfrom\u001b[0m \u001b[0mio\u001b[0m \u001b[0;32mimport\u001b[0m \u001b[0mStringIO\u001b[0m\u001b[0;34m\u001b[0m\u001b[0;34m\u001b[0m\u001b[0m\n\u001b[1;32m      4\u001b[0m \u001b[0;32mimport\u001b[0m \u001b[0mjson\u001b[0m\u001b[0;34m\u001b[0m\u001b[0;34m\u001b[0m\u001b[0m\n\u001b[0;32m----> 5\u001b[0;31m \u001b[0;32mfrom\u001b[0m \u001b[0mmatplotlib\u001b[0m \u001b[0;32mimport\u001b[0m \u001b[0mpyplot\u001b[0m\u001b[0;34m\u001b[0m\u001b[0;34m\u001b[0m\u001b[0m\n\u001b[0m\u001b[1;32m      6\u001b[0m \u001b[0mget_ipython\u001b[0m\u001b[0;34m(\u001b[0m\u001b[0;34m)\u001b[0m\u001b[0;34m.\u001b[0m\u001b[0mrun_line_magic\u001b[0m\u001b[0;34m(\u001b[0m\u001b[0;34m'matplotlib'\u001b[0m\u001b[0;34m,\u001b[0m \u001b[0;34m'inline'\u001b[0m\u001b[0;34m)\u001b[0m\u001b[0;34m\u001b[0m\u001b[0;34m\u001b[0m\u001b[0m\n",
      "\u001b[0;31mModuleNotFoundError\u001b[0m: No module named 'matplotlib'"
     ]
    }
   ],
   "source": [
    "import requests\n",
    "import pandas as pd\n",
    "from io import StringIO\n",
    "import json\n",
    "from matplotlib import pyplot\n",
    "%matplotlib inline"
   ]
  },
  {
   "cell_type": "code",
   "execution_count": 6,
   "metadata": {},
   "outputs": [
    {
     "name": "stdout",
     "output_type": "stream",
     "text": [
      "Collecting matplotlib\n",
      "  Downloading matplotlib-3.4.2-cp38-cp38-manylinux1_x86_64.whl (10.3 MB)\n",
      "\u001b[K     |████████████████████████████████| 10.3 MB 2.2 MB/s eta 0:00:01\n",
      "\u001b[?25hRequirement already satisfied: numpy>=1.16 in /home/maya/anaconda3/envs/env1/lib/python3.8/site-packages (from matplotlib) (1.20.3)\n",
      "Collecting pillow>=6.2.0\n",
      "  Downloading Pillow-8.2.0-cp38-cp38-manylinux1_x86_64.whl (3.0 MB)\n",
      "\u001b[K     |████████████████████████████████| 3.0 MB 569 kB/s eta 0:00:01\n",
      "\u001b[?25hCollecting kiwisolver>=1.0.1\n",
      "  Downloading kiwisolver-1.3.1-cp38-cp38-manylinux1_x86_64.whl (1.2 MB)\n",
      "\u001b[K     |████████████████████████████████| 1.2 MB 2.4 MB/s eta 0:00:01\n",
      "\u001b[?25hCollecting cycler>=0.10\n",
      "  Downloading cycler-0.10.0-py2.py3-none-any.whl (6.5 kB)\n",
      "Requirement already satisfied: pyparsing>=2.2.1 in /home/maya/anaconda3/envs/env1/lib/python3.8/site-packages (from matplotlib) (2.4.7)\n",
      "Requirement already satisfied: python-dateutil>=2.7 in /home/maya/anaconda3/envs/env1/lib/python3.8/site-packages (from matplotlib) (2.8.1)\n",
      "Requirement already satisfied: six in /home/maya/anaconda3/envs/env1/lib/python3.8/site-packages (from cycler>=0.10->matplotlib) (1.16.0)\n",
      "Installing collected packages: pillow, kiwisolver, cycler, matplotlib\n",
      "Successfully installed cycler-0.10.0 kiwisolver-1.3.1 matplotlib-3.4.2 pillow-8.2.0\n"
     ]
    }
   ],
   "source": [
    "!pip install matplotlib"
   ]
  },
  {
   "cell_type": "code",
   "execution_count": 6,
   "metadata": {
    "id": "6ObI7swEfoGz"
   },
   "outputs": [],
   "source": [
    "def recupere_eau_sout_qualite_par_station(station, start_date, end_date, annee=None, departement=None):\n",
    "    analyses_number_url = 'http://hubeau.eaufrance.fr/api/v1/qualite_nappes/analyses' \\\n",
    "                                                          '?bss_id={s}&date_debut_prelevement={' \\\n",
    "                                                          'debut}&date_fin_prelevement={fin}&size=1'.format(s=station,\n",
    "                                                                                                            debut=start_date,\n",
    "                                                                                                            fin=end_date)\n",
    "    # print(analyses_number_url)\n",
    "    analyses_number = json.loads(requests.get(analyses_number_url).text)['count']\n",
    "\n",
    "    if analyses_number > 0:\n",
    "        analyses_content_url = 'http://hubeau.eaufrance.fr/api/v1/qualite_nappes/analyses.csv?bss_id={' \\\n",
    "                                           's}&date_debut_prelevement={debut}&date_fin_prelevement={fin}&size={nb}'.format(s=station,\n",
    "                                                                                                          debut=start_date,\n",
    "                                                                                                          fin=end_date,\n",
    "                                                                                                          nb=analyses_number + 1)\n",
    "        \n",
    "        print(\"Nombre d'analyses pour la station {s} dans le département {dep} sur l'année {annee} : {nb}\".format(s=station, dep=departement, annee=annee, nb=analyses_number))\n",
    "        return pd.read_csv(StringIO(requests.get(analyses_content_url).text), sep=';', parse_dates=['date_debut_prelevement'], infer_datetime_format=True)\n",
    "    else:\n",
    "        print(\"Pas d'analyses pour la station {s} dans le département {dep} sur l'année {annee}\".format(s=station, dep=departement, annee=annee))"
   ]
  },
  {
   "cell_type": "code",
   "execution_count": 7,
   "metadata": {
    "colab": {
     "base_uri": "https://localhost:8080/"
    },
    "id": "1qXsdCykgFIt",
    "outputId": "b0752857-55a0-4ba2-9a17-65368a101745"
   },
   "outputs": [
    {
     "name": "stdout",
     "output_type": "stream",
     "text": [
      "Nombre d'analyses pour la station BSS000UTKB dans le département None sur l'année None : 542\n",
      "<class 'pandas.core.frame.DataFrame'>\n",
      "RangeIndex: 542 entries, 0 to 541\n",
      "Data columns (total 72 columns):\n",
      " #   Column                                      Non-Null Count  Dtype         \n",
      "---  ------                                      --------------  -----         \n",
      " 0   bss_id                                      542 non-null    object        \n",
      " 1   code_bss                                    542 non-null    object        \n",
      " 2   urn_bss                                     542 non-null    object        \n",
      " 3   precision_coordonnees                       0 non-null      float64       \n",
      " 4   longitude                                   542 non-null    float64       \n",
      " 5   latitude                                    542 non-null    float64       \n",
      " 6   altitude                                    542 non-null    float64       \n",
      " 7   code_insee_actuel                           542 non-null    int64         \n",
      " 8   nom_commune_actuel                          542 non-null    object        \n",
      " 9   num_departement                             542 non-null    int64         \n",
      " 10  nom_departement                             542 non-null    object        \n",
      " 11  code_region                                 542 non-null    int64         \n",
      " 12  nom_region                                  542 non-null    object        \n",
      " 13  code_circonscription_administrative_bassin  542 non-null    int64         \n",
      " 14  nom_circonscription_administrative_bassin   542 non-null    object        \n",
      " 15  code_bassin_dce                             542 non-null    object        \n",
      " 16  nom_bassin_dce                              542 non-null    object        \n",
      " 17  urn_bassin_dce                              542 non-null    object        \n",
      " 18  code_type_point_eau                         542 non-null    int64         \n",
      " 19  nom_type_point_eau                          542 non-null    object        \n",
      " 20  codes_entite_hg_bdlisa                      542 non-null    object        \n",
      " 21  noms_entite_hg_bdlisa                       542 non-null    object        \n",
      " 22  urns_bdlisa                                 542 non-null    object        \n",
      " 23  codes_masse_eau_rap                         542 non-null    object        \n",
      " 24  noms_masse_eau_rap                          542 non-null    object        \n",
      " 25  urns_masse_eau_rap                          542 non-null    object        \n",
      " 26  codes_masse_eau_edl                         542 non-null    object        \n",
      " 27  noms_masse_eau_edl                          542 non-null    object        \n",
      " 28  urns_masse_eau_edl                          542 non-null    object        \n",
      " 29  codes_reseau                                542 non-null    int64         \n",
      " 30  noms_reseau                                 542 non-null    object        \n",
      " 31  uris_reseau                                 542 non-null    object        \n",
      " 32  code_type_qualito                           542 non-null    int64         \n",
      " 33  nom_type_qualito                            542 non-null    object        \n",
      " 34  uri_type_qualito                            542 non-null    object        \n",
      " 35  code_producteur                             542 non-null    int64         \n",
      " 36  nom_producteur                              542 non-null    object        \n",
      " 37  uri_producteur                              542 non-null    object        \n",
      " 38  date_debut_prelevement                      542 non-null    datetime64[ns]\n",
      " 39  code_param                                  542 non-null    int64         \n",
      " 40  nom_param                                   542 non-null    object        \n",
      " 41  uri_param                                   542 non-null    object        \n",
      " 42  code_fraction                               542 non-null    int64         \n",
      " 43  nom_fraction                                542 non-null    object        \n",
      " 44  uri_fraction                                542 non-null    object        \n",
      " 45  resultat                                    542 non-null    float64       \n",
      " 46  code_remarque_analyse                       542 non-null    int64         \n",
      " 47  nom_remarque_analyse                        542 non-null    object        \n",
      " 48  uri_remarque_analyse                        542 non-null    object        \n",
      " 49  code_lieu_analyse                           542 non-null    int64         \n",
      " 50  nom_lieu_analyse                            542 non-null    object        \n",
      " 51  uri_lieu_analyse                            542 non-null    object        \n",
      " 52  code_methode                                542 non-null    int64         \n",
      " 53  nom_methode                                 542 non-null    object        \n",
      " 54  uri_methode                                 542 non-null    object        \n",
      " 55  code_unite                                  542 non-null    object        \n",
      " 56  nom_unite                                   542 non-null    object        \n",
      " 57  symbole_unite                               542 non-null    object        \n",
      " 58  uri_unite                                   542 non-null    object        \n",
      " 59  code_statut_analyse                         542 non-null    int64         \n",
      " 60  nom_statut_analyse                          542 non-null    object        \n",
      " 61  uri_statut_analyse                          542 non-null    object        \n",
      " 62  code_qualification                          542 non-null    int64         \n",
      " 63  nom_qualification                           542 non-null    object        \n",
      " 64  uri_qualification                           542 non-null    object        \n",
      " 65  limite_quantification                       0 non-null      float64       \n",
      " 66  limite_detection                            0 non-null      float64       \n",
      " 67  seuil_saturation                            0 non-null      float64       \n",
      " 68  incertitude_analytique                      0 non-null      float64       \n",
      " 69  codes_groupe_parametre                      542 non-null    object        \n",
      " 70  noms_groupe_parametre                       542 non-null    object        \n",
      " 71  uris_groupe_parametre                       542 non-null    object        \n",
      "dtypes: datetime64[ns](1), float64(9), int64(15), object(47)\n",
      "memory usage: 305.0+ KB\n"
     ]
    }
   ],
   "source": [
    "exemple = recupere_eau_sout_qualite_par_station(station='BSS000UTKB', start_date='2016-01-01', end_date='2017-01-01')\n",
    "\n",
    "exemple.info()"
   ]
  },
  {
   "cell_type": "code",
   "execution_count": 8,
   "metadata": {
    "colab": {
     "base_uri": "https://localhost:8080/",
     "height": 419
    },
    "id": "_60ZQgNCgnzH",
    "outputId": "1867b917-dad1-4ea8-a427-953a56d32c28"
   },
   "outputs": [
    {
     "data": {
      "text/html": [
       "<div>\n",
       "<style scoped>\n",
       "    .dataframe tbody tr th:only-of-type {\n",
       "        vertical-align: middle;\n",
       "    }\n",
       "\n",
       "    .dataframe tbody tr th {\n",
       "        vertical-align: top;\n",
       "    }\n",
       "\n",
       "    .dataframe thead th {\n",
       "        text-align: right;\n",
       "    }\n",
       "</style>\n",
       "<table border=\"1\" class=\"dataframe\">\n",
       "  <thead>\n",
       "    <tr style=\"text-align: right;\">\n",
       "      <th></th>\n",
       "      <th>date_debut_prelevement</th>\n",
       "    </tr>\n",
       "  </thead>\n",
       "  <tbody>\n",
       "    <tr>\n",
       "      <th>0</th>\n",
       "      <td>2016-03-10</td>\n",
       "    </tr>\n",
       "    <tr>\n",
       "      <th>1</th>\n",
       "      <td>2016-03-10</td>\n",
       "    </tr>\n",
       "    <tr>\n",
       "      <th>2</th>\n",
       "      <td>2016-03-10</td>\n",
       "    </tr>\n",
       "    <tr>\n",
       "      <th>3</th>\n",
       "      <td>2016-03-10</td>\n",
       "    </tr>\n",
       "    <tr>\n",
       "      <th>4</th>\n",
       "      <td>2016-03-10</td>\n",
       "    </tr>\n",
       "    <tr>\n",
       "      <th>...</th>\n",
       "      <td>...</td>\n",
       "    </tr>\n",
       "    <tr>\n",
       "      <th>537</th>\n",
       "      <td>2016-03-10</td>\n",
       "    </tr>\n",
       "    <tr>\n",
       "      <th>538</th>\n",
       "      <td>2016-03-10</td>\n",
       "    </tr>\n",
       "    <tr>\n",
       "      <th>539</th>\n",
       "      <td>2016-03-10</td>\n",
       "    </tr>\n",
       "    <tr>\n",
       "      <th>540</th>\n",
       "      <td>2016-03-10</td>\n",
       "    </tr>\n",
       "    <tr>\n",
       "      <th>541</th>\n",
       "      <td>2016-03-10</td>\n",
       "    </tr>\n",
       "  </tbody>\n",
       "</table>\n",
       "<p>542 rows × 1 columns</p>\n",
       "</div>"
      ],
      "text/plain": [
       "    date_debut_prelevement\n",
       "0               2016-03-10\n",
       "1               2016-03-10\n",
       "2               2016-03-10\n",
       "3               2016-03-10\n",
       "4               2016-03-10\n",
       "..                     ...\n",
       "537             2016-03-10\n",
       "538             2016-03-10\n",
       "539             2016-03-10\n",
       "540             2016-03-10\n",
       "541             2016-03-10\n",
       "\n",
       "[542 rows x 1 columns]"
      ]
     },
     "execution_count": 8,
     "metadata": {
      "tags": []
     },
     "output_type": "execute_result"
    }
   ],
   "source": [
    "exemple[['date_debut_prelevement']]"
   ]
  },
  {
   "cell_type": "code",
   "execution_count": 5,
   "metadata": {
    "id": "48caB86KjBOT"
   },
   "outputs": [],
   "source": [
    "def get_insee(commune):\n",
    "  url = 'https://geo.api.gouv.fr/communes?nom={c}&fields=nom,code,codesPostaux,'\\\n",
    "              'codeDepartement,codeRegion,population&format=json&geometry=centre'\\\n",
    "              .format(c=commune)\n",
    "  exists = len(json.loads(requests.get(url).text))\n",
    "  if exists>0 :\n",
    "    return json.loads(requests.get(url).text)[0][\"code\"]\n",
    "  else:\n",
    "    print(\"Commune does not exist\")\n",
    "    return -1"
   ]
  },
  {
   "cell_type": "code",
   "execution_count": 6,
   "metadata": {
    "colab": {
     "base_uri": "https://localhost:8080/",
     "height": 35
    },
    "id": "fWs4AmmWkdPO",
    "outputId": "7c7a0033-b914-49ab-8f82-d55deef73bca"
   },
   "outputs": [
    {
     "data": {
      "application/vnd.google.colaboratory.intrinsic+json": {
       "type": "string"
      },
      "text/plain": [
       "'45234'"
      ]
     },
     "execution_count": 6,
     "metadata": {
      "tags": []
     },
     "output_type": "execute_result"
    }
   ],
   "source": [
    "c = get_insee(\"orleans\")\n",
    "c"
   ]
  },
  {
   "cell_type": "code",
   "execution_count": 7,
   "metadata": {
    "id": "AnJCYr5jmKQT"
   },
   "outputs": [],
   "source": [
    "def get_bss(code_commune):\n",
    "  url =  \"https://hubeau.eaufrance.fr/api/v1/niveaux_nappes/stations?code_commune={c}&format=json&size=20\".format(c=code_commune)\n",
    "  exists = json.loads(requests.get(url).text)[\"count\"]\n",
    "  if exists>0 :\n",
    "    data = json.loads(requests.get(url).text)\n",
    "    bss = [station[\"code_bss\"] for station in data[\"data\"]]\n",
    "    return bss\n",
    "\n",
    "  else:\n",
    "    print(\"Code commune does not exist\")\n",
    "    return -1"
   ]
  },
  {
   "cell_type": "code",
   "execution_count": 8,
   "metadata": {
    "colab": {
     "base_uri": "https://localhost:8080/"
    },
    "id": "jfMdQJH3Cq9K",
    "outputId": "c6bb3e7d-5590-499e-8c03-68480ed335e1"
   },
   "outputs": [
    {
     "data": {
      "text/plain": [
       "['03635X0545/PZ1',\n",
       " '03636X1060/PZ2',\n",
       " '03636X1061/PZ3',\n",
       " '03636X1062/PZ4',\n",
       " '03982X1045/F']"
      ]
     },
     "execution_count": 8,
     "metadata": {
      "tags": []
     },
     "output_type": "execute_result"
    }
   ],
   "source": [
    "bss  = get_bss(c)\n",
    "bss"
   ]
  },
  {
   "cell_type": "code",
   "execution_count": 9,
   "metadata": {
    "id": "KVD99fybFgzV"
   },
   "outputs": [],
   "source": [
    "def get_station_piezo(station, start_date=None, end_date=None, metric =  None):\n",
    "  url = \"https://hubeau.eaufrance.fr/api/v1/niveaux_nappes/chroniques?code_bss={bss}&date_debut_mesure={d1}&date_fin_mesure={d2}&size=1\".format(bss=station, d1=start_date, d2=end_date)\n",
    "  number = json.loads(requests.get(url).text)[\"count\"]\n",
    "  print(number)\n",
    "  if number > 0:\n",
    "    url = \"https://hubeau.eaufrance.fr/api/v1/niveaux_nappes/chroniques?code_bss={bss}&date_debut_mesure={d1}&date_fin_mesure={d2}&size={s}\".format(bss=station, d1=start_date, d2=end_date, s=number + 1)\n",
    "    return json.loads(requests.get(url).text)"
   ]
  },
  {
   "cell_type": "code",
   "execution_count": 10,
   "metadata": {
    "colab": {
     "base_uri": "https://localhost:8080/"
    },
    "id": "ThlIijwxP7jb",
    "outputId": "52a3d97d-88d0-43d9-93a7-f200d19e0a88"
   },
   "outputs": [
    {
     "name": "stdout",
     "output_type": "stream",
     "text": [
      "18\n"
     ]
    },
    {
     "data": {
      "text/plain": [
       "{'api_version': '1.4.0',\n",
       " 'count': 18,\n",
       " 'data': [{'code_bss': '03635X0545/PZ1',\n",
       "   'code_continuite': '2',\n",
       "   'code_nature_mesure': None,\n",
       "   'code_producteur': '293',\n",
       "   'date_mesure': '2019-01-12',\n",
       "   'mode_obtention': 'Valeur mesurée',\n",
       "   'niveau_nappe_eau': 88.39,\n",
       "   'nom_continuite': 'Point lié au point précédent',\n",
       "   'nom_nature_mesure': None,\n",
       "   'nom_producteur': 'Service Géologique Régional Centre (293)',\n",
       "   'profondeur_nappe': 4.95,\n",
       "   'qualification': 'Correcte',\n",
       "   'statut': 'Donnée contrôlée niveau 2',\n",
       "   'timestamp_mesure': 1547334000000,\n",
       "   'urn_bss': 'http://services.ades.eaufrance.fr/pointeau/03635X0545/PZ1'},\n",
       "  {'code_bss': '03635X0545/PZ1',\n",
       "   'code_continuite': '2',\n",
       "   'code_nature_mesure': None,\n",
       "   'code_producteur': '293',\n",
       "   'date_mesure': '2019-01-13',\n",
       "   'mode_obtention': 'Valeur mesurée',\n",
       "   'niveau_nappe_eau': 88.4,\n",
       "   'nom_continuite': 'Point lié au point précédent',\n",
       "   'nom_nature_mesure': None,\n",
       "   'nom_producteur': 'Service Géologique Régional Centre (293)',\n",
       "   'profondeur_nappe': 4.94,\n",
       "   'qualification': 'Correcte',\n",
       "   'statut': 'Donnée contrôlée niveau 2',\n",
       "   'timestamp_mesure': 1547366400000,\n",
       "   'urn_bss': 'http://services.ades.eaufrance.fr/pointeau/03635X0545/PZ1'},\n",
       "  {'code_bss': '03635X0545/PZ1',\n",
       "   'code_continuite': '2',\n",
       "   'code_nature_mesure': None,\n",
       "   'code_producteur': '293',\n",
       "   'date_mesure': '2019-01-14',\n",
       "   'mode_obtention': 'Valeur mesurée',\n",
       "   'niveau_nappe_eau': 88.42,\n",
       "   'nom_continuite': 'Point lié au point précédent',\n",
       "   'nom_nature_mesure': None,\n",
       "   'nom_producteur': 'Service Géologique Régional Centre (293)',\n",
       "   'profondeur_nappe': 4.92,\n",
       "   'qualification': 'Correcte',\n",
       "   'statut': 'Donnée contrôlée niveau 2',\n",
       "   'timestamp_mesure': 1547445600000,\n",
       "   'urn_bss': 'http://services.ades.eaufrance.fr/pointeau/03635X0545/PZ1'},\n",
       "  {'code_bss': '03635X0545/PZ1',\n",
       "   'code_continuite': '2',\n",
       "   'code_nature_mesure': None,\n",
       "   'code_producteur': '293',\n",
       "   'date_mesure': '2019-01-15',\n",
       "   'mode_obtention': 'Valeur mesurée',\n",
       "   'niveau_nappe_eau': 88.43,\n",
       "   'nom_continuite': 'Point lié au point précédent',\n",
       "   'nom_nature_mesure': None,\n",
       "   'nom_producteur': 'Service Géologique Régional Centre (293)',\n",
       "   'profondeur_nappe': 4.91,\n",
       "   'qualification': 'Correcte',\n",
       "   'statut': 'Donnée contrôlée niveau 2',\n",
       "   'timestamp_mesure': 1547524800000,\n",
       "   'urn_bss': 'http://services.ades.eaufrance.fr/pointeau/03635X0545/PZ1'},\n",
       "  {'code_bss': '03635X0545/PZ1',\n",
       "   'code_continuite': '2',\n",
       "   'code_nature_mesure': None,\n",
       "   'code_producteur': '293',\n",
       "   'date_mesure': '2019-01-16',\n",
       "   'mode_obtention': 'Valeur mesurée',\n",
       "   'niveau_nappe_eau': 88.47,\n",
       "   'nom_continuite': 'Point lié au point précédent',\n",
       "   'nom_nature_mesure': None,\n",
       "   'nom_producteur': 'Service Géologique Régional Centre (293)',\n",
       "   'profondeur_nappe': 4.87,\n",
       "   'qualification': 'Correcte',\n",
       "   'statut': 'Donnée contrôlée niveau 2',\n",
       "   'timestamp_mesure': 1547647200000,\n",
       "   'urn_bss': 'http://services.ades.eaufrance.fr/pointeau/03635X0545/PZ1'},\n",
       "  {'code_bss': '03635X0545/PZ1',\n",
       "   'code_continuite': '2',\n",
       "   'code_nature_mesure': None,\n",
       "   'code_producteur': '293',\n",
       "   'date_mesure': '2019-01-17',\n",
       "   'mode_obtention': 'Valeur mesurée',\n",
       "   'niveau_nappe_eau': 88.48,\n",
       "   'nom_continuite': 'Point lié au point précédent',\n",
       "   'nom_nature_mesure': None,\n",
       "   'nom_producteur': 'Service Géologique Régional Centre (293)',\n",
       "   'profondeur_nappe': 4.86,\n",
       "   'qualification': 'Correcte',\n",
       "   'statut': 'Donnée contrôlée niveau 2',\n",
       "   'timestamp_mesure': 1547758800000,\n",
       "   'urn_bss': 'http://services.ades.eaufrance.fr/pointeau/03635X0545/PZ1'},\n",
       "  {'code_bss': '03635X0545/PZ1',\n",
       "   'code_continuite': '2',\n",
       "   'code_nature_mesure': None,\n",
       "   'code_producteur': '293',\n",
       "   'date_mesure': '2019-01-18',\n",
       "   'mode_obtention': 'Valeur mesurée',\n",
       "   'niveau_nappe_eau': 88.52,\n",
       "   'nom_continuite': 'Point lié au point précédent',\n",
       "   'nom_nature_mesure': None,\n",
       "   'nom_producteur': 'Service Géologique Régional Centre (293)',\n",
       "   'profondeur_nappe': 4.82,\n",
       "   'qualification': 'Correcte',\n",
       "   'statut': 'Donnée contrôlée niveau 2',\n",
       "   'timestamp_mesure': 1547848800000,\n",
       "   'urn_bss': 'http://services.ades.eaufrance.fr/pointeau/03635X0545/PZ1'},\n",
       "  {'code_bss': '03635X0545/PZ1',\n",
       "   'code_continuite': '2',\n",
       "   'code_nature_mesure': None,\n",
       "   'code_producteur': '293',\n",
       "   'date_mesure': '2019-01-19',\n",
       "   'mode_obtention': 'Valeur mesurée',\n",
       "   'niveau_nappe_eau': 88.54,\n",
       "   'nom_continuite': 'Point lié au point précédent',\n",
       "   'nom_nature_mesure': None,\n",
       "   'nom_producteur': 'Service Géologique Régional Centre (293)',\n",
       "   'profondeur_nappe': 4.8,\n",
       "   'qualification': 'Correcte',\n",
       "   'statut': 'Donnée contrôlée niveau 2',\n",
       "   'timestamp_mesure': 1547935200000,\n",
       "   'urn_bss': 'http://services.ades.eaufrance.fr/pointeau/03635X0545/PZ1'},\n",
       "  {'code_bss': '03635X0545/PZ1',\n",
       "   'code_continuite': '2',\n",
       "   'code_nature_mesure': None,\n",
       "   'code_producteur': '293',\n",
       "   'date_mesure': '2019-01-20',\n",
       "   'mode_obtention': 'Valeur mesurée',\n",
       "   'niveau_nappe_eau': 88.54,\n",
       "   'nom_continuite': 'Point lié au point précédent',\n",
       "   'nom_nature_mesure': None,\n",
       "   'nom_producteur': 'Service Géologique Régional Centre (293)',\n",
       "   'profondeur_nappe': 4.8,\n",
       "   'qualification': 'Correcte',\n",
       "   'statut': 'Donnée contrôlée niveau 2',\n",
       "   'timestamp_mesure': 1547946000000,\n",
       "   'urn_bss': 'http://services.ades.eaufrance.fr/pointeau/03635X0545/PZ1'},\n",
       "  {'code_bss': '03635X0545/PZ1',\n",
       "   'code_continuite': '2',\n",
       "   'code_nature_mesure': None,\n",
       "   'code_producteur': '293',\n",
       "   'date_mesure': '2019-01-21',\n",
       "   'mode_obtention': 'Valeur mesurée',\n",
       "   'niveau_nappe_eau': 88.52,\n",
       "   'nom_continuite': 'Point lié au point précédent',\n",
       "   'nom_nature_mesure': None,\n",
       "   'nom_producteur': 'Service Géologique Régional Centre (293)',\n",
       "   'profondeur_nappe': 4.82,\n",
       "   'qualification': 'Correcte',\n",
       "   'statut': 'Donnée contrôlée niveau 2',\n",
       "   'timestamp_mesure': 1548032400000,\n",
       "   'urn_bss': 'http://services.ades.eaufrance.fr/pointeau/03635X0545/PZ1'},\n",
       "  {'code_bss': '03635X0545/PZ1',\n",
       "   'code_continuite': '2',\n",
       "   'code_nature_mesure': None,\n",
       "   'code_producteur': '293',\n",
       "   'date_mesure': '2019-01-22',\n",
       "   'mode_obtention': 'Valeur mesurée',\n",
       "   'niveau_nappe_eau': 88.51,\n",
       "   'nom_continuite': 'Point lié au point précédent',\n",
       "   'nom_nature_mesure': None,\n",
       "   'nom_producteur': 'Service Géologique Régional Centre (293)',\n",
       "   'profondeur_nappe': 4.83,\n",
       "   'qualification': 'Correcte',\n",
       "   'statut': 'Donnée contrôlée niveau 2',\n",
       "   'timestamp_mesure': 1548180000000,\n",
       "   'urn_bss': 'http://services.ades.eaufrance.fr/pointeau/03635X0545/PZ1'},\n",
       "  {'code_bss': '03635X0545/PZ1',\n",
       "   'code_continuite': '2',\n",
       "   'code_nature_mesure': None,\n",
       "   'code_producteur': '293',\n",
       "   'date_mesure': '2019-01-23',\n",
       "   'mode_obtention': 'Valeur mesurée',\n",
       "   'niveau_nappe_eau': 88.53,\n",
       "   'nom_continuite': 'Point lié au point précédent',\n",
       "   'nom_nature_mesure': None,\n",
       "   'nom_producteur': 'Service Géologique Régional Centre (293)',\n",
       "   'profondeur_nappe': 4.81,\n",
       "   'qualification': 'Correcte',\n",
       "   'statut': 'Donnée contrôlée niveau 2',\n",
       "   'timestamp_mesure': 1548216000000,\n",
       "   'urn_bss': 'http://services.ades.eaufrance.fr/pointeau/03635X0545/PZ1'},\n",
       "  {'code_bss': '03635X0545/PZ1',\n",
       "   'code_continuite': '2',\n",
       "   'code_nature_mesure': None,\n",
       "   'code_producteur': '293',\n",
       "   'date_mesure': '2019-01-24',\n",
       "   'mode_obtention': 'Valeur mesurée',\n",
       "   'niveau_nappe_eau': 88.51,\n",
       "   'nom_continuite': 'Point lié au point précédent',\n",
       "   'nom_nature_mesure': None,\n",
       "   'nom_producteur': 'Service Géologique Régional Centre (293)',\n",
       "   'profondeur_nappe': 4.83,\n",
       "   'qualification': 'Correcte',\n",
       "   'statut': 'Donnée contrôlée niveau 2',\n",
       "   'timestamp_mesure': 1548291600000,\n",
       "   'urn_bss': 'http://services.ades.eaufrance.fr/pointeau/03635X0545/PZ1'},\n",
       "  {'code_bss': '03635X0545/PZ1',\n",
       "   'code_continuite': '2',\n",
       "   'code_nature_mesure': None,\n",
       "   'code_producteur': '293',\n",
       "   'date_mesure': '2019-01-25',\n",
       "   'mode_obtention': 'Valeur mesurée',\n",
       "   'niveau_nappe_eau': 88.54,\n",
       "   'nom_continuite': 'Point lié au point précédent',\n",
       "   'nom_nature_mesure': None,\n",
       "   'nom_producteur': 'Service Géologique Régional Centre (293)',\n",
       "   'profondeur_nappe': 4.8,\n",
       "   'qualification': 'Correcte',\n",
       "   'statut': 'Donnée contrôlée niveau 2',\n",
       "   'timestamp_mesure': 1548446400000,\n",
       "   'urn_bss': 'http://services.ades.eaufrance.fr/pointeau/03635X0545/PZ1'},\n",
       "  {'code_bss': '03635X0545/PZ1',\n",
       "   'code_continuite': '2',\n",
       "   'code_nature_mesure': None,\n",
       "   'code_producteur': '293',\n",
       "   'date_mesure': '2019-01-26',\n",
       "   'mode_obtention': 'Valeur mesurée',\n",
       "   'niveau_nappe_eau': 88.56,\n",
       "   'nom_continuite': 'Point lié au point précédent',\n",
       "   'nom_nature_mesure': None,\n",
       "   'nom_producteur': 'Service Géologique Régional Centre (293)',\n",
       "   'profondeur_nappe': 4.78,\n",
       "   'qualification': 'Correcte',\n",
       "   'statut': 'Donnée contrôlée niveau 2',\n",
       "   'timestamp_mesure': 1548536400000,\n",
       "   'urn_bss': 'http://services.ades.eaufrance.fr/pointeau/03635X0545/PZ1'},\n",
       "  {'code_bss': '03635X0545/PZ1',\n",
       "   'code_continuite': '2',\n",
       "   'code_nature_mesure': None,\n",
       "   'code_producteur': '293',\n",
       "   'date_mesure': '2019-01-27',\n",
       "   'mode_obtention': 'Valeur mesurée',\n",
       "   'niveau_nappe_eau': 88.58,\n",
       "   'nom_continuite': 'Point lié au point précédent',\n",
       "   'nom_nature_mesure': None,\n",
       "   'nom_producteur': 'Service Géologique Régional Centre (293)',\n",
       "   'profondeur_nappe': 4.76,\n",
       "   'qualification': 'Correcte',\n",
       "   'statut': 'Donnée contrôlée niveau 2',\n",
       "   'timestamp_mesure': 1548561600000,\n",
       "   'urn_bss': 'http://services.ades.eaufrance.fr/pointeau/03635X0545/PZ1'},\n",
       "  {'code_bss': '03635X0545/PZ1',\n",
       "   'code_continuite': '2',\n",
       "   'code_nature_mesure': None,\n",
       "   'code_producteur': '293',\n",
       "   'date_mesure': '2019-01-28',\n",
       "   'mode_obtention': 'Valeur mesurée',\n",
       "   'niveau_nappe_eau': 88.6,\n",
       "   'nom_continuite': 'Point lié au point précédent',\n",
       "   'nom_nature_mesure': None,\n",
       "   'nom_producteur': 'Service Géologique Régional Centre (293)',\n",
       "   'profondeur_nappe': 4.74,\n",
       "   'qualification': 'Correcte',\n",
       "   'statut': 'Donnée contrôlée niveau 2',\n",
       "   'timestamp_mesure': 1548702000000,\n",
       "   'urn_bss': 'http://services.ades.eaufrance.fr/pointeau/03635X0545/PZ1'},\n",
       "  {'code_bss': '03635X0545/PZ1',\n",
       "   'code_continuite': '2',\n",
       "   'code_nature_mesure': None,\n",
       "   'code_producteur': '293',\n",
       "   'date_mesure': '2019-01-29',\n",
       "   'mode_obtention': 'Valeur mesurée',\n",
       "   'niveau_nappe_eau': 88.66,\n",
       "   'nom_continuite': 'Point lié au point précédent',\n",
       "   'nom_nature_mesure': None,\n",
       "   'nom_producteur': 'Service Géologique Régional Centre (293)',\n",
       "   'profondeur_nappe': 4.68,\n",
       "   'qualification': 'Correcte',\n",
       "   'statut': 'Donnée contrôlée niveau 2',\n",
       "   'timestamp_mesure': 1548799200000,\n",
       "   'urn_bss': 'http://services.ades.eaufrance.fr/pointeau/03635X0545/PZ1'}],\n",
       " 'first': 'https://hubeau.eaufrance.fr/api/v1/niveaux_nappes/chroniques?code_bss=03635X0545/PZ1&date_debut_mesure=2019-01-12&date_fin_mesure=2019-01-30&page=1&size=19',\n",
       " 'last': None,\n",
       " 'next': None,\n",
       " 'prev': None}"
      ]
     },
     "execution_count": 10,
     "metadata": {
      "tags": []
     },
     "output_type": "execute_result"
    }
   ],
   "source": [
    "mesure = get_station_piezo(bss[0], start_date = \"2019-01-12\", end_date = \"2019-01-30\")\n",
    "mesure"
   ]
  },
  {
   "cell_type": "code",
   "execution_count": null,
   "metadata": {
    "id": "C9qGKKe2RWT-"
   },
   "outputs": [],
   "source": []
  }
 ],
 "metadata": {
  "colab": {
   "name": "Hub'eau_trial1.ipynb",
   "provenance": []
  },
  "kernelspec": {
   "display_name": "Python 3",
   "language": "python",
   "name": "python3"
  },
  "language_info": {
   "codemirror_mode": {
    "name": "ipython",
    "version": 3
   },
   "file_extension": ".py",
   "mimetype": "text/x-python",
   "name": "python",
   "nbconvert_exporter": "python",
   "pygments_lexer": "ipython3",
   "version": "3.8.10"
  }
 },
 "nbformat": 4,
 "nbformat_minor": 1
}
