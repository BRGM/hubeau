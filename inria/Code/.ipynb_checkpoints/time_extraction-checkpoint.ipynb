{
 "cells": [
  {
   "cell_type": "code",
   "execution_count": 1,
   "metadata": {},
   "outputs": [],
   "source": [
    "from python_heideltime import Heideltime\n",
    "import re"
   ]
  },
  {
   "cell_type": "code",
   "execution_count": 17,
   "metadata": {},
   "outputs": [],
   "source": [
    "#Heideltime\n",
    "def get_time(query):\n",
    "    \"\"\"\n",
    "    Extract dates from query\n",
    "    \"\"\"\n",
    "\n",
    "    heideltime_parser = Heideltime()\n",
    "    heideltime_parser.set_document_type('NEWS')\n",
    "    heideltime_parser.set_language('FRENCH')\n",
    "    heideltime_parser.set_interval_tagger('True')\n",
    "    result = heideltime_parser.parse(query)\n",
    "    print(result)\n",
    "    regex = \"<TIMEX3 tid=\\\".*?\\\" type=\\\"(.*?)\\\" value=\\\"(.*?)\\\">(.*?)</TIMEX3>\"\n",
    "    return re.findall(regex, result)"
   ]
  },
  {
   "cell_type": "code",
   "execution_count": 12,
   "metadata": {},
   "outputs": [
    {
     "data": {
      "text/plain": [
       "[('DATE', '2021-06-30', 'hier'), ('DATE', '2021-07-01', \"aujourd'hui\")]"
      ]
     },
     "execution_count": 12,
     "metadata": {},
     "output_type": "execute_result"
    }
   ],
   "source": [
    "get_time(\"Quel est le niveau de la nappe phréatique à Orléans hier et aujourd'hui?\")"
   ]
  },
  {
   "cell_type": "code",
   "execution_count": 13,
   "metadata": {},
   "outputs": [
    {
     "data": {
      "text/plain": [
       "[('DATE', 'PRESENT_REF', 'maintenant')]"
      ]
     },
     "execution_count": 13,
     "metadata": {},
     "output_type": "execute_result"
    }
   ],
   "source": [
    "get_time(\"A quelle hauteur se trouve l'eau souterraine sur la commune d'Orléans maintenant\")"
   ]
  },
  {
   "cell_type": "code",
   "execution_count": 14,
   "metadata": {},
   "outputs": [
    {
     "data": {
      "text/plain": [
       "[('DATE', '2021-W26', 'cette semaine')]"
      ]
     },
     "execution_count": 14,
     "metadata": {},
     "output_type": "execute_result"
    }
   ],
   "source": [
    "get_time(\"A quelle hauteur se trouve l'eau souterraine sur la commune d'Orléans cette semaine\")"
   ]
  },
  {
   "cell_type": "code",
   "execution_count": 16,
   "metadata": {},
   "outputs": [
    {
     "name": "stdout",
     "output_type": "stream",
     "text": [
      "<?xml version=\"1.0\"?>\n",
      "<!DOCTYPE TimeML SYSTEM \"TimeML.dtd\">\n",
      "<TimeML>\n",
      "A quelle hauteur se trouve l'eau souterraine sur la commune d'Orléans entre le <TIMEX3 tid=\"t5\" type=\"DATE\" value=\"2022-06-16\">16</TIMEX3> et <TIMEX3 tid=\"t1\" type=\"DATE\" value=\"2022-06-26\">26 juin</TIMEX3>\n",
      "</TimeML>\n",
      "\n",
      "\n"
     ]
    },
    {
     "data": {
      "text/plain": [
       "[('DATE', '2022-06-16', '16'), ('DATE', '2022-06-26', '26 juin')]"
      ]
     },
     "execution_count": 16,
     "metadata": {},
     "output_type": "execute_result"
    }
   ],
   "source": [
    "get_time(\"A quelle hauteur se trouve l'eau souterraine sur la commune d'Orléans entre le 16 et 26 juin\")"
   ]
  },
  {
   "cell_type": "code",
   "execution_count": 3,
   "metadata": {},
   "outputs": [
    {
     "data": {
      "text/plain": [
       "[('DATE', '2015', '2015')]"
      ]
     },
     "execution_count": 3,
     "metadata": {},
     "output_type": "execute_result"
    }
   ],
   "source": [
    "get_time(\"Depuis 2015, quelle est l'évolution du niveau moyen de la nappe au point 01937X0054/F ?\")"
   ]
  },
  {
   "cell_type": "code",
   "execution_count": 15,
   "metadata": {},
   "outputs": [
    {
     "name": "stdout",
     "output_type": "stream",
     "text": [
      "<?xml version=\"1.0\"?>\n",
      "<!DOCTYPE TimeML SYSTEM \"TimeML.dtd\">\n",
      "<TimeML>\n",
      "quelle est l'évolution du niveau moyen de la nappe au point 01937X0054/F <TIMEX3 tid=\"t2\" type=\"DURATION\" value=\"P3M\">les trois derniers mois</TIMEX3> de <TIMEX3 tid=\"t1\" type=\"DATE\" value=\"2015\">2015</TIMEX3>?\n",
      "</TimeML>\n",
      "\n",
      "\n"
     ]
    },
    {
     "data": {
      "text/plain": [
       "[('DURATION', 'P3M', 'les trois derniers mois'), ('DATE', '2015', '2015')]"
      ]
     },
     "execution_count": 15,
     "metadata": {},
     "output_type": "execute_result"
    }
   ],
   "source": [
    "get_time(\"quelle est l'évolution du niveau moyen de la nappe au point 01937X0054/F les trois derniers mois de 2015?\")"
   ]
  },
  {
   "cell_type": "code",
   "execution_count": null,
   "metadata": {},
   "outputs": [],
   "source": []
  }
 ],
 "metadata": {
  "kernelspec": {
   "display_name": "Python 3",
   "language": "python",
   "name": "python3"
  },
  "language_info": {
   "codemirror_mode": {
    "name": "ipython",
    "version": 3
   },
   "file_extension": ".py",
   "mimetype": "text/x-python",
   "name": "python",
   "nbconvert_exporter": "python",
   "pygments_lexer": "ipython3",
   "version": "3.6.10"
  }
 },
 "nbformat": 4,
 "nbformat_minor": 4
}
