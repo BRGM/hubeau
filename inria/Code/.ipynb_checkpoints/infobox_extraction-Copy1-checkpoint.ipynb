{
 "cells": [
  {
   "cell_type": "code",
   "execution_count": 61,
   "metadata": {},
   "outputs": [],
   "source": [
    "import wptools\n",
    "from SPARQLWrapper import SPARQLWrapper2\n",
    "import unicodedata\n",
    "import pandas as pd\n",
    "import numpy as np\n",
    "import json\n",
    "import requests"
   ]
  },
  {
   "cell_type": "code",
   "execution_count": 85,
   "metadata": {},
   "outputs": [],
   "source": [
    "def get_insee(commune):\n",
    "    \"\"\"\n",
    "    returns the insee code of the commune\n",
    "    \"\"\"\n",
    "    commune_ = unicodedata.normalize('NFD', commune.lower()).encode('ascii', 'ignore').decode(\"utf-8\")\n",
    "    url = 'https://geo.api.gouv.fr/communes?nom={c}&fields=nom,code,codesPostaux,'\\\n",
    "              'codeDepartement,codeRegion,population&format=json&geometry=centre'\\\n",
    "              .format(c=commune_)\n",
    "    exists = len(json.loads(requests.get(url).text))\n",
    "    if exists>0 :\n",
    "        codes = json.loads(requests.get(url).text)\n",
    "        print(codes)\n",
    "        result = [code[\"code\"] for code in codes \\\n",
    "                if  unicodedata.normalize('NFD', code[\"nom\"].lower()).encode('ascii', 'ignore').decode(\"utf-8\") == commune_]\n",
    "        if len(result)>0 :\n",
    "            return result\n",
    "        \n",
    "        return -1\n",
    "    return -1"
   ]
  },
  {
   "cell_type": "code",
   "execution_count": 67,
   "metadata": {},
   "outputs": [],
   "source": [
    "def dbPedia_get_wplabel(insee):\n",
    "    d = SPARQLWrapper2(\"http://fr.dbpedia.org/sparql\")\n",
    "\n",
    "    d.setQuery(\n",
    "    \"\"\"\n",
    "    PREFIX dbo: <http://dbpedia.org/ontology/>\n",
    "    PREFIX foaf: <http://xmlns.com/foaf/0.1/>\n",
    "\n",
    "    SELECT distinct ?label\n",
    "    WHERE\n",
    "    {\n",
    "      ?ville rdfs:label ?label.\n",
    "      ?ville dbo:country  <http://fr.dbpedia.org/resource/France>.\n",
    "      ?ville dbo:inseeCode ?insee.\n",
    "      filter(regex(?insee,\\\"^\"\"\" +insee+ \"\"\"\\\", \"i\") && lang(?label) = 'fr')\n",
    "      \n",
    "    }\n",
    "    \"\"\"\n",
    "    ) \n",
    "    communes = set()\n",
    "    res = d.query().bindings\n",
    "    for result in res:\n",
    "        communes.add(result[\"label\"].value)\n",
    "        \n",
    "    return communes"
   ]
  },
  {
   "cell_type": "code",
   "execution_count": 68,
   "metadata": {},
   "outputs": [],
   "source": [
    "df=pd.read_csv(\"Data/commune2021.csv\")\n",
    "communes_ = np.array(df[\"LIBELLE\"])\n",
    "communes, counts = np.unique(communes_, return_counts=True)"
   ]
  },
  {
   "cell_type": "markdown",
   "metadata": {},
   "source": [
    "#### Getting the wikipedia label for each commune"
   ]
  },
  {
   "cell_type": "code",
   "execution_count": 88,
   "metadata": {},
   "outputs": [],
   "source": [
    "# labels = {}\n",
    "# for commune in communes:\n",
    "#     insee = get_insee(commune)\n",
    "#     if insee!=-1:\n",
    "#         for insee_ in insee:\n",
    "#             label = dbPedia_get_wplabel(insee_)\n",
    "#             labels[insee_] = label\n",
    "#             print(commune, label)\n",
    "#         print(\"________________________________________________\")\n",
    "\n",
    "# from json file\n",
    "\n",
    "json_file = open(\"Data/wk_labels.json\")\n",
    "labels = json.load(json_file)"
   ]
  },
  {
   "cell_type": "code",
   "execution_count": null,
   "metadata": {},
   "outputs": [],
   "source": []
  }
 ],
 "metadata": {
  "kernelspec": {
   "display_name": "Python 3",
   "language": "python",
   "name": "python3"
  },
  "language_info": {
   "codemirror_mode": {
    "name": "ipython",
    "version": 3
   },
   "file_extension": ".py",
   "mimetype": "text/x-python",
   "name": "python",
   "nbconvert_exporter": "python",
   "pygments_lexer": "ipython3",
   "version": "3.6.10"
  }
 },
 "nbformat": 4,
 "nbformat_minor": 4
}
