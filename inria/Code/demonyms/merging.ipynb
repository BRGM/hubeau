{
 "cells": [
  {
   "cell_type": "code",
   "execution_count": 39,
   "metadata": {},
   "outputs": [],
   "source": [
    "import json\n",
    "import numpy as np\n",
    "import pandas as pd"
   ]
  },
  {
   "cell_type": "code",
   "execution_count": 54,
   "metadata": {},
   "outputs": [],
   "source": [
    "dbPedia = json.load(open(\"Data/dbPedia_extracted_demonyms3.json\"))\n",
    "infobox = json.load(open(\"Data/infobox_extracted_demonyms3.json\"))\n",
    "habitants_com =  json.load(open(\"Data/habitants_com_extracted_demonyms3.json\"))"
   ]
  },
  {
   "cell_type": "code",
   "execution_count": 55,
   "metadata": {},
   "outputs": [],
   "source": [
    "regions = json.load(open(\"Data/scrapped/regions_demonyms.json\"))"
   ]
  },
  {
   "cell_type": "code",
   "execution_count": 56,
   "metadata": {},
   "outputs": [],
   "source": [
    "df=pd.read_csv(\"Data/commune2021.csv\")\n",
    "communes_ = np.array(df[\"LIBELLE\"])\n",
    "insee_communes, counts = np.unique(communes_, return_counts=True)"
   ]
  },
  {
   "cell_type": "code",
   "execution_count": 61,
   "metadata": {},
   "outputs": [
    {
     "data": {
      "text/plain": [
       "(37742, 35084)"
      ]
     },
     "execution_count": 61,
     "metadata": {},
     "output_type": "execute_result"
    }
   ],
   "source": [
    "len(communes_), len(insee_communes)"
   ]
  },
  {
   "cell_type": "code",
   "execution_count": 64,
   "metadata": {},
   "outputs": [
    {
     "data": {
      "text/plain": [
       "(3842, 6607, 5572, 29512)"
      ]
     },
     "execution_count": 64,
     "metadata": {},
     "output_type": "execute_result"
    }
   ],
   "source": [
    "nb = 0\n",
    "nb2 = 0\n",
    "nb3 = 0\n",
    "nb4 = 0\n",
    "for c in insee_communes:\n",
    "    if c not in habitants_com and (c in infobox or c in dbPedia):\n",
    "        nb+=1\n",
    "    if c in habitants_com and (c  not in infobox and c not in dbPedia):\n",
    "        nb2+=1\n",
    "    if c not in habitants_com and c  not in infobox and c not in dbPedia:\n",
    "        nb3+=1\n",
    "    if c in habitants_com or c  in infobox or c in dbPedia:\n",
    "        nb4+=1\n",
    "nb, nb2, nb3, nb4"
   ]
  },
  {
   "cell_type": "code",
   "execution_count": 65,
   "metadata": {},
   "outputs": [
    {
     "data": {
      "text/plain": [
       "2803"
      ]
     },
     "execution_count": 65,
     "metadata": {},
     "output_type": "execute_result"
    }
   ],
   "source": [
    "len(insee_communes) - len(habitants_com) - nb"
   ]
  },
  {
   "cell_type": "code",
   "execution_count": 62,
   "metadata": {},
   "outputs": [
    {
     "data": {
      "text/plain": [
       "5572"
      ]
     },
     "execution_count": 62,
     "metadata": {},
     "output_type": "execute_result"
    }
   ],
   "source": [
    "35084 - 29512"
   ]
  },
  {
   "cell_type": "code",
   "execution_count": null,
   "metadata": {},
   "outputs": [],
   "source": []
  }
 ],
 "metadata": {
  "kernelspec": {
   "display_name": "Python 3",
   "language": "python",
   "name": "python3"
  },
  "language_info": {
   "codemirror_mode": {
    "name": "ipython",
    "version": 3
   },
   "file_extension": ".py",
   "mimetype": "text/x-python",
   "name": "python",
   "nbconvert_exporter": "python",
   "pygments_lexer": "ipython3",
   "version": "3.6.10"
  }
 },
 "nbformat": 4,
 "nbformat_minor": 4
}
