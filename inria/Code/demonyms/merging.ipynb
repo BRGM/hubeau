{
 "cells": [
  {
   "cell_type": "code",
   "execution_count": 1,
   "metadata": {},
   "outputs": [],
   "source": [
    "import json\n",
    "import numpy as np\n",
    "import pandas as pd\n",
    "from nltk.stem.snowball import FrenchStemmer\n",
    "import unicodedata\n",
    "import re\n",
    "import math"
   ]
  },
  {
   "cell_type": "code",
   "execution_count": 11,
   "metadata": {},
   "outputs": [],
   "source": [
    "df=pd.read_csv(\"Data/locations/commune2021.csv\")\n",
    "communes_ = np.array(df[\"LIBELLE\"])\n",
    "_insee_communes, counts = np.unique(communes_, return_counts=True)\n",
    "insee_communes = np.unique([x.lower() for x in _insee_communes])"
   ]
  },
  {
   "cell_type": "code",
   "execution_count": 12,
   "metadata": {},
   "outputs": [],
   "source": [
    "_dbPedia = json.load(open(\"Data/dbPedia_extracted_demonyms3.json\"))\n",
    "dbPedia = { x.lower():[v_.lower() for v_ in v] for x,v in _dbPedia.items()}\n",
    "_infobox = json.load(open(\"Data/infobox_extracted_demonyms3.json\"))\n",
    "infobox = { x.lower():[v_.lower() for v_ in v] for x,v in _infobox.items()}\n",
    "habitants_com =  json.load(open(\"Data/habitants_com_extracted_demonyms4.json\"))\n",
    "_infobox_wikidata = json.load(open(\"Data/wikidata_infobox_extracted_demonyms_final.json\"))\n",
    "infobox_wikidata = { x.lower():[v_.lower() for v_ in v] for x,v in _infobox_wikidata.items()}"
   ]
  },
  {
   "cell_type": "code",
   "execution_count": 16,
   "metadata": {},
   "outputs": [],
   "source": [
    "merged = {}\n",
    "for c in insee_communes:\n",
    "    if c in infobox_wikidata or c in habitants_com:\n",
    "        s1 = set([x.lower() for x in infobox_wikidata.get(c, [])])\n",
    "        s2 = set([x.lower() for x in habitants_com.get(c, [])])\n",
    "        s = s1.union(s2)\n",
    "        if len(s)>0:\n",
    "            merged[c] = list(s)\n",
    "    elif c in dbPedia:\n",
    "        merged[c] = [x.lower() for x in dbPedia[c]]\n",
    "    "
   ]
  },
  {
   "cell_type": "code",
   "execution_count": 15,
   "metadata": {},
   "outputs": [
    {
     "name": "stdout",
     "output_type": "stream",
     "text": [
      "aime-la-plagne\n",
      "amfreville-saint-amand\n",
      "ampriani\n",
      "ancenis-saint-géréon\n",
      "ancy-dornot\n",
      "argences en aubrac\n",
      "argentat-sur-dordogne\n",
      "arvière-en-valromey\n",
      "aspach-michelbach\n",
      "athis-val de rouvre\n",
      "aunac-sur-charente\n",
      "auneau-bleury-saint-symphorien\n",
      "aurseulles\n",
      "autrans-méaudre en vercors\n",
      "aÿ-champagne\n",
      "bagnoles de l'orne normandie\n",
      "balleroy-sur-drôme\n",
      "ballon-saint mars\n",
      "bassillac et auberoche\n",
      "baugé-en-anjou\n",
      "bazouges cré sur loir\n",
      "beaufort-en-anjou\n",
      "beaumontois en périgord\n",
      "beaussais-vitré\n",
      "belforêt-en-perche\n",
      "bellevigne\n",
      "bellevigne-en-layon\n",
      "bellevigne-les-châteaux\n",
      "belsentes\n",
      "bernay-neuvy-en-champagne\n",
      "blaison-saint-sulpice\n",
      "blancs-coteaux\n",
      "bon repos sur blavet\n",
      "bordes-uchentein\n",
      "bors (canton de tude-et-lavalette)\n",
      "bosroumois\n",
      "boulazac isle manoire\n",
      "bourgs sur colagne\n",
      "brantôme en périgord\n",
      "bray-saint-aignan\n",
      "brissac loire aubance\n",
      "brunstatt-didenheim\n",
      "bure\n",
      "bâgé-dommartin\n",
      "bédouès-cocurès\n",
      "campana\n",
      "campi\n",
      "canavaggia\n",
      "capavenir vosges\n",
      "carentan-les-marais\n",
      "carnoy-mametz\n",
      "casevecchie\n",
      "castellare-di-mercurio\n",
      "castelnau montratier-sainte alauzie\n",
      "castets et castillon\n",
      "castine-en-plaine\n",
      "castineta\n",
      "caumont-sur-aure\n",
      "cessières-suzy\n",
      "chantepérier\n",
      "chanverrie\n",
      "cheniers\n",
      "chenillé-champteussé\n",
      "chenoise-cucharmoy\n",
      "cherré-au\n",
      "château-chinon (campagne)\n",
      "château-gontier-sur-mayenne\n",
      "châtel-en-trièves\n",
      "châtelaudren-plouagat\n",
      "ciamannacce\n",
      "clairy-saulchoix\n",
      "colomby-anguerny\n",
      "condé-en-normandie\n",
      "conques-en-rouergue\n",
      "contre\n",
      "coteaux-du-blanzacais\n",
      "cour-maugis sur huisne\n",
      "couëtron-au-perche\n",
      "creully sur seulles\n",
      "croce\n",
      "crocicchia\n",
      "cubjac-auvézère-val d'ans\n",
      "deux rivières\n",
      "deux-grosnes\n",
      "dialan sur chaîne\n",
      "dienne\n",
      "doix lès fontaines\n",
      "domfront en poiraie\n",
      "douchy-montcorbon\n",
      "doué-en-anjou\n",
      "druelle balsac\n",
      "entre-vignes\n",
      "entrelacs\n",
      "ersa\n",
      "favalello\n",
      "faverges-seythenex\n",
      "fontivillié\n",
      "forges de lanouée\n",
      "frambouhans\n",
      "frenelles-en-vexin\n",
      "fursac\n",
      "galéria\n",
      "gavray-sur-sienne\n",
      "genac-bignac\n",
      "gennes-longuefuye\n",
      "gennes-val-de-loire\n",
      "giocatojo\n",
      "giuncaggio\n",
      "giuncheto\n",
      "gorges du tarn causses\n",
      "gouffern en auge\n",
      "grand bourgtheroulde\n",
      "grand-aigueblanche\n",
      "granges-aumontzey\n",
      "groslée-saint-benoit\n",
      "guerlédan\n",
      "huillé-lézigné\n",
      "ingrandes-le fresne sur loire\n",
      "jarzé villages\n",
      "jaunay-marigny\n",
      "juvigny les vallées\n",
      "juvigny val d'andaine\n",
      "la chapelle du lou du lac\n",
      "la devise\n",
      "la ferté-en-ouche\n",
      "la rochefoucauld-en-angoumois\n",
      "la tour-blanche-cercles\n",
      "la vespière-friardel\n",
      "la vôge-les-bains\n",
      "lachamp-ribennes\n",
      "laguenne-sur-avalouze\n",
      "laize-clinchamps\n",
      "lamballe-armor\n",
      "laàs\n",
      "le bosc du theil\n",
      "le grippon\n",
      "le haut soultzbach\n",
      "le haut-bréda\n",
      "le malesherbois\n",
      "le mené\n",
      "le montsaugeonnais\n",
      "le mérévillois\n",
      "le val d'hazey\n",
      "le val d'ocre\n",
      "le vignon-en-quercy\n",
      "les abrets en dauphiné\n",
      "les garennes sur loire\n",
      "les hauts-d'anjou\n",
      "les monts d'andaine\n",
      "les monts d'aunay\n",
      "les vallées de la vanne\n",
      "les velluire-sur-vendée\n",
      "les villages vovéens\n",
      "livarot-pays-d'auge\n",
      "loir en vallée\n",
      "loiron-ruillé\n",
      "lugo-di-nazza\n",
      "luitré-dompierre\n",
      "lys-haut-layon\n",
      "machecoul-saint-même\n",
      "mainxe-gondeville\n",
      "malemort\n",
      "malherbe-sur-ajon\n",
      "marcheville\n",
      "marennes-hiers-brouage\n",
      "mareuil en périgord\n",
      "marigny-le-lozon\n",
      "matra\n",
      "mazé-milon\n",
      "meaulne-vitray\n",
      "mesnils-sur-iton\n",
      "milizac-guipronvel\n",
      "moltifao\n",
      "moncoutant-sur-sèvre\n",
      "montaigu-vendée\n",
      "montcuq-en-quercy-blanc\n",
      "monte\n",
      "montmérac\n",
      "montrevault-sur-èvre\n",
      "monts-de-randon\n",
      "monts-sur-orne\n",
      "montsenelle\n",
      "montval-sur-loir\n",
      "morannes sur sarthe-daumeray\n",
      "morcenx-la-nouvelle\n",
      "moulins-sur-tardoire\n",
      "moyon villages\n",
      "méry-bissières-en-auge\n",
      "mézidon vallée d'auge\n",
      "nivigne et suran\n",
      "notre-dame-de-la-mer\n",
      "noues de sienne\n",
      "noyant-villages\n",
      "ogy-montoy-flanville\n",
      "olmo\n",
      "orée d'anjou\n",
      "palmas d'aveyron\n",
      "parcoul-chenaud\n",
      "passais villages\n",
      "perche en nocé\n",
      "pietraserena\n",
      "piré-chancé\n",
      "plateau-des-petites-roches\n",
      "plouguenast-langast\n",
      "plounéour-brignogan-plages\n",
      "pluméliau-bieuzy\n",
      "poggio-marinaccio\n",
      "pont de montvert - sud mont lozère\n",
      "ponts sur seulles\n",
      "porte du ried\n",
      "porte-de-savoie\n",
      "prailles-la couarde\n",
      "prinsuéjols-malbouzon\n",
      "provenchères-et-colroy\n",
      "pré-en-pail-saint-samson\n",
      "prée-d'anjou\n",
      "putanges-le-lac\n",
      "renno\n",
      "rezonville-vionville\n",
      "rives d'andaine\n",
      "rives-du-loir-en-anjou\n",
      "roquetaillade-et-conilhac\n",
      "réaux sur trèfle\n",
      "rémalard en perche\n",
      "sablons sur huisne\n",
      "saint geniez d'olt et d'aubrac\n",
      "saint-fuscien\n",
      "saint-léger-de-linières\n",
      "saint-martin-lez-tatinghem\n",
      "saint-pardoux-soutiers\n",
      "saint-paterne - le chevain\n",
      "saint-pierre-la-noue\n",
      "saint-sauveur-villages\n",
      "saint-thégonnec loc-eguiner\n",
      "sainte-radégonde\n",
      "saix\n",
      "saliceto\n",
      "sampolo\n",
      "san-gavino-di-carbini\n",
      "san-gavino-di-fiumorbo\n",
      "san-giuliano\n",
      "san-lorenzo\n",
      "san-nicolao\n",
      "sant'andréa-di-bozio\n",
      "santa-lucia-di-mercurio\n",
      "santa-maria-figaniella\n",
      "sap-en-auge\n",
      "scata\n",
      "segré-en-anjou bleu\n",
      "senillé-saint-sauveur\n",
      "sermano\n",
      "seulline\n",
      "sommerau\n",
      "sorges et ligueux en périgord\n",
      "souleuvre en bocage\n",
      "surjoux-lhopital\n",
      "tallone\n",
      "tasso\n",
      "tauxigny-saint-bauld\n",
      "terranjou\n",
      "terre-de-bancalié\n",
      "terre-et-marais\n",
      "terres de druance\n",
      "terres-de-haute-charente\n",
      "theix-noyalo\n",
      "thue et mue\n",
      "tox\n",
      "tuffalun\n",
      "tuffé val de la chéronne\n",
      "téteghem-coudekerque-village\n",
      "ubaye-serre-ponçon\n",
      "val buëch-méouge\n",
      "val d'anast\n",
      "val d'arry\n",
      "val d'erdre-auxence\n",
      "val d'issoire\n",
      "val d'oingt\n",
      "val d'oronaye\n",
      "val d'oust\n",
      "val de briey\n",
      "val de drôme\n",
      "val de lambronne\n",
      "val de livre\n",
      "val des vignes\n",
      "val-couesnon\n",
      "val-de-bonnieure\n",
      "val-de-dagne\n",
      "val-de-vie\n",
      "val-du-faby\n",
      "val-fouzon\n",
      "valdallière\n",
      "valdoule\n",
      "valence-en-poitou\n",
      "valle-d'orezza\n",
      "valorbiquet\n",
      "ventalon en cévennes\n",
      "veuzain-sur-loire\n",
      "villars-saint-georges\n",
      "villedieu-les-poêles-rouffigny\n",
      "villentrois-faverolles-en-berry\n",
      "wingersheim les quatre bans\n",
      "écouché-les-vallées\n",
      "écouves\n",
      "évellys\n"
     ]
    },
    {
     "data": {
      "text/plain": [
       "304"
      ]
     },
     "execution_count": 15,
     "metadata": {},
     "output_type": "execute_result"
    }
   ],
   "source": [
    "x = 0\n",
    "for c in insee_communes:\n",
    "    if c in dbPedia and c not in infobox_wikidata and c not in habitants_com:\n",
    "        print(c)\n",
    "        x+=1\n",
    "x"
   ]
  },
  {
   "cell_type": "code",
   "execution_count": 17,
   "metadata": {},
   "outputs": [
    {
     "data": {
      "text/plain": [
       "30422"
      ]
     },
     "execution_count": 17,
     "metadata": {},
     "output_type": "execute_result"
    }
   ],
   "source": [
    "len(merged)"
   ]
  },
  {
   "cell_type": "code",
   "execution_count": 19,
   "metadata": {},
   "outputs": [],
   "source": [
    "with open(\"Data/final/gentiles_merged.json\", \"w\") as fp:\n",
    "        json.dump(merged,fp)"
   ]
  },
  {
   "cell_type": "code",
   "execution_count": 2,
   "metadata": {
    "pycharm": {
     "name": "#%%\n"
    }
   },
   "outputs": [],
   "source": [
    "def stem_nltk(word):\n",
    "    stemmer = FrenchStemmer()\n",
    "    return stemmer.stem(word)"
   ]
  },
  {
   "cell_type": "code",
   "execution_count": 23,
   "metadata": {},
   "outputs": [],
   "source": [
    "all = json.load(open(\"Data/final/gentiles_merged.json\"))\n",
    "reversedd , reversed_stemmed = {}, {}"
   ]
  },
  {
   "cell_type": "code",
   "execution_count": 24,
   "metadata": {
    "pycharm": {
     "name": "#%%\n"
    }
   },
   "outputs": [],
   "source": [
    "for commune, demonyms in all.items():\n",
    "    for demonym in demonyms:\n",
    "        if demonym in reversedd:\n",
    "            reversedd[demonym].add(commune)\n",
    "        else:\n",
    "            reversedd[demonym] = set([commune])\n",
    "\n",
    "        stemmed = stem_nltk(demonym)\n",
    "        if stemmed in reversed_stemmed:\n",
    "            reversed_stemmed[stemmed].add(commune)\n",
    "        else:\n",
    "            reversed_stemmed[stemmed] = set([commune])\n",
    "            \n",
    "for k,v in reversedd.items():\n",
    "    reversedd[k] = list(v)\n",
    "for k,v in reversed_stemmed.items():\n",
    "    reversed_stemmed[k] = list(v)\n",
    "\n",
    "with open(\"Data/final/gentiles_merged_reversed.json\", \"w\") as fp:\n",
    "         json.dump(reversedd,fp)\n",
    "with open(\"Data/final/gentiles_merged_reversed_stemmed.json\", \"w\") as fp:\n",
    "         json.dump(reversed_stemmed,fp)"
   ]
  },
  {
   "cell_type": "code",
   "execution_count": 25,
   "metadata": {
    "pycharm": {
     "name": "#%%\n"
    }
   },
   "outputs": [],
   "source": [
    "def get_location_demonym_dict(demonym, stemmed_dict):\n",
    "    stemmed = stem_nltk(demonym)\n",
    "    if stemmed in stemmed_dict:\n",
    "        return stemmed_dict[stemmed]\n",
    "    return -1"
   ]
  },
  {
   "cell_type": "code",
   "execution_count": 26,
   "metadata": {
    "pycharm": {
     "name": "#%%\n"
    }
   },
   "outputs": [
    {
     "data": {
      "text/plain": [
       "['belfonds', 'bellefontaine', 'fontainebleau', 'beaulieu-les-fontaines']"
      ]
     },
     "execution_count": 26,
     "metadata": {},
     "output_type": "execute_result"
    }
   ],
   "source": [
    "get_location_demonym_dict(\"bellifontaines\", reversed_stemmed)"
   ]
  },
  {
   "cell_type": "code",
   "execution_count": 27,
   "metadata": {
    "pycharm": {
     "name": "#%%\n"
    }
   },
   "outputs": [
    {
     "name": "stdout",
     "output_type": "stream",
     "text": [
      "56696 35262\n"
     ]
    }
   ],
   "source": [
    "print(len(reversedd), len(reversed_stemmed))"
   ]
  },
  {
   "cell_type": "code",
   "execution_count": 3,
   "metadata": {
    "pycharm": {
     "name": "#%%\n"
    }
   },
   "outputs": [],
   "source": [
    "all = json.load(open(\"Data/regions_demonyms.json\"))\n",
    "reversed_stemmed = {}\n",
    "\n",
    "for dep, demonyms in all.items():\n",
    "    for demonym in demonyms:\n",
    "        stemmed = stem_nltk(demonym)\n",
    "        if stemmed in reversed_stemmed:\n",
    "            reversed_stemmed[stemmed].add(dep.lower())\n",
    "        else:\n",
    "            reversed_stemmed[stemmed] = set([dep.lower()])\n",
    "\n",
    "for k,v in reversed_stemmed.items():\n",
    "    reversed_stemmed[k] = list(v)\n",
    "\n",
    "with open(\"Data/regs_stemmed_reversed.json\", \"w\") as fp:\n",
    "         json.dump(reversed_stemmed,fp)\n"
   ]
  },
  {
   "cell_type": "code",
   "execution_count": 30,
   "metadata": {
    "pycharm": {
     "name": "#%%\n"
    }
   },
   "outputs": [
    {
     "data": {
      "text/plain": [
       "['virvéens']"
      ]
     },
     "execution_count": 30,
     "metadata": {},
     "output_type": "execute_result"
    }
   ],
   "source": [
    "infobox_wikidata[\"val de virvée\"]"
   ]
  },
  {
   "cell_type": "code",
   "execution_count": 32,
   "metadata": {},
   "outputs": [
    {
     "data": {
      "text/plain": [
       "{'Ain': ['Aindinois', 'Aindinoises'],\n",
       " 'Aisne': ['Axonais', 'Axonaises'],\n",
       " 'Allier': ['Bourbonnais', 'Bourbonnaises'],\n",
       " 'Alpes-de-Haute-Provence': ['Bas-Alpins', 'Bas-Alpines'],\n",
       " 'Hautes-Alpes': ['Haut-Alpins', 'Haut-Alpines'],\n",
       " 'Alpes-Maritimes': ['Maralpins', 'Maralpines'],\n",
       " 'Ardèche': ['Ardéchois', 'Ardéchoises'],\n",
       " 'Ardennes': ['Ardennais', 'Ardennaises'],\n",
       " 'Ariège': ['Ariégeois', 'Ariégeoises'],\n",
       " 'Aube': ['Aubois', 'Auboises'],\n",
       " 'Aude': ['Audois', 'Audoises'],\n",
       " 'Aveyron': ['Aveyronnais', 'Aveyronnaises'],\n",
       " 'Bouches-du-Rhône': ['Buccorhodaniens', 'Buccorhodaniennes'],\n",
       " 'Calvados': ['Calvadosiens', 'Calvadosiennes'],\n",
       " 'Cantal': ['Cantaliens', 'Cantaliennes', 'Cantalous', 'Cantalouses'],\n",
       " 'Charente': ['Charentais', 'Charentaises'],\n",
       " 'Charente-Maritime': ['Charentais maritimes', 'Charentaises maritimes'],\n",
       " 'Cher': ['Chériens', 'Chériennes', 'Berrichons', 'Berrichonnes'],\n",
       " 'Corrèze': ['Corréziens', 'Corréziennes'],\n",
       " 'Corse-du-Sud': ['Corses du Sud'],\n",
       " 'Haute-Corse': ['Corses du Nord'],\n",
       " \"Côte-d'Or\": [\"Côte d'Oriens\",\n",
       "  \"Côte d'Oriennes\",\n",
       "  'Costaloriens',\n",
       "  'Costaloriennes'],\n",
       " \"Côtes-d'Armor\": ['Costarmoricains', 'Costarmoricaines'],\n",
       " 'Creuse': ['Creusois', 'Creusoises'],\n",
       " 'Dordogne': ['Dordognais', 'Dordognaises'],\n",
       " 'Doubs': ['Doubistes', 'Doubiens', 'Doubiennes'],\n",
       " 'Drôme': ['Drômois', 'Drômoises'],\n",
       " 'Eure': ['Eurois', 'Euroises'],\n",
       " 'Eure-et-Loir': ['Euréliens', 'Euréliennes'],\n",
       " 'Finistère': ['Finistériens', 'Finistériennes'],\n",
       " 'Gard': ['Gardois', 'Gardoises'],\n",
       " 'Haute-Garonne': ['Haut-Garonnais', 'Haut-Garonnaises'],\n",
       " 'Gers': ['Gersois', 'Gersoises'],\n",
       " 'Gironde': ['Girondins', 'Girondines'],\n",
       " 'Hérault': ['Héraultais', 'Héraultaises'],\n",
       " 'Ille-et-Vilaine': ['Bretilliens', 'Bretilliennes'],\n",
       " 'Indre': ['Indriens', 'Indriennes'],\n",
       " 'Indre-et-Loire': ['Tourangeaux', 'Tourangelles'],\n",
       " 'Isère': ['Isérois', 'Iséroises'],\n",
       " 'Jura': ['Jurassiens', 'Jurassiennes'],\n",
       " 'Landes': ['Landais', 'Landaises'],\n",
       " 'Loir-et-Cher': ['Loir-et-Chériens', 'Loir-et-Chériennes'],\n",
       " 'Loire': ['Ligériens', 'Ligériennes'],\n",
       " 'Haute-Loire': ['Altiligériens', 'Altiligériennes'],\n",
       " 'Loire-Atlantique': ['Mariligériens', 'Mariligériennes'],\n",
       " 'Loiret': ['Loiretains', 'Loiretaines'],\n",
       " 'Lot': ['Lotois', 'Lotoises'],\n",
       " 'Lot-et-Garonne': ['Lot-et-Garonnais', 'Lot-et-Garonnaises'],\n",
       " 'Lozère': ['Lozériens', 'Lozériennes'],\n",
       " 'Maine-et-Loire': ['Mainoligériens', 'Mainoligériennes'],\n",
       " 'Manche': ['Manchois', 'Manchoises', 'Manchots', 'Manchottes'],\n",
       " 'Marne': ['Marnais', 'Marnaises'],\n",
       " 'Haute-Marne': ['Haut-Marnais', 'Haut-Marnaises'],\n",
       " 'Mayenne': ['Mayennais', 'Mayennaises'],\n",
       " 'Meurthe-et-Moselle': ['Meurthois',\n",
       "  'Meurthoises',\n",
       "  'Meurthe-et-Mosellans',\n",
       "  'Meurthe-et-Mosellanes'],\n",
       " 'Meuse': ['Meusiens', 'Meusiennes'],\n",
       " 'Morbihan': ['Morbihannais', 'Morbihannaises'],\n",
       " 'Moselle': ['Mosellans', 'Mosellanes'],\n",
       " 'Nièvre': ['Nivernais', 'Nivernaises'],\n",
       " 'Nord': ['Nordistes'],\n",
       " 'Oise': ['Oisiens', 'Oisiennes', 'Isariens', 'Isariennes'],\n",
       " 'Orne': ['Ornais', 'Ornaises'],\n",
       " 'Pas-de-Calais': ['Pas-de-Calaisiens', 'Pas-de-Calaisiennes'],\n",
       " 'Puy-de-Dôme': ['Puydômois', 'Puydômoises'],\n",
       " 'Pyrénées-Atlantiques': ['Basco-Béarnais',\n",
       "  'Basco-Béarnais',\n",
       "  'Basques',\n",
       "  'Béarnais',\n",
       "  'Basques',\n",
       "  'Béarnaises'],\n",
       " 'Hautes-Pyrénées': ['Haut-Pyrénéens', 'Haut-Pyrénéennes'],\n",
       " 'Pyrénées-Orientales': ['Pyrénaliens',\n",
       "  'Pyrénaliennes',\n",
       "  'Catalans',\n",
       "  'Catalanes'],\n",
       " 'Bas-Rhin': ['Bas-Rhinois', 'Bas-Rhinoises'],\n",
       " 'Haut-Rhin': ['Haut-Rhinois', 'Haut-Rhinoises'],\n",
       " 'Rhône': ['Rhodaniens', 'Rhodaniennes'],\n",
       " 'Haute-Saône': ['Haut-Saônois', 'Haut-Saônoises'],\n",
       " 'Saône-et-Loire': ['Saône-et-Loiriens', 'Saône-et-Loiriennes'],\n",
       " 'Sarthe': ['Sarthois', 'Sarthoises'],\n",
       " 'Savoie': ['Savoyards', 'Savoyardes'],\n",
       " 'Haute-Savoie': ['Haut-Savoyards', 'Haut-Savoyardes'],\n",
       " 'Paris': ['Parisiens', 'Parisiennes'],\n",
       " 'Seine-Maritime': ['Seinomarins', 'Seinomarines'],\n",
       " 'Seine-et-Marne': ['Seine-et-Marnais', 'Seine-et-Marnaises'],\n",
       " 'Yvelines': ['Yvelinois', 'Yvelinoises'],\n",
       " 'Deux-Sèvres': ['Deux-Sévriens', 'Deux-Sévriennes'],\n",
       " 'Somme': ['Samariens', 'Samariennes'],\n",
       " 'Tarn': ['Tarnais', 'Tarnaises'],\n",
       " 'Tarn-et-Garonne': ['Tarn-et-Garonnais', 'Tarn-et-Garonnaises'],\n",
       " 'Var': ['Varois', 'Varoises'],\n",
       " 'Vaucluse': ['Vauclusiens', 'Vauclusiennes'],\n",
       " 'Vendée': ['Vendéens', 'Vendéennes'],\n",
       " 'Vienne': ['Viennois', 'Viennoises'],\n",
       " 'Haute-Vienne': ['Haut-Viennois', 'Haut-Viennoises'],\n",
       " 'Vosges': ['Vosgiens', 'Vosgiennes'],\n",
       " 'Yonne': ['Icaunais', 'Icaunaises'],\n",
       " 'Territoire-de-Belfort': ['Terrifortains', 'Terrifortaines'],\n",
       " 'Essonne': ['Essonniens', 'Essonniennes'],\n",
       " 'Hauts-de-Seine': ['Alto-Séquanais',\n",
       "  'Alto-Séquanaises',\n",
       "  'Altoséquanais',\n",
       "  'Altoséquanaises'],\n",
       " 'Seine-Saint-Denis': ['Séquano-Dionysiens',\n",
       "  'Séquano-Dionysiennes',\n",
       "  'Séquanodionysiens',\n",
       "  'Séquanodionysiennes'],\n",
       " 'Val-de-Marne': ['Val-de-Marnais', 'Val-de-Marnaises'],\n",
       " \"Val-d'Oise\": [\"Val d'Oisiens\", \"Val d'Oisiennes\"],\n",
       " 'Guadeloupe': ['Guadeloupéens', 'Guadeloupéennes'],\n",
       " 'Martinique': ['Martiniquais', 'Martiniquaises'],\n",
       " 'Guyane': ['Guyanais', 'Guyanaises'],\n",
       " 'Réunion': ['Réunionnais', 'Réunionnaises'],\n",
       " 'Saint-Pierre-et-Miquelon': ['Saint-Pierrais',\n",
       "  'Miquelonnais',\n",
       "  'Saint-Pierraises',\n",
       "  'Miquelonnaises'],\n",
       " 'Mayotte': ['Mahorais', 'Mahoraises'],\n",
       " 'Terres-Australes-et-Antarctiques': ['Taafiens', 'Taafiennes'],\n",
       " 'Wallis-et-Futuna': ['Wallisiens',\n",
       "  'Futuniens',\n",
       "  'Wallisiennes',\n",
       "  'Futuniennes'],\n",
       " 'Polynésie-Française': ['Polynésiens',\n",
       "  'Polynésiennes',\n",
       "  'Francopolynésiens',\n",
       "  'Francopolynésiennes'],\n",
       " 'Nouvelle-Calédonie': ['Néo-Calédoniens', 'Néo-Calédoniennes']}"
      ]
     },
     "execution_count": 32,
     "metadata": {},
     "output_type": "execute_result"
    }
   ],
   "source": [
    "all"
   ]
  },
  {
   "cell_type": "code",
   "execution_count": 33,
   "metadata": {},
   "outputs": [
    {
     "data": {
      "text/plain": [
       "106"
      ]
     },
     "execution_count": 33,
     "metadata": {},
     "output_type": "execute_result"
    }
   ],
   "source": [
    "len(all)"
   ]
  },
  {
   "cell_type": "code",
   "execution_count": null,
   "metadata": {},
   "outputs": [],
   "source": []
  }
 ],
 "metadata": {
  "kernelspec": {
   "display_name": "Python 3",
   "language": "python",
   "name": "python3"
  },
  "language_info": {
   "codemirror_mode": {
    "name": "ipython",
    "version": 3
   },
   "file_extension": ".py",
   "mimetype": "text/x-python",
   "name": "python",
   "nbconvert_exporter": "python",
   "pygments_lexer": "ipython3",
   "version": "3.6.10"
  }
 },
 "nbformat": 4,
 "nbformat_minor": 4
}
