{
 "cells": [
  {
   "cell_type": "code",
   "execution_count": 52,
   "metadata": {},
   "outputs": [],
   "source": [
    "import json\n",
    "import numpy as np\n",
    "import pandas as pd\n",
    "from nltk.stem.snowball import FrenchStemmer\n",
    "import unicodedata\n",
    "import re\n",
    "import math"
   ]
  },
  {
   "cell_type": "code",
   "execution_count": 53,
   "metadata": {},
   "outputs": [],
   "source": [
    "df=pd.read_csv(\"Data/commune2021.csv\")\n",
    "communes_ = np.array(df[\"LIBELLE\"])\n",
    "_insee_communes, counts = np.unique(communes_, return_counts=True)\n",
    "insee_communes = np.unique([x.lower() for x in _insee_communes])"
   ]
  },
  {
   "cell_type": "code",
   "execution_count": 54,
   "metadata": {},
   "outputs": [],
   "source": [
    "_dbPedia = json.load(open(\"Data/dbPedia_extracted_demonyms3.json\"))\n",
    "dbPedia = { x.lower():v for x,v in _dbPedia.items()}\n",
    "_infobox = json.load(open(\"Data/infobox_extracted_demonyms3.json\"))\n",
    "infobox = { x.lower():v for x,v in _infobox.items()}\n",
    "habitants_com =  json.load(open(\"Data/habitants_com_extracted_demonyms4.json\"))"
   ]
  },
  {
   "cell_type": "code",
   "execution_count": 55,
   "metadata": {},
   "outputs": [],
   "source": [
    "merged = {}\n",
    "for c in insee_communes:\n",
    "    s1 = set([ x.lower() for x in dbPedia.get(c, [])])\n",
    "    s2 = set([x.lower() for x in infobox.get(c, [])])\n",
    "    s3 = set([x.lower() for x in habitants_com.get(c, [])])\n",
    "    s = s1.union(s2).union(s3)\n",
    "    if len(s)>0:\n",
    "        merged[c] = list(s)\n",
    "    "
   ]
  },
  {
   "cell_type": "code",
   "execution_count": 56,
   "metadata": {},
   "outputs": [
    {
     "data": {
      "text/plain": "30156"
     },
     "execution_count": 56,
     "metadata": {},
     "output_type": "execute_result"
    }
   ],
   "source": [
    "len(merged)"
   ]
  },
  {
   "cell_type": "code",
   "execution_count": 57,
   "metadata": {},
   "outputs": [],
   "source": [
    "# with open(\"Data/merged.json\", \"w\") as fp:\n",
    "#         json.dump(merged,fp)"
   ]
  },
  {
   "cell_type": "code",
   "execution_count": 58,
   "outputs": [],
   "source": [
    "def stem_nltk(word):\n",
    "    stemmer = FrenchStemmer()\n",
    "    return stemmer.stem(word)"
   ],
   "metadata": {
    "collapsed": false,
    "pycharm": {
     "name": "#%%\n"
    }
   }
  },
  {
   "cell_type": "code",
   "execution_count": 59,
   "metadata": {},
   "outputs": [],
   "source": [
    "all = json.load(open(\"Data/merged.json\"))\n",
    "reversed , reversed_stemmed = {}, {}\n",
    "\n",
    "for commune, demonyms in all.items():\n",
    "    for demonym in demonyms:\n",
    "        if demonym in reversed:\n",
    "            reversed[demonym].add(commune)\n",
    "        else:\n",
    "            reversed[demonym] = set([commune])\n",
    "\n",
    "        stemmed = stem_nltk(demonym)\n",
    "        if stemmed in reversed_stemmed:\n",
    "            reversed_stemmed[stemmed].add(commune)\n",
    "        else:\n",
    "            reversed_stemmed[stemmed] = set([commune])\n",
    "for k,v in reversed.items():\n",
    "    reversed[k] = list(v)\n",
    "for k,v in reversed_stemmed.items():\n",
    "    reversed_stemmed[k] = list(v)\n",
    "\n",
    "with open(\"Data/merged_reversed.json\", \"w\") as fp:\n",
    "         json.dump(reversed,fp)\n",
    "with open(\"Data/merged_reversed_stemmed.json\", \"w\") as fp:\n",
    "         json.dump(reversed_stemmed,fp)"
   ]
  },
  {
   "cell_type": "code",
   "execution_count": 60,
   "outputs": [],
   "source": [
    "def get_location_demonym_dict(demonym, stemmed_dict):\n",
    "    stemmed = stem_nltk(demonym)\n",
    "    if stemmed in stemmed_dict:\n",
    "        return stemmed_dict[stemmed]\n",
    "    return -1"
   ],
   "metadata": {
    "collapsed": false,
    "pycharm": {
     "name": "#%%\n"
    }
   }
  },
  {
   "cell_type": "code",
   "execution_count": 61,
   "outputs": [
    {
     "data": {
      "text/plain": "['beaulieu-les-fontaines', 'belfonds', 'bellefontaine', 'fontainebleau']"
     },
     "execution_count": 61,
     "metadata": {},
     "output_type": "execute_result"
    }
   ],
   "source": [
    "get_location_demonym_dict(\"bellifontaines\", reversed_stemmed)"
   ],
   "metadata": {
    "collapsed": false,
    "pycharm": {
     "name": "#%%\n"
    }
   }
  },
  {
   "cell_type": "code",
   "execution_count": 62,
   "outputs": [
    {
     "name": "stdout",
     "output_type": "stream",
     "text": [
      "61689 39568\n"
     ]
    }
   ],
   "source": [
    "print(len(reversed), len(reversed_stemmed))"
   ],
   "metadata": {
    "collapsed": false,
    "pycharm": {
     "name": "#%%\n"
    }
   }
  }
 ],
 "metadata": {
  "kernelspec": {
   "display_name": "Python 3",
   "language": "python",
   "name": "python3"
  },
  "language_info": {
   "codemirror_mode": {
    "name": "ipython",
    "version": 3
   },
   "file_extension": ".py",
   "mimetype": "text/x-python",
   "name": "python",
   "nbconvert_exporter": "python",
   "pygments_lexer": "ipython3",
   "version": "3.6.10"
  }
 },
 "nbformat": 4,
 "nbformat_minor": 4
}