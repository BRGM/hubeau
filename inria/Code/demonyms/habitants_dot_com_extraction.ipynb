{
 "cells": [
  {
   "cell_type": "code",
   "execution_count": 1,
   "metadata": {},
   "outputs": [],
   "source": [
    "from urllib.request import urlopen\n",
    "import re\n",
    "import json"
   ]
  },
  {
   "cell_type": "code",
   "execution_count": 20,
   "metadata": {},
   "outputs": [],
   "source": [
    "import requests\n",
    "from bs4 import BeautifulSoup\n",
    "\n",
    "def get_gentiles(url, get_links = False):\n",
    "# Make a request\n",
    "    page = requests.get(url)\n",
    "    soup = BeautifulSoup(page.content, 'html.parser')\n",
    "\n",
    "    divs = soup.select('div')\n",
    "    \n",
    "    locations = []\n",
    "    links = []\n",
    "    for c in divs :\n",
    "    #     x = re.sub(\"\\s+\", \"\", c.text)\n",
    "        cl = c.get(\"class\")\n",
    "        c_ = c.select(\"h2\")\n",
    "        if get_links :\n",
    "            a = c.select(\"a\")\n",
    "        t = c.text\n",
    "        match = re.search(\"Gentilé :\", t)\n",
    "        if cl != None and \" \".join(cl) == \"col-xs-12 col-sm-6 col-md-3 mbot15\" and len(c_)  > 0 and match:\n",
    "            locations.append(re.sub(\"^\\s+|\\s+$\", \"\",c_[0].text))\n",
    "            if get_links:\n",
    "                links.append(a[0].get(\"href\"))\n",
    "\n",
    "    page = urlopen(url)\n",
    "    html_bytes = page.read()\n",
    "    html = html_bytes.decode(\"utf-8\")\n",
    "    \n",
    "    match = re.findall(\"(?<=Gentilé :)(.*)(?=<span class=\\\"orange\\\">)\",html)\n",
    "    gentiles = []\n",
    "    for y in match: \n",
    "        x = re.sub(\"\\s+\", \" \", y)\n",
    "        x = re.sub(\"\\sou\\s|\\set\\s\", \",\", x)\n",
    "        sp = x.split(\",\")\n",
    "        x__ = [re.sub(\"^\\s|\\s$\",\"\" , x_) for x_ in sp]\n",
    "        gentiles.append(x__)\n",
    "    print(len(gentiles), len(locations))\n",
    "    \n",
    "    locations_ = {}\n",
    "    links_ = {}\n",
    "    if len(gentiles)== len(locations):\n",
    "        for i in range(len(gentiles)):\n",
    "            locations_[locations[i]] = gentiles[i]\n",
    "            if get_links:\n",
    "                links_[locations[i]] = links[i]\n",
    "    if get_links:       \n",
    "        return locations_, links_  \n",
    "    return locations_"
   ]
  },
  {
   "cell_type": "code",
   "execution_count": 21,
   "metadata": {},
   "outputs": [
    {
     "name": "stdout",
     "output_type": "stream",
     "text": [
      "106 106\n"
     ]
    }
   ],
   "source": [
    "regions, links = get_gentiles(\"https://www.habitants.fr/index.php\", get_links = True)\n",
    "# with open(\"Data/scrapped/regions_demonyms.json\", \"w\") as fp:\n",
    "#     json.dump(regions,fp)"
   ]
  },
  {
   "cell_type": "code",
   "execution_count": 22,
   "metadata": {},
   "outputs": [
    {
     "name": "stdout",
     "output_type": "stream",
     "text": [
      "337 337\n",
      "511 511\n",
      "288 288\n",
      "197 197\n",
      "123 123\n",
      "164 164\n",
      "266 266\n",
      "295 295\n",
      "332 332\n",
      "368 368\n",
      "438 438\n",
      "302 302\n",
      "119 119\n",
      "564 564\n",
      "135 135\n",
      "308 308\n",
      "445 445\n",
      "250 250\n",
      "216 216\n",
      "68 68\n",
      "115 115\n",
      "468 468\n",
      "369 369\n",
      "168 168\n",
      "410 410\n",
      "383 383\n",
      "368 368\n",
      "586 586\n",
      "341 341\n",
      "281 281\n",
      "351 351\n",
      "524 524\n",
      "445 445\n",
      "527 527\n",
      "301 301\n",
      "344 344\n",
      "191 191\n",
      "235 235\n",
      "527 527\n",
      "353 353\n",
      "331 331\n",
      "234 234\n",
      "284 284\n",
      "169 169\n",
      "221 221\n",
      "331 331\n",
      "337 337\n",
      "239 239\n",
      "185 185\n",
      "361 361\n",
      "498 498\n",
      "484 484\n",
      "316 316\n",
      "250 250\n",
      "350 350\n",
      "188 188\n",
      "261 261\n",
      "419 419\n",
      "269 269\n",
      "652 652\n",
      "453 453\n",
      "449 449\n",
      "894 894\n",
      "407 407\n",
      "271 271\n",
      "274 274\n",
      "225 225\n",
      "524 524\n",
      "277 277\n",
      "290 290\n",
      "330 330\n",
      "430 430\n",
      "360 360\n",
      "304 304\n",
      "294 294\n",
      "1 1\n",
      "744 744\n",
      "492 492\n",
      "255 255\n",
      "236 236\n",
      "482 482\n",
      "312 312\n",
      "195 195\n",
      "153 153\n",
      "150 150\n",
      "277 277\n",
      "253 253\n",
      "136 136\n",
      "330 330\n",
      "378 378\n",
      "92 92\n",
      "196 196\n",
      "36 36\n",
      "40 40\n",
      "47 47\n",
      "185 185\n",
      "34 34\n",
      "34 34\n",
      "11 11\n",
      "24 24\n",
      "2 2\n",
      "11 11\n",
      "2 2\n",
      "1 1\n",
      "2 2\n",
      "9 9\n"
     ]
    }
   ],
   "source": [
    "for region in links:\n",
    "    link = links[region]\n",
    "    gentiles = get_gentiles(link)\n",
    "    with open(\"Data/scrapped/\"+region+\"_demonyms.json\", \"w\") as fp:\n",
    "        json.dump(gentiles,fp)"
   ]
  },
  {
   "cell_type": "code",
   "execution_count": 24,
   "metadata": {},
   "outputs": [
    {
     "data": {
      "text/plain": [
       "106"
      ]
     },
     "execution_count": 24,
     "metadata": {},
     "output_type": "execute_result"
    }
   ],
   "source": [
    "l=[]\n",
    "for region in links:\n",
    "    l.append(json.load(open(\"Data/scrapped/\"+region+\"_demonyms.json\")))\n",
    "len(l)"
   ]
  },
  {
   "cell_type": "code",
   "execution_count": 26,
   "metadata": {},
   "outputs": [],
   "source": [
    "d = {}\n",
    "for x in l:\n",
    "    for k,v in x.items():\n",
    "        if k in d:\n",
    "            d[k] = d[k].union(v)\n",
    "        else:\n",
    "            d[k] = set(v)\n",
    "d_ = {}\n",
    "for k,v in d.items():\n",
    "    d_[k] = list(v)"
   ]
  },
  {
   "cell_type": "code",
   "execution_count": 29,
   "metadata": {},
   "outputs": [],
   "source": [
    "with open(\"Data/habitants_com_extracted_demonyms3.json\", \"w\") as fp:\n",
    "        json.dump(d_,fp)"
   ]
  },
  {
   "cell_type": "code",
   "execution_count": 30,
   "metadata": {},
   "outputs": [
    {
     "data": {
      "text/plain": [
       "28439"
      ]
     },
     "execution_count": 30,
     "metadata": {},
     "output_type": "execute_result"
    }
   ],
   "source": [
    "len(d_)"
   ]
  },
  {
   "cell_type": "code",
   "execution_count": null,
   "metadata": {},
   "outputs": [],
   "source": []
  }
 ],
 "metadata": {
  "kernelspec": {
   "display_name": "Python 3",
   "language": "python",
   "name": "python3"
  },
  "language_info": {
   "codemirror_mode": {
    "name": "ipython",
    "version": 3
   },
   "file_extension": ".py",
   "mimetype": "text/x-python",
   "name": "python",
   "nbconvert_exporter": "python",
   "pygments_lexer": "ipython3",
   "version": "3.6.10"
  }
 },
 "nbformat": 4,
 "nbformat_minor": 4
}
