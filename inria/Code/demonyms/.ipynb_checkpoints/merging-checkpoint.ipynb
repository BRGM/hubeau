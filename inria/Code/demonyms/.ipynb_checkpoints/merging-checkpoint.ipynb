{
 "cells": [
  {
   "cell_type": "code",
   "execution_count": 115,
   "metadata": {},
   "outputs": [],
   "source": [
    "import json\n",
    "import numpy as np\n",
    "import pandas as pd\n",
    "import unicodedata\n",
    "import re\n",
    "import math"
   ]
  },
  {
   "cell_type": "code",
   "execution_count": 173,
   "metadata": {},
   "outputs": [],
   "source": [
    "df=pd.read_csv(\"Data/commune2021.csv\")\n",
    "communes_ = np.array(df[\"LIBELLE\"])\n",
    "_insee_communes, counts = np.unique(communes_, return_counts=True)\n",
    "insee_communes = np.unique([x.lower() for x in _insee_communes])"
   ]
  },
  {
   "cell_type": "code",
   "execution_count": 175,
   "metadata": {},
   "outputs": [],
   "source": [
    "_dbPedia = json.load(open(\"Data/dbPedia_extracted_demonyms3.json\"))\n",
    "dbPedia = { x.lower():v for x,v in _dbPedia.items()}\n",
    "_infobox = json.load(open(\"Data/infobox_extracted_demonyms3.json\"))\n",
    "infobox = { x.lower():v for x,v in _infobox.items()}\n",
    "habitants_com =  json.load(open(\"Data/habitants_com_extracted_demonyms4.json\"))"
   ]
  },
  {
   "cell_type": "code",
   "execution_count": 186,
   "metadata": {},
   "outputs": [],
   "source": [
    "merged = {}\n",
    "for c in insee_communes:\n",
    "    s1 = set([ x.lower() for x in dbPedia.get(c, [])])\n",
    "    s2 = set([x.lower() for x in infobox.get(c, [])])\n",
    "    s3 = set([x.lower() for x in habitants_com.get(c, [])])\n",
    "    s = s1.union(s2).union(s3)\n",
    "    if len(s)>0:\n",
    "        merged[c] = list(s)\n",
    "    "
   ]
  },
  {
   "cell_type": "code",
   "execution_count": 187,
   "metadata": {},
   "outputs": [
    {
     "data": {
      "text/plain": [
       "30156"
      ]
     },
     "execution_count": 187,
     "metadata": {},
     "output_type": "execute_result"
    }
   ],
   "source": [
    "len(merged)"
   ]
  },
  {
   "cell_type": "code",
   "execution_count": 188,
   "metadata": {},
   "outputs": [],
   "source": [
    "with open(\"Data/merged.json\", \"w\") as fp:\n",
    "        json.dump(merged,fp)"
   ]
  },
  {
   "cell_type": "code",
   "execution_count": null,
   "metadata": {},
   "outputs": [],
   "source": []
  }
 ],
 "metadata": {
  "kernelspec": {
   "display_name": "Python 3",
   "language": "python",
   "name": "python3"
  },
  "language_info": {
   "codemirror_mode": {
    "name": "ipython",
    "version": 3
   },
   "file_extension": ".py",
   "mimetype": "text/x-python",
   "name": "python",
   "nbconvert_exporter": "python",
   "pygments_lexer": "ipython3",
   "version": "3.6.10"
  }
 },
 "nbformat": 4,
 "nbformat_minor": 4
}
