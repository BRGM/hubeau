{
 "cells": [
  {
   "cell_type": "code",
   "execution_count": null,
   "metadata": {},
   "outputs": [],
   "source": [
    "communes2 = pd.read_csv(\"Data/communes2.csv\").to_numpy().reshape(-1)\n",
    "adjs2 = pd.read_csv(\"Data/noms_habitants.csv\").to_numpy().reshape(-1)\n",
    "\n",
    "communes3 = pd.read_csv(\"Data/scrapped/c1_.csv\").to_numpy().reshape(-1)\n",
    "adjs3 = pd.read_csv(\"Data/scrapped/g1_.csv\").to_numpy().reshape(-1)\n",
    "\n",
    "communes4 = pd.read_csv(\"Data/scrapped/c2_.csv\").to_numpy().reshape(-1)\n",
    "adjs4 = pd.read_csv(\"Data/scrapped/g2_.csv\").to_numpy().reshape(-1)\n",
    "\n",
    "communes5 = pd.read_csv(\"Data/scrapped/c3_.csv\").to_numpy().reshape(-1)\n",
    "adjs5 = pd.read_csv(\"Data/scrapped/g3_.csv\").to_numpy().reshape(-1)\n"
   ]
  },
  {
   "cell_type": "code",
   "execution_count": null,
   "metadata": {},
   "outputs": [],
   "source": [
    "res = []\n",
    "for i in range(len(communes2)):\n",
    "    c = communes2[i]\n",
    "    if c in communes and c not in res:\n",
    "        res.append([c, adjs2[i]])\n",
    "        \n",
    "for i in range(len(communes3)):\n",
    "    c = communes3[i]\n",
    "    if c in communes and c not in res:\n",
    "        res.append([c, adjs3[i]])\n",
    "        \n",
    "for i in range(len(communes4)):\n",
    "    c = communes4[i]\n",
    "    if c in communes and c not in res :\n",
    "        res.append([c, adjs4[i]])\n",
    "        \n",
    "for i in range(len(communes5)):\n",
    "    c = communes5[i]\n",
    "    if c in communes and c not in res:\n",
    "        res.append([c, adjs5[i]])"
   ]
  },
  {
   "cell_type": "code",
   "execution_count": null,
   "metadata": {},
   "outputs": [],
   "source": [
    "pd.DataFrame(res[:, 1]).to_csv(\"Data/gentile2.csv\", index=None, header=None)"
   ]
  }
 ],
 "metadata": {
  "kernelspec": {
   "display_name": "Python 3",
   "language": "python",
   "name": "python3"
  },
  "language_info": {
   "codemirror_mode": {
    "name": "ipython",
    "version": 3
   },
   "file_extension": ".py",
   "mimetype": "text/x-python",
   "name": "python",
   "nbconvert_exporter": "python",
   "pygments_lexer": "ipython3",
   "version": "3.6.10"
  }
 },
 "nbformat": 4,
 "nbformat_minor": 4
}
