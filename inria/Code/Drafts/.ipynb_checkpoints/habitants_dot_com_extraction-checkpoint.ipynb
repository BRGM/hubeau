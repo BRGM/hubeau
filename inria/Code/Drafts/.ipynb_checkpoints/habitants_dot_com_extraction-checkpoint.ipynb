{
 "cells": [
  {
   "cell_type": "code",
   "execution_count": 7,
   "metadata": {},
   "outputs": [],
   "source": [
    "from urllib.request import urlopen\n",
    "import re"
   ]
  },
  {
   "cell_type": "code",
   "execution_count": 61,
   "metadata": {},
   "outputs": [],
   "source": [
    "import requests\n",
    "from bs4 import BeautifulSoup\n",
    "\n",
    "def get_gentiles(url, get_links = False):\n",
    "# Make a request\n",
    "    page = requests.get(url)\n",
    "    soup = BeautifulSoup(page.content, 'html.parser')\n",
    "\n",
    "    divs = soup.select('div')\n",
    "    \n",
    "    locations = []\n",
    "    links = []\n",
    "    for c in divs :\n",
    "    #     x = re.sub(\"\\s+\", \"\", c.text)\n",
    "        cl = c.get(\"class\")\n",
    "        c_ = c.select(\"h2\")\n",
    "        if get_links :\n",
    "            a = c.select(\"a\")\n",
    "        t = c.text\n",
    "        match = re.search(\"Gentilé :\", t)\n",
    "        if cl != None and \" \".join(cl) == \"col-xs-12 col-sm-6 col-md-3 mbot15\" and len(c_)  > 0 and match:\n",
    "            locations.append(re.sub(\"\\s+\", \"\",c_[0].text))\n",
    "            if get_links:\n",
    "                links.append(a[0].get(\"href\"))\n",
    "            \n",
    "    page = urlopen(url)\n",
    "    html_bytes = page.read()\n",
    "    html = html_bytes.decode(\"utf-8\")\n",
    "    \n",
    "    match = re.findall(\"(?<=Gentilé :)(.*)(?=<span class=\\\"orange\\\">)\",html)\n",
    "    gentiles = []\n",
    "    for y in match: \n",
    "        x = re.sub(\"\\s+\", \" \", y)\n",
    "        x = re.sub(\"\\sou\\s|\\set\\s\", \",\", x)\n",
    "        sp = x.split(\",\")\n",
    "        x__ = [re.sub(\"^\\s|\\s$\",\"\" , x_) for x_ in sp]\n",
    "        gentiles.append(x__)\n",
    "    print(len(gentiles), len(locations))\n",
    "    \n",
    "    locations_ = {}\n",
    "    links_ = {}\n",
    "    if len(gentiles)== len(locations):\n",
    "        for i in range(len(gentiles)):\n",
    "            locations_[locations[i]] = gentiles[i]\n",
    "            if get_links:\n",
    "                links_[locations[i]] = links[i]\n",
    "    if get_links:       \n",
    "        return locations_, links_  \n",
    "    return locations_"
   ]
  },
  {
   "cell_type": "code",
   "execution_count": 64,
   "metadata": {},
   "outputs": [
    {
     "name": "stdout",
     "output_type": "stream",
     "text": [
      "106 106\n"
     ]
    },
    {
     "ename": "FileNotFoundError",
     "evalue": "[Errno 2] No such file or directory: 'Data/scrapped/regions_demonyms.json'",
     "output_type": "error",
     "traceback": [
      "\u001b[0;31m---------------------------------------------------------------------------\u001b[0m",
      "\u001b[0;31mFileNotFoundError\u001b[0m                         Traceback (most recent call last)",
      "\u001b[0;32m<ipython-input-64-a87d8f14f5a8>\u001b[0m in \u001b[0;36m<module>\u001b[0;34m\u001b[0m\n\u001b[1;32m      1\u001b[0m \u001b[0mregions\u001b[0m\u001b[0;34m,\u001b[0m \u001b[0mlinks\u001b[0m \u001b[0;34m=\u001b[0m \u001b[0mget_gentiles\u001b[0m\u001b[0;34m(\u001b[0m\u001b[0;34m\"https://www.habitants.fr/index.php\"\u001b[0m\u001b[0;34m,\u001b[0m \u001b[0mget_links\u001b[0m \u001b[0;34m=\u001b[0m \u001b[0;32mTrue\u001b[0m\u001b[0;34m)\u001b[0m\u001b[0;34m\u001b[0m\u001b[0;34m\u001b[0m\u001b[0m\n\u001b[0;32m----> 2\u001b[0;31m \u001b[0;32mwith\u001b[0m \u001b[0mopen\u001b[0m\u001b[0;34m(\u001b[0m\u001b[0;34m\"Data/scrapped/regions_demonyms.json\"\u001b[0m\u001b[0;34m,\u001b[0m \u001b[0;34m\"w\"\u001b[0m\u001b[0;34m)\u001b[0m \u001b[0;32mas\u001b[0m \u001b[0mfp\u001b[0m\u001b[0;34m:\u001b[0m\u001b[0;34m\u001b[0m\u001b[0;34m\u001b[0m\u001b[0m\n\u001b[0m\u001b[1;32m      3\u001b[0m     \u001b[0mjson\u001b[0m\u001b[0;34m.\u001b[0m\u001b[0mdump\u001b[0m\u001b[0;34m(\u001b[0m\u001b[0mregions\u001b[0m\u001b[0;34m,\u001b[0m\u001b[0mfp\u001b[0m\u001b[0;34m)\u001b[0m\u001b[0;34m\u001b[0m\u001b[0;34m\u001b[0m\u001b[0m\n",
      "\u001b[0;31mFileNotFoundError\u001b[0m: [Errno 2] No such file or directory: 'Data/scrapped/regions_demonyms.json'"
     ]
    }
   ],
   "source": [
    "regions, links = get_gentiles(\"https://www.habitants.fr/index.php\", get_links = True)\n",
    "with open(\"Data/scrapped/regions_demonyms.json\", \"w\") as fp:\n",
    "    json.dump(regions,fp)"
   ]
  },
  {
   "cell_type": "code",
   "execution_count": 40,
   "metadata": {},
   "outputs": [],
   "source": [
    "for region in links:"
   ]
  },
  {
   "cell_type": "code",
   "execution_count": 46,
   "metadata": {},
   "outputs": [
    {
     "name": "stdout",
     "output_type": "stream",
     "text": [
      "['Aindinois', 'Aindinoises']\n",
      "['Axonais', 'Axonaises']\n",
      "['Bourbonnais', 'Bourbonnaises']\n",
      "['Bas-Alpins', 'Bas-Alpines']\n",
      "['Haut-Alpins', 'Haut-Alpines']\n",
      "['Maralpins', 'Maralpines']\n",
      "['Ardéchois', 'Ardéchoises']\n",
      "['Ardennais', 'Ardennaises']\n",
      "['Ariégeois', 'Ariégeoises']\n",
      "['Aubois', 'Auboises']\n",
      "['Audois', 'Audoises']\n",
      "['Aveyronnais', 'Aveyronnaises']\n",
      "['Buccorhodaniens', 'Buccorhodaniennes']\n",
      "['Calvadosiens', 'Calvadosiennes']\n",
      "['Cantaliens', 'Cantaliennes', 'Cantalous', 'Cantalouses']\n",
      "['Charentais', 'Charentaises']\n",
      "['Charentais maritimes', 'Charentaises maritimes']\n",
      "['Chériens', 'Chériennes', 'Berrichons', 'Berrichonnes']\n",
      "['Corréziens', 'Corréziennes']\n",
      "['Corses du Sud']\n",
      "['Corses du Nord']\n",
      "[\"Côte d'Oriens\", \"Côte d'Oriennes\", 'Costaloriens', 'Costaloriennes']\n",
      "['Costarmoricains', 'Costarmoricaines']\n",
      "['Creusois', 'Creusoises']\n",
      "['Dordognais', 'Dordognaises']\n",
      "['Doubistes', 'Doubiens', 'Doubiennes']\n",
      "['Drômois', 'Drômoises']\n",
      "['Eurois', 'Euroises']\n",
      "['Euréliens', 'Euréliennes']\n",
      "['Finistériens', 'Finistériennes']\n",
      "['Gardois', 'Gardoises']\n",
      "['Haut-Garonnais', 'Haut-Garonnaises']\n",
      "['Gersois', 'Gersoises']\n",
      "['Girondins', 'Girondines']\n",
      "['Héraultais', 'Héraultaises']\n",
      "['Bretilliens', 'Bretilliennes']\n",
      "['Indriens', 'Indriennes']\n",
      "['Tourangeaux', 'Tourangelles']\n",
      "['Isérois', 'Iséroises']\n",
      "['Jurassiens', 'Jurassiennes']\n",
      "['Landais', 'Landaises']\n",
      "['Loir-et-Chériens', 'Loir-et-Chériennes']\n",
      "['Ligériens', 'Ligériennes']\n",
      "['Altiligériens', 'Altiligériennes']\n",
      "['Mariligériens', 'Mariligériennes']\n",
      "['Loiretains', 'Loiretaines']\n",
      "['Lotois', 'Lotoises']\n",
      "['Lot-et-Garonnais', 'Lot-et-Garonnaises']\n",
      "['Lozériens', 'Lozériennes']\n",
      "['Mainoligériens', 'Mainoligériennes']\n",
      "['Manchois', 'Manchoises', 'Manchots', 'Manchottes']\n",
      "['Marnais', 'Marnaises']\n",
      "['Haut-Marnais', 'Haut-Marnaises']\n",
      "['Mayennais', 'Mayennaises']\n",
      "['Meurthois', 'Meurthoises', 'Meurthe-et-Mosellans', 'Meurthe-et-Mosellanes']\n",
      "['Meusiens', 'Meusiennes']\n",
      "['Morbihannais', 'Morbihannaises']\n",
      "['Mosellans', 'Mosellanes']\n",
      "['Nivernais', 'Nivernaises']\n",
      "['Nordistes']\n",
      "['Oisiens', 'Oisiennes', 'Isariens', 'Isariennes']\n",
      "['Ornais', 'Ornaises']\n",
      "['Pas-de-Calaisiens', 'Pas-de-Calaisiennes']\n",
      "['Puydômois', 'Puydômoises']\n",
      "['Basco-Béarnais', 'Basco-Béarnais', 'Basques', 'Béarnais', 'Basques', 'Béarnaises']\n",
      "['Haut-Pyrénéens', 'Haut-Pyrénéennes']\n",
      "['Pyrénaliens', 'Pyrénaliennes', 'Catalans', 'Catalanes']\n",
      "['Bas-Rhinois', 'Bas-Rhinoises']\n",
      "['Haut-Rhinois', 'Haut-Rhinoises']\n",
      "['Rhodaniens', 'Rhodaniennes']\n",
      "['Haut-Saônois', 'Haut-Saônoises']\n",
      "['Saône-et-Loiriens', 'Saône-et-Loiriennes']\n",
      "['Sarthois', 'Sarthoises']\n",
      "['Savoyards', 'Savoyardes']\n",
      "['Haut-Savoyards', 'Haut-Savoyardes']\n",
      "['Parisiens', 'Parisiennes']\n",
      "['Seinomarins', 'Seinomarines']\n",
      "['Seine-et-Marnais', 'Seine-et-Marnaises']\n",
      "['Yvelinois', 'Yvelinoises']\n",
      "['Deux-Sévriens', 'Deux-Sévriennes']\n",
      "['Samariens', 'Samariennes']\n",
      "['Tarnais', 'Tarnaises']\n",
      "['Tarn-et-Garonnais', 'Tarn-et-Garonnaises']\n",
      "['Varois', 'Varoises']\n",
      "['Vauclusiens', 'Vauclusiennes']\n",
      "['Vendéens', 'Vendéennes']\n",
      "['Viennois', 'Viennoises']\n",
      "['Haut-Viennois', 'Haut-Viennoises']\n",
      "['Vosgiens', 'Vosgiennes']\n",
      "['Icaunais', 'Icaunaises']\n",
      "['Terrifortains', 'Terrifortaines']\n",
      "['Essonniens', 'Essonniennes']\n",
      "['Alto-Séquanais', 'Alto-Séquanaises', 'Altoséquanais', 'Altoséquanaises']\n",
      "['Séquano-Dionysiens', 'Séquano-Dionysiennes', 'Séquanodionysiens', 'Séquanodionysiennes']\n",
      "['Val-de-Marnais', 'Val-de-Marnaises']\n",
      "[\"Val d'Oisiens\", \"Val d'Oisiennes\"]\n",
      "['Guadeloupéens', 'Guadeloupéennes']\n",
      "['Martiniquais', 'Martiniquaises']\n",
      "['Guyanais', 'Guyanaises']\n",
      "['Réunionnais', 'Réunionnaises']\n",
      "['Saint-Pierrais', 'Miquelonnais', 'Saint-Pierraises', 'Miquelonnaises']\n",
      "['Mahorais', 'Mahoraises']\n",
      "['Taafiens', 'Taafiennes']\n",
      "['Wallisiens', 'Futuniens', 'Wallisiennes', 'Futuniennes']\n",
      "['Polynésiens', 'Polynésiennes', 'Francopolynésiens', 'Francopolynésiennes']\n",
      "['Néo-Calédoniens', 'Néo-Calédoniennes']\n"
     ]
    }
   ],
   "source": []
  },
  {
   "cell_type": "code",
   "execution_count": 31,
   "metadata": {},
   "outputs": [
    {
     "data": {
      "text/plain": [
       "106"
      ]
     },
     "execution_count": 31,
     "metadata": {},
     "output_type": "execute_result"
    }
   ],
   "source": [
    "len(gentiles)"
   ]
  },
  {
   "cell_type": "code",
   "execution_count": 32,
   "metadata": {},
   "outputs": [
    {
     "data": {
      "text/plain": [
       "106"
      ]
     },
     "execution_count": 32,
     "metadata": {},
     "output_type": "execute_result"
    }
   ],
   "source": [
    "len(communes)"
   ]
  },
  {
   "cell_type": "code",
   "execution_count": 130,
   "metadata": {},
   "outputs": [],
   "source": [
    "import pandas as pd\n",
    "pd.DataFrame(gentiles, index=None).to_csv(\"Data/scrapped/g3.csv\")\n",
    "pd.DataFrame(communes_, index=None).to_csv(\"Data/scrapped/c3.csv\")"
   ]
  }
 ],
 "metadata": {
  "kernelspec": {
   "display_name": "Python 3",
   "language": "python",
   "name": "python3"
  },
  "language_info": {
   "codemirror_mode": {
    "name": "ipython",
    "version": 3
   },
   "file_extension": ".py",
   "mimetype": "text/x-python",
   "name": "python",
   "nbconvert_exporter": "python",
   "pygments_lexer": "ipython3",
   "version": "3.6.10"
  }
 },
 "nbformat": 4,
 "nbformat_minor": 4
}
