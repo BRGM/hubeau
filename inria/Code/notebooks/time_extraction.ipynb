{
 "cells": [
  {
   "cell_type": "code",
   "execution_count": 1,
   "metadata": {},
   "outputs": [],
   "source": [
    "from python_heideltime import Heideltime\n",
    "import re"
   ]
  },
  {
   "cell_type": "code",
   "execution_count": 32,
   "metadata": {},
   "outputs": [],
   "source": [
    "#Heideltime\n",
    "def get_time(query):\n",
    "    \"\"\"\n",
    "    Extract dates from query\n",
    "    \"\"\"\n",
    "\n",
    "    heideltime_parser = Heideltime()\n",
    "    heideltime_parser.set_document_type('NEWS')\n",
    "    heideltime_parser.set_language('FRENCH')\n",
    "    heideltime_parser.set_interval_tagger('True')\n",
    "    result = heideltime_parser.parse(query)\n",
    "    print(result)\n",
    "    regex = \"<TIMEX3 tid=\\\".*?\\\" type=\\\"(.*?)\\\" value=\\\"(.*?)\\\">(.*?)</TIMEX3>\"\n",
    "    return re.findall(regex, result)"
   ]
  },
  {
   "cell_type": "code",
   "execution_count": 33,
   "metadata": {},
   "outputs": [
    {
     "name": "stdout",
     "output_type": "stream",
     "text": [
      "<?xml version=\"1.0\"?>\n",
      "<!DOCTYPE TimeML SYSTEM \"TimeML.dtd\">\n",
      "<TimeML>\n",
      "Quel est le niveau de la nappe phréatique à Orléans <TIMEX3 tid=\"t1\" type=\"DATE\" value=\"2021-07-06\">hier</TIMEX3> et <TIMEX3 tid=\"t2\" type=\"DATE\" value=\"2021-07-07\">aujourd'hui</TIMEX3>?\n",
      "</TimeML>\n",
      "\n",
      "\n"
     ]
    },
    {
     "data": {
      "text/plain": [
       "[('DATE', '2021-07-06', 'hier'), ('DATE', '2021-07-07', \"aujourd'hui\")]"
      ]
     },
     "execution_count": 33,
     "metadata": {},
     "output_type": "execute_result"
    }
   ],
   "source": [
    "get_time(\"Quel est le niveau de la nappe phréatique à Orléans hier et aujourd'hui?\")"
   ]
  },
  {
   "cell_type": "code",
   "execution_count": 34,
   "metadata": {},
   "outputs": [
    {
     "name": "stdout",
     "output_type": "stream",
     "text": [
      "<?xml version=\"1.0\"?>\n",
      "<!DOCTYPE TimeML SYSTEM \"TimeML.dtd\">\n",
      "<TimeML>\n",
      "A quelle hauteur se trouve l'eau souterraine sur la commune d'Orléans <TIMEX3 tid=\"t1\" type=\"DATE\" value=\"PRESENT_REF\">maintenant</TIMEX3>\n",
      "</TimeML>\n",
      "\n",
      "\n"
     ]
    },
    {
     "data": {
      "text/plain": [
       "[('DATE', 'PRESENT_REF', 'maintenant')]"
      ]
     },
     "execution_count": 34,
     "metadata": {},
     "output_type": "execute_result"
    }
   ],
   "source": [
    "get_time(\"A quelle hauteur se trouve l'eau souterraine sur la commune d'Orléans maintenant\")"
   ]
  },
  {
   "cell_type": "code",
   "execution_count": 35,
   "metadata": {},
   "outputs": [
    {
     "name": "stdout",
     "output_type": "stream",
     "text": [
      "<?xml version=\"1.0\"?>\n",
      "<!DOCTYPE TimeML SYSTEM \"TimeML.dtd\">\n",
      "<TimeML>\n",
      "A quelle hauteur se trouve l'eau souterraine sur la commune d'Orléans <TIMEX3 tid=\"t1\" type=\"DATE\" value=\"2021-W27\">cette semaine</TIMEX3>\n",
      "</TimeML>\n",
      "\n",
      "\n"
     ]
    },
    {
     "data": {
      "text/plain": [
       "[('DATE', '2021-W27', 'cette semaine')]"
      ]
     },
     "execution_count": 35,
     "metadata": {},
     "output_type": "execute_result"
    }
   ],
   "source": [
    "get_time(\"A quelle hauteur se trouve l'eau souterraine sur la commune d'Orléans cette semaine\")"
   ]
  },
  {
   "cell_type": "code",
   "execution_count": 36,
   "metadata": {},
   "outputs": [
    {
     "name": "stdout",
     "output_type": "stream",
     "text": [
      "<?xml version=\"1.0\"?>\n",
      "<!DOCTYPE TimeML SYSTEM \"TimeML.dtd\">\n",
      "<TimeML>\n",
      "A quelle hauteur se trouve l'eau souterraine sur la commune d'Orléans du <TIMEX3INTERVAL earliestBegin=\"2022-06-16T00:00:00\" latestBegin=\"2022-06-16T23:59:59\" earliestEnd=\"2022-06-26T00:00:00\" latestEnd=\"2022-06-26T23:59:59\"><TIMEX3 tid=\"t3\" type=\"DATE\" value=\"2022-06-16\">16</TIMEX3> au <TIMEX3 tid=\"t1\" type=\"DATE\" value=\"2022-06-26\">26 juin</TIMEX3></TIMEX3INTERVAL>\n",
      "</TimeML>\n",
      "\n",
      "\n"
     ]
    },
    {
     "data": {
      "text/plain": [
       "[('DATE', '2022-06-16', '16'), ('DATE', '2022-06-26', '26 juin')]"
      ]
     },
     "execution_count": 36,
     "metadata": {},
     "output_type": "execute_result"
    }
   ],
   "source": [
    "get_time(\"A quelle hauteur se trouve l'eau souterraine sur la commune d'Orléans du 16 au 26 juin\")"
   ]
  },
  {
   "cell_type": "code",
   "execution_count": 38,
   "metadata": {},
   "outputs": [
    {
     "name": "stdout",
     "output_type": "stream",
     "text": [
      "<?xml version=\"1.0\"?>\n",
      "<!DOCTYPE TimeML SYSTEM \"TimeML.dtd\">\n",
      "<TimeML>\n",
      "Depuis <TIMEX3 tid=\"t3\" type=\"DATE\" value=\"2015-06\">juin 2015</TIMEX3>, quelle est l'évolution du niveau moyen de la nappe au point 01937X0054/F ?\n",
      "</TimeML>\n",
      "\n",
      "\n"
     ]
    },
    {
     "data": {
      "text/plain": [
       "[('DATE', '2015-06', 'juin 2015')]"
      ]
     },
     "execution_count": 38,
     "metadata": {},
     "output_type": "execute_result"
    }
   ],
   "source": [
    "get_time(\"Depuis juin 2015, quelle est l'évolution du niveau moyen de la nappe au point 01937X0054/F ?\")"
   ]
  },
  {
   "cell_type": "code",
   "execution_count": 24,
   "metadata": {},
   "outputs": [
    {
     "name": "stdout",
     "output_type": "stream",
     "text": [
      "<?xml version=\"1.0\"?>\n",
      "<!DOCTYPE TimeML SYSTEM \"TimeML.dtd\">\n",
      "<TimeML>\n",
      "La guerre a duré de <TIMEX3INTERVAL earliestBegin=\"1962-01-01T00:00:00\" latestBegin=\"1962-12-31T23:59:59\" earliestEnd=\"1986-01-01T00:00:00\" latestEnd=\"1986-12-31T23:59:59\"><TIMEX3 tid=\"t1\" type=\"DATE\" value=\"1962\">1962</TIMEX3> à <TIMEX3 tid=\"t2\" type=\"DATE\" value=\"1986\">1986</TIMEX3></TIMEX3INTERVAL>\n",
      "</TimeML>\n",
      "\n",
      "\n"
     ]
    },
    {
     "data": {
      "text/plain": [
       "[('DATE', '1962', '1962'), ('DATE', '1986', '1986')]"
      ]
     },
     "execution_count": 24,
     "metadata": {},
     "output_type": "execute_result"
    }
   ],
   "source": [
    "get_time(\"La guerre a duré de 1962 à 1986\")"
   ]
  },
  {
   "cell_type": "code",
   "execution_count": null,
   "metadata": {},
   "outputs": [],
   "source": [
    "time = get_time(query)\n",
    "if len(time) == 1:\n",
    "    "
   ]
  }
 ],
 "metadata": {
  "kernelspec": {
   "display_name": "Python 3",
   "language": "python",
   "name": "python3"
  },
  "language_info": {
   "codemirror_mode": {
    "name": "ipython",
    "version": 3
   },
   "file_extension": ".py",
   "mimetype": "text/x-python",
   "name": "python",
   "nbconvert_exporter": "python",
   "pygments_lexer": "ipython3",
   "version": "3.6.10"
  }
 },
 "nbformat": 4,
 "nbformat_minor": 4
}
